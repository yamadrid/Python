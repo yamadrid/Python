{
  "nbformat": 4,
  "nbformat_minor": 0,
  "metadata": {
    "colab": {
      "name": "POO.ipynb",
      "provenance": [],
      "authorship_tag": "ABX9TyOMBXFt8hoXQtmfXKfm0Yvi",
      "include_colab_link": true
    },
    "kernelspec": {
      "name": "python3",
      "display_name": "Python 3"
    }
  },
  "cells": [
    {
      "cell_type": "markdown",
      "metadata": {
        "id": "view-in-github",
        "colab_type": "text"
      },
      "source": [
        "<a href=\"https://colab.research.google.com/github/yamadrid/Python/blob/main/Programaci%C3%B3n%20Orientada%20a%20Objetos.ipynb\" target=\"_parent\"><img src=\"https://colab.research.google.com/assets/colab-badge.svg\" alt=\"Open In Colab\"/></a>"
      ]
    },
    {
      "cell_type": "markdown",
      "metadata": {
        "id": "YjlVY2S-VMyA"
      },
      "source": [
        "# Programación Orientada a Objetos (POO)"
      ]
    },
    {
      "cell_type": "markdown",
      "metadata": {
        "id": "qRtqhdbyVTmx"
      },
      "source": [
        "La programación orientada a objetos (POO) es un método de estructurar un programa agrupando propiedades y comportamientos relacionados en objetos individuales. Conceptualmente, los objetos son como los componentes de un sistema. \n",
        "\n",
        "La programación orientada a objetos es un paradigma de programación que proporciona un medio para estructurar programas de modo que las propiedades y los comportamientos se agrupen en objetos individuales.\n",
        "\n",
        "Por ejemplo, un objeto podría representar a una persona con propiedades como nombre, edad y dirección y comportamientos como caminar, hablar, respirar y correr. O podría representar un correo electrónico con propiedades como una lista de destinatarios, asunto y cuerpo y comportamientos como agregar archivos adjuntos y enviar.\n",
        "\n",
        "Dicho de otra manera, la programación orientada a objetos es un enfoque para modelar cosas concretas del mundo real, como automóviles, así como relaciones entre cosas, como empresas y empleados, estudiantes y profesores, etc. POO modela entidades del mundo real como objetos de software que tienen algunos datos asociados con ellos y pueden realizar ciertas funciones."
      ]
    },
    {
      "cell_type": "markdown",
      "metadata": {
        "id": "7j9ZF_uyi7BO"
      },
      "source": [
        "## Definir una clase en Python"
      ]
    },
    {
      "cell_type": "markdown",
      "metadata": {
        "id": "s4pJlYH9i9ms"
      },
      "source": [
        "Todas las definiciones de clase comienzan con la palabra clave `class`, seguida del nombre de la clase y dos puntos. Cualquier código que tenga sangría debajo de la definición de la clase se considera parte del cuerpo de la clase.\n",
        "\n",
        "A continuación, se muestra un ejemplo de una clase de perros:"
      ]
    },
    {
      "cell_type": "code",
      "metadata": {
        "id": "_ok50FenVJBK"
      },
      "source": [
        "class Dog:\n",
        "    pass"
      ],
      "execution_count": null,
      "outputs": []
    },
    {
      "cell_type": "markdown",
      "metadata": {
        "id": "ICHGW3EBnmpj"
      },
      "source": [
        "El cuerpo de la clase Dog consta de una sola declaración: la palabra clave `pass` que se usa a menudo como un marcador de posición que indica dónde irá eventualmente el código. Le permite ejecutar este código sin que Python arroje un error."
      ]
    },
    {
      "cell_type": "markdown",
      "metadata": {
        "id": "rpXm1dS-oaeN"
      },
      "source": [
        "La clase Dog no es muy interesante en este momento, así que vamos a arreglarla un poco definiendo algunas propiedades que todos los objetos Dog deberían tener. Hay una serie de propiedades entre las que podemos elegir, incluido el nombre, la edad, el color del pelaje y la raza. Para simplificar las cosas, solo usaremos el nombre y la edad.\n",
        "\n",
        "Las propiedades que deben tener todos los objetos Dog se definen en un método llamado `__init__()` Cada vez que se crea un nuevo objeto Dog, `__init__()` establece el estado inicial del objeto asignando los valores de las propiedades del objeto. Es decir, `__init__()` inicializa cada nueva instancia de la clase.\n",
        "\n",
        "Puede dar `__init__()` cualquier número de parámetros, pero el primer parámetro siempre será una variable llamada self. Cuando se crea una nueva instancia de clase, la instancia se pasa automáticamente al parámetro self en `__init__()` para que se puedan definir nuevos atributos en el objeto.\n",
        "\n",
        "Actualicemos la clase Dog con un método `__init__()` que crea atributos `name` y `age`:"
      ]
    },
    {
      "cell_type": "code",
      "metadata": {
        "id": "6qOMvzr7xXJl"
      },
      "source": [
        "class Dog:\n",
        "    def __init__(self, name, age):\n",
        "        self.name = name\n",
        "        self.age = age"
      ],
      "execution_count": null,
      "outputs": []
    },
    {
      "cell_type": "markdown",
      "metadata": {
        "id": "HlaRx2NmpJLy"
      },
      "source": [
        "Observe que la firma del método `__init__()` tiene una sangría de cuatro espacios. El cuerpo del método está sangrado con ocho espacios. Esta sangría es de vital importancia. Le dice a Python que el método `__init__()` pertenece a la clase Dog.\n",
        "\n",
        "En el cuerpo de `__init__()`, hay dos declaraciones que usan la variable self:"
      ]
    },
    {
      "cell_type": "markdown",
      "metadata": {
        "id": "ksZb0E5szK2g"
      },
      "source": [
        "*   `self.name = name` crea un atributo llamado nombre y le asigna el valor del parámetro de nombre.\n",
        "*   `self.age = age` crea un atributo llamado edad y le asigna el valor del parámetro edad."
      ]
    },
    {
      "cell_type": "markdown",
      "metadata": {
        "id": "-ELbgisBzqCG"
      },
      "source": [
        "Los atributos creados en `__init__()` se denominan atributos de instancia. El valor de un atributo de instancia es específico de una instancia particular de la clase. Todos los objetos Dog tienen un nombre y una edad, pero los valores de los atributos de nombre y edad variarán según la instancia de Dog.\n",
        "\n",
        "Por otro lado, los atributos de clase son atributos que tienen el mismo valor para todas las instancias de clase. Puede definir un atributo de clase asignando un valor a un nombre de variable fuera de `__init__()`.\n",
        "\n",
        "Por ejemplo, la siguiente clase Dog tiene un atributo de clase llamado especie con el valor \"Canis familiaris\":"
      ]
    },
    {
      "cell_type": "code",
      "metadata": {
        "id": "7ar7F4Y20DI4"
      },
      "source": [
        "class Dog:\n",
        "    # Class attribute\n",
        "    species = \"Canis familiaris\"\n",
        "\n",
        "    def __init__(self, name, age):\n",
        "        self.name = name\n",
        "        self.age = age"
      ],
      "execution_count": null,
      "outputs": []
    },
    {
      "cell_type": "markdown",
      "metadata": {
        "id": "1GdG72Oo0Hd-"
      },
      "source": [
        "Los atributos de clase se definen directamente debajo de la primera línea del nombre de la clase y están sangrados con cuatro espacios. Siempre se les debe asignar un valor inicial. Cuando se crea una instancia de la clase, los atributos de la clase se crean automáticamente y se asignan a sus valores iniciales.\n",
        "\n",
        "Utilice atributos de clase para definir propiedades que deberían tener el mismo valor para cada instancia de clase. Utilice atributos de instancia para propiedades que varíen de una instancia a otra."
      ]
    },
    {
      "cell_type": "markdown",
      "metadata": {
        "id": "C3oHV5xg0I2g"
      },
      "source": [
        "## Crear una instancia de un objeto en Python"
      ]
    },
    {
      "cell_type": "markdown",
      "metadata": {
        "id": "Oy8nvYQj0283"
      },
      "source": [
        "Usamos lo siguiente"
      ]
    },
    {
      "cell_type": "code",
      "metadata": {
        "id": "mZXY20831Hn-"
      },
      "source": [
        "class Dog:\n",
        "  pass"
      ],
      "execution_count": null,
      "outputs": []
    },
    {
      "cell_type": "markdown",
      "metadata": {
        "id": "D3urGmlC1KFc"
      },
      "source": [
        "Esto crea una nueva clase Dog sin atributos ni métodos.\n",
        "\n",
        "La creación de un nuevo objeto a partir de una clase se denomina instanciar un objeto. Puede crear una instancia de un nuevo objeto Dog escribiendo el nombre de la clase, seguido de abrir y cerrar paréntesis:"
      ]
    },
    {
      "cell_type": "code",
      "metadata": {
        "colab": {
          "base_uri": "https://localhost:8080/"
        },
        "id": "WIlo1tCN1RRt",
        "outputId": "30c6e8a2-74d3-4915-fb65-576a47e69965"
      },
      "source": [
        "Dog()"
      ],
      "execution_count": null,
      "outputs": [
        {
          "output_type": "execute_result",
          "data": {
            "text/plain": [
              "<__main__.Dog at 0x7fadcab9e710>"
            ]
          },
          "metadata": {
            "tags": []
          },
          "execution_count": 6
        }
      ]
    },
    {
      "cell_type": "markdown",
      "metadata": {
        "id": "2XoiY2EI1O_W"
      },
      "source": [
        "Ahora tiene un nuevo objeto Perro en *0x7fadcab9e710*. Esta cadena de letras y números de aspecto divertido es una dirección de memoria que indica dónde se almacena el objeto Perro en la memoria de su computadora. \n",
        "\n",
        "Ahora crea una instancia de un segundo objeto Dog:"
      ]
    },
    {
      "cell_type": "code",
      "metadata": {
        "id": "1FQN6D461pS2"
      },
      "source": [
        "Dog()"
      ],
      "execution_count": null,
      "outputs": []
    },
    {
      "cell_type": "markdown",
      "metadata": {
        "id": "SwVZ-opk1qFT"
      },
      "source": [
        "La nueva instancia de Dog está ubicada en una dirección de memoria diferente. Esto se debe a que es una instancia completamente nueva y es completamente única desde el primer objeto Dog que instanciaste.\n",
        "\n",
        "Para ver esto de otra manera, usamos lo siguiente:"
      ]
    },
    {
      "cell_type": "code",
      "metadata": {
        "id": "shgDjNCo1xeR"
      },
      "source": [
        "a = Dog()\n",
        "b = Dog()\n",
        "a == b"
      ],
      "execution_count": null,
      "outputs": []
    },
    {
      "cell_type": "markdown",
      "metadata": {
        "id": "1Ev-coVH15YP"
      },
      "source": [
        "En este código, crea dos nuevos objetos Dog y los asigna a las variables ay b. Cuando compara ayb usando el operador `==`, el resultado es `False`. Aunque a y b son instancias de la clase Dog, representan dos objetos distintos en la memoria."
      ]
    },
    {
      "cell_type": "markdown",
      "metadata": {
        "id": "DZS1Fh-_2FYd"
      },
      "source": [
        "## Atributos de clase e instancia"
      ]
    },
    {
      "cell_type": "markdown",
      "metadata": {
        "id": "05aDdAPp2Gig"
      },
      "source": [
        "Ahora creamos una nueva clase Dog con un atributo de clase llamado `species` y dos atributos de instancia llamados `name` y `age`:\n",
        "\n"
      ]
    },
    {
      "cell_type": "code",
      "metadata": {
        "id": "8xZYXrDaF6Sy"
      },
      "source": [
        "class Dog:\n",
        "  species = \"Canis familiaris\"\n",
        "  \n",
        "  def __init__(self, name, age):\n",
        "    self.name = name\n",
        "    self.age = age"
      ],
      "execution_count": null,
      "outputs": []
    },
    {
      "cell_type": "markdown",
      "metadata": {
        "id": "WnJ3cl5LF-um"
      },
      "source": [
        "Para crear instancias de objetos de esta clase Dog, debe proporcionar valores para el nombre y la edad. Si no es así, Python genera un `TypeError`:"
      ]
    },
    {
      "cell_type": "code",
      "metadata": {
        "id": "_m5JCC-CGLl4"
      },
      "source": [
        "Dog()"
      ],
      "execution_count": null,
      "outputs": []
    },
    {
      "cell_type": "markdown",
      "metadata": {
        "id": "4HVzgCtyGNxw"
      },
      "source": [
        "Para pasar argumentos a los parámetros `name` y `age`, colocamos los valores entre paréntesis después del nombre de la clase:"
      ]
    },
    {
      "cell_type": "code",
      "metadata": {
        "id": "6HMbvpoqGVo8"
      },
      "source": [
        "buddy = Dog(\"Buddy\", 9)\n",
        "miles = Dog(\"Miles\", 4)"
      ],
      "execution_count": null,
      "outputs": []
    },
    {
      "cell_type": "markdown",
      "metadata": {
        "id": "kz7Ii1TcGUIB"
      },
      "source": [
        "Esto crea dos nuevas instancias Dog: una para un perro de nueve años llamado Buddy y otra para un perro de cuatro años llamado Miles.\n",
        "\n",
        "El método de Dogla clase `__init__()` tiene tres parámetros, entonces, ¿por qué solo se le pasan dos argumentos en el ejemplo?\n",
        "\n",
        "Cuando Dog crea una instancia de un objeto, Python crea una nueva instancia y la pasa al primer parámetro de `__init__()`. Básicamente, esto elimina el parámetro `self`, por lo que solo debemos preocuparnos por los parámetros `name` y `age`.\n",
        "\n",
        "Después de crear las instancias Dog, podemos acceder a sus atributos de instancia mediante la notación de puntos :"
      ]
    },
    {
      "cell_type": "code",
      "metadata": {
        "id": "dY9LtQhDGs9E"
      },
      "source": [
        "print(buddy.name)\n",
        "print(buddy.age)\n",
        "print(miles.name)\n",
        "print(miles.age)"
      ],
      "execution_count": null,
      "outputs": []
    },
    {
      "cell_type": "markdown",
      "metadata": {
        "id": "UvGXTGA1G6KH"
      },
      "source": [
        "Podemos acceder a los atributos de clase de la misma manera:"
      ]
    },
    {
      "cell_type": "code",
      "metadata": {
        "id": "9Y0PlDApG4TX"
      },
      "source": [
        "buddy.species"
      ],
      "execution_count": null,
      "outputs": []
    },
    {
      "cell_type": "markdown",
      "metadata": {
        "id": "1rp5iYrUG_4U"
      },
      "source": [
        "Una de las mayores ventajas de usar clases para organizar datos es que se garantiza que las instancias tendrán los atributos esperados. Todos los casos Dog tienen los atributos `species`, `name` y `age`, para que pueda utilizar esos atributos con confianza, sabiendo que siempre van a devolver un valor.\n",
        "\n",
        "Aunque se garantiza la existencia de los atributos, sus valores se pueden cambiar dinámicamente:"
      ]
    },
    {
      "cell_type": "code",
      "metadata": {
        "id": "SKV_fs4_HL9Z"
      },
      "source": [
        "print(buddy.age = 10)\n",
        "print(buddy.age)\n",
        "\n",
        "miles.species = \"Felis silvestris\"\n",
        "print(miles.species)"
      ],
      "execution_count": null,
      "outputs": []
    },
    {
      "cell_type": "markdown",
      "metadata": {
        "id": "Z251DHDpHVoW"
      },
      "source": [
        "## Métodos de instancia"
      ]
    },
    {
      "cell_type": "markdown",
      "metadata": {
        "id": "gH9vGhauHWpK"
      },
      "source": [
        "Los métodos de instancia son funciones que se definen dentro de una clase y solo se pueden llamar desde una instancia de esa clase. Al igual que `__init__()`, el primer parámetro de un método de instancia es siempre self."
      ]
    },
    {
      "cell_type": "code",
      "metadata": {
        "id": "uwzJsfDKHZ3f"
      },
      "source": [
        "class Dog:\n",
        "    species = \"Canis familiaris\"\n",
        "\n",
        "    def __init__(self, name, age):\n",
        "        self.name = name\n",
        "        self.age = age\n",
        "\n",
        "    # Instance method\n",
        "    def description(self):\n",
        "        return f\"{self.name} is {self.age} years old\"\n",
        "\n",
        "    # Another instance method\n",
        "    def speak(self, sound):\n",
        "        return f\"{self.name} says {sound}\""
      ],
      "execution_count": null,
      "outputs": []
    },
    {
      "cell_type": "markdown",
      "metadata": {
        "id": "1n_24fFcHga1"
      },
      "source": [
        "Esta clase Dog tiene dos métodos de instancia:\n",
        "\n",
        "1.  `description()` devuelve una cadena que muestra el nombre y la edad del perro.\n",
        "2.  `speak()` tiene un parámetro llamado sound y devuelve una cadena que contiene el nombre del perro y el sonido que hace el perro."
      ]
    },
    {
      "cell_type": "code",
      "metadata": {
        "id": "W8OswKIbHyhb"
      },
      "source": [
        "miles = Dog(\"Miles\", 4)\n",
        "miles.description()\n",
        "\n",
        "miles.speak(\"Woof Woof\")\n",
        "\n",
        "miles.speak(\"Bow Wow\")"
      ],
      "execution_count": null,
      "outputs": []
    },
    {
      "cell_type": "markdown",
      "metadata": {
        "id": "vMHTgcKKH6n3"
      },
      "source": [
        "En la clase Dog anterior , `description()` devuelve una cadena que contiene información sobre la instancia Dog de miles. Al escribir sus propias clases, es una buena idea tener un método que devuelva una cadena que contenga información útil sobre una instancia de la clase. Sin embargo, `description()` no es la forma más pitónica de hacer esto.\n",
        "\n",
        "Cuando creamos un objeto list, podemos usar `print()` para mostrar una cadena que se parece a la lista:"
      ]
    },
    {
      "cell_type": "code",
      "metadata": {
        "id": "gY3tTraXILyX"
      },
      "source": [
        "names = [\"Fletcher\", \"David\", \"Dan\"]\n",
        "print(names)"
      ],
      "execution_count": null,
      "outputs": []
    },
    {
      "cell_type": "markdown",
      "metadata": {
        "id": "A4YMCKzeIN-k"
      },
      "source": [
        "Veamos qué sucede cuando hacemos `print()` en el objeto miles:"
      ]
    },
    {
      "cell_type": "markdown",
      "metadata": {
        "id": "7l1ALw5tIWa1"
      },
      "source": [
        "Cuando hacemos `print(miles)`, se recibe un mensaje de aspecto críptico que le dice que miles es un objeto Dog en la dirección de memoria *0x00aeff70*. Este mensaje no es muy útil. Podemos cambiar lo que se imprime definiendo un método de instancia especial llamado `__str__()`.\n",
        "\n",
        "En la ventana del editor, cambiamos el nombre del método de la clase Dog `description()` a `__str__()`:"
      ]
    },
    {
      "cell_type": "code",
      "metadata": {
        "id": "EwCEevsWIxhm"
      },
      "source": [
        "class Dog:\n",
        "    species = \"Canis familiaris\"\n",
        "\n",
        "    def __init__(self, name, age):\n",
        "        self.name = name\n",
        "        self.age = age\n",
        "\n",
        "    # Replace .description() with __str__()\n",
        "    def __str__(self):\n",
        "        return f\"{self.name} is {self.age} years old\"\n",
        "\n",
        "    # Another instance method\n",
        "    def speak(self, sound):\n",
        "        return f\"{self.name} says {sound}\""
      ],
      "execution_count": null,
      "outputs": []
    },
    {
      "cell_type": "markdown",
      "metadata": {
        "id": "w8K7SkKSI1d9"
      },
      "source": [
        "Ahora, cuando usamos `print(miles)`, se obtiene un resultado mucho más amigable:"
      ]
    },
    {
      "cell_type": "code",
      "metadata": {
        "id": "eFT8EPxiI54E"
      },
      "source": [
        "miles = Dog(\"Miles\", 4)\n",
        "print(miles)"
      ],
      "execution_count": null,
      "outputs": []
    },
    {
      "cell_type": "markdown",
      "metadata": {
        "id": "6mYNaM3gI9sv"
      },
      "source": [
        "Los métodos como `__init__()` y `__str__()` se llaman métodos dunder porque comienzan y terminan con guiones bajos dobles. Hay muchos métodos de dunder que puede utilizar para personalizar clases en Python. Aunque es un tema demasiado avanzado para un notebook principiante de Python, comprender los métodos dunder es una parte importante del dominio de la programación orientada a objetos en Python."
      ]
    },
    {
      "cell_type": "markdown",
      "metadata": {
        "id": "x4rcVg3oJKNH"
      },
      "source": [
        "## Heredar de otras clases en Python"
      ]
    },
    {
      "cell_type": "markdown",
      "metadata": {
        "id": "dTHYpeFHJMe1"
      },
      "source": [
        "La herencia es el proceso mediante el cual una clase adquiere los atributos y métodos de otra. Las clases recién formadas se denominan clases secundarias y las clases de las que se derivan las clases secundarias se denominan clases principales .\n",
        "\n",
        "Las clases secundarias pueden anular o ampliar los atributos y métodos de las clases principales. En otras palabras, las clases secundarias heredan todos los atributos y métodos de los padres, pero también pueden especificar atributos y métodos que son únicos para ellos.\n",
        "\n",
        "Aunque la analogía no es perfecta, podemos pensar en la herencia de objetos como una especie de herencia genética.\n",
        "\n",
        "Es posible que haya heredado el color de su cabello de su madre. Es un atributo con el que naciste. Digamos que decides teñir tu cabello de morado. Suponiendo que tu madre no tiene el pelo morado, acabas de anular el atributo de color de pelo que heredaste de tu madre."
      ]
    },
    {
      "cell_type": "markdown",
      "metadata": {
        "id": "zhTjRNV2JpFG"
      },
      "source": [
        "Imaginemos por un momento que estamos en un parque para perros. Hay muchos perros de diferentes razas en el parque, todos participando en diversos comportamientos caninos.\n",
        "\n",
        "Supongamos ahora que desea modelar el parque para perros con clases de Python. La clase Dog que escribimos en la sección anterior puede distinguir perros por nombre y edad, pero no por raza.\n",
        "\n",
        "Podemos modificar la clase Dog en la ventana del editor agregando un atributo `breed`:"
      ]
    },
    {
      "cell_type": "code",
      "metadata": {
        "id": "b5cJlr0MJ3GU"
      },
      "source": [
        "class Dog:\n",
        "    species = \"Canis familiaris\"\n",
        "\n",
        "    def __init__(self, name, age, breed):\n",
        "        self.name = name\n",
        "        self.age = age\n",
        "        self.breed = breed"
      ],
      "execution_count": null,
      "outputs": []
    },
    {
      "cell_type": "markdown",
      "metadata": {
        "id": "FrmVR0OvJ57D"
      },
      "source": [
        "Los métodos de instancia definidos anteriormente se omiten aquí porque no son importantes para esta discusión."
      ]
    },
    {
      "cell_type": "code",
      "metadata": {
        "id": "luUEDH6zJ7Mv"
      },
      "source": [
        "miles = Dog(\"Miles\", 4, \"Jack Russell Terrier\")\n",
        "buddy = Dog(\"Buddy\", 9, \"Dachshund\")\n",
        "jack = Dog(\"Jack\", 3, \"Bulldog\")\n",
        "jim = Dog(\"Jim\", 5, \"Bulldog\")"
      ],
      "execution_count": null,
      "outputs": []
    },
    {
      "cell_type": "markdown",
      "metadata": {
        "id": "fHdc0X0PKASJ"
      },
      "source": [
        "Cada raza de perro tiene comportamientos ligeramente diferentes. Por ejemplo, los bulldogs tienen un ladrido bajo que suena como guau, pero los perros salchicha tienen un ladrido más agudo que suena más como un ladrido.\n",
        "\n",
        "Usando solo la clase Dog, debemos proporcionar una cadena para el argumento `sound` de `speak()` cada vez que lo llame en una instancia Dog:"
      ]
    },
    {
      "cell_type": "code",
      "metadata": {
        "id": "Fvf_aY_2KL3j"
      },
      "source": [
        "buddy.speak(\"Yap\")\n",
        "jim.speak(\"Woof\")\n",
        "jack.speak(\"Woof\")"
      ],
      "execution_count": null,
      "outputs": []
    },
    {
      "cell_type": "markdown",
      "metadata": {
        "id": "JtwnLluNKXl4"
      },
      "source": [
        "Pasar una cadena a cada llamada a `speak()` es repetitivo e inconveniente. Además, la cadena que representa el sonido que hace cada instancia Dog debe estar determinada por su `breed` atributo, pero aquí debemos pasar manualmente la cadena correcta a `speak()` cada vez que se llama.\n",
        "\n",
        "Puede simplificar la experiencia de trabajar con la clase Dog creando una clase infantil para cada raza de perro. Esto le permite ampliar la funcionalidad que hereda cada clase secundaria, incluida la especificación de un argumento predeterminado para `speak()`."
      ]
    },
    {
      "cell_type": "markdown",
      "metadata": {
        "id": "i999AcBXKnOP"
      },
      "source": [
        "### Clases para padres frente a clases para niños"
      ]
    },
    {
      "cell_type": "markdown",
      "metadata": {
        "id": "TyzvZAhqKtE0"
      },
      "source": [
        "Creemos una clase hijo para cada una de las tres razas mencionadas anteriormente: Jack Russell Terrier, Dachshund y Bulldog."
      ]
    },
    {
      "cell_type": "code",
      "metadata": {
        "id": "y7pSbLZQKwhA"
      },
      "source": [
        "class JackRussellTerrier(Dog):\n",
        "    pass\n",
        "\n",
        "class Dachshund(Dog):\n",
        "    pass\n",
        "\n",
        "class Bulldog(Dog):\n",
        "    pass"
      ],
      "execution_count": null,
      "outputs": []
    },
    {
      "cell_type": "markdown",
      "metadata": {
        "id": "AGcywPJlK6FQ"
      },
      "source": [
        "Con las clases secundarias definidas, ahora puede instanciar algunos perros de razas específicas en la ventana interactiva:"
      ]
    },
    {
      "cell_type": "code",
      "metadata": {
        "id": "ypRQ4cZDK70E"
      },
      "source": [
        "miles = JackRussellTerrier(\"Miles\", 4)\n",
        "buddy = Dachshund(\"Buddy\", 9)\n",
        "jack = Bulldog(\"Jack\", 3)\n",
        "jim = Bulldog(\"Jim\", 5)"
      ],
      "execution_count": null,
      "outputs": []
    },
    {
      "cell_type": "markdown",
      "metadata": {
        "id": "xHQOFSpBLAUC"
      },
      "source": [
        "Las instancias de clases secundarias heredan todos los atributos y métodos de la clase principal:"
      ]
    },
    {
      "cell_type": "code",
      "metadata": {
        "id": "_RofOFatLBzA"
      },
      "source": [
        "print(miles.species)\n",
        "print(buddy.name)\n",
        "print(jack)\n",
        "print(jim.speak(\"Woof\"))"
      ],
      "execution_count": null,
      "outputs": []
    },
    {
      "cell_type": "markdown",
      "metadata": {
        "id": "-eLzZ2GyLOya"
      },
      "source": [
        "Para determinar a qué clase pertenece un objeto dado, puede usar el integrado `type()`:"
      ]
    },
    {
      "cell_type": "code",
      "metadata": {
        "id": "ZL0NX92DLRP8"
      },
      "source": [
        "type(miles)"
      ],
      "execution_count": null,
      "outputs": []
    },
    {
      "cell_type": "markdown",
      "metadata": {
        "id": "Qf-zhPxWLquV"
      },
      "source": [
        "¿Qué sucede si deseamos determinar si miles también es una instancia de la clase Dog? Podemos hacer esto con el integrado `isinstance()`:"
      ]
    },
    {
      "cell_type": "code",
      "metadata": {
        "id": "auHrpmccLxcZ"
      },
      "source": [
        "isinstance(miles, Dog)"
      ],
      "execution_count": null,
      "outputs": []
    },
    {
      "cell_type": "markdown",
      "metadata": {
        "id": "JYQ-u5q_L4QL"
      },
      "source": [
        "Observamos que `isinstance()` toma dos argumentos, un objeto y una clase. En el ejemplo anterior, `isinstance()` comprueba si miles es una instancia de la clase Dog y devuelve `True`."
      ]
    },
    {
      "cell_type": "markdown",
      "metadata": {
        "id": "N31Uyhb1MZX8"
      },
      "source": [
        "### Personalización de la funcionalidad de una clase principal"
      ]
    },
    {
      "cell_type": "markdown",
      "metadata": {
        "id": "Nuu9JzjiMhaq"
      },
      "source": [
        "Dado que las diferentes razas de perros tienen ladridos ligeramente diferentes, desea proporcionar un valor predeterminado para el soundargumento de sus respectivos `speak()` métodos. Para hacer esto, debe anular `speak()` la definición de clase para cada raza.\n",
        "\n",
        "Para anular un método definido en la clase principal, defina un método con el mismo nombre en la clase secundaria. Así es como se ve eso para la clase JackRussellTerrier:"
      ]
    },
    {
      "cell_type": "code",
      "metadata": {
        "id": "34PKrJKwMsan"
      },
      "source": [
        "class JackRussellTerrier(Dog):\n",
        "    def speak(self, sound=\"Arf\"):\n",
        "        return f\"{self.name} says {sound}\""
      ],
      "execution_count": null,
      "outputs": []
    },
    {
      "cell_type": "markdown",
      "metadata": {
        "id": "hks4sHMWMu-L"
      },
      "source": [
        "Ahora `speak()` está definido en la JackRussellTerrierclase con el argumento predeterminado soundestablecido en \"Arf\"."
      ]
    },
    {
      "cell_type": "code",
      "metadata": {
        "id": "DJgwaty7M1SP"
      },
      "source": [
        "miles = JackRussellTerrier(\"Miles\", 4)\n",
        "miles.speak()"
      ],
      "execution_count": null,
      "outputs": []
    },
    {
      "cell_type": "markdown",
      "metadata": {
        "id": "G170k8KKM9dx"
      },
      "source": [
        "A veces los perros hacen diferentes ladridos, por lo que si Miles se enoja y gruñe, aún puede llamar `speak()` con un sonido diferente:"
      ]
    },
    {
      "cell_type": "code",
      "metadata": {
        "id": "UhsvacimNAk-"
      },
      "source": [
        "miles.speak(\"Grrr\")"
      ],
      "execution_count": null,
      "outputs": []
    },
    {
      "cell_type": "markdown",
      "metadata": {
        "id": "tId6loolNHB3"
      },
      "source": [
        "Una cosa a tener en cuenta acerca de la herencia de clases es que los cambios en la clase principal se propagan automáticamente a las clases secundarias. Esto ocurre siempre que el atributo o método que se cambia no se anule en la clase secundaria."
      ]
    },
    {
      "cell_type": "markdown",
      "metadata": {
        "id": "qYz1oeUJN_t0"
      },
      "source": [
        "## Encapsulamiento"
      ]
    },
    {
      "cell_type": "markdown",
      "metadata": {
        "id": "daOlU1sxOBbM"
      },
      "source": [
        "Usando POO en Python, podemos restringir el acceso a métodos y variables. Esto evita que los datos se modifiquen directamente, lo que se denomina encapsulación. En Python, denotamos atributos privados usando un subrayado como prefijo, es decir, simple `_` o doble `__`."
      ]
    },
    {
      "cell_type": "code",
      "metadata": {
        "id": "fjCaY7D8OXdg"
      },
      "source": [
        "class Computer:\n",
        "\n",
        "    def __init__(self):\n",
        "        self.__maxprice = 900\n",
        "\n",
        "    def sell(self):\n",
        "        print(\"Selling Price: {}\".format(self.__maxprice))\n",
        "\n",
        "    def setMaxPrice(self, price):\n",
        "        self.__maxprice = price"
      ],
      "execution_count": 1,
      "outputs": []
    },
    {
      "cell_type": "markdown",
      "metadata": {
        "id": "M3yhksXxOYkw"
      },
      "source": [
        "Usando esta clase:"
      ]
    },
    {
      "cell_type": "code",
      "metadata": {
        "colab": {
          "base_uri": "https://localhost:8080/"
        },
        "id": "zfRUhSymOZ-S",
        "outputId": "9f0835f0-ac04-48a0-bc60-f37217166d6f"
      },
      "source": [
        "c = Computer()\n",
        "c.sell()\n",
        "\n",
        "# change the price\n",
        "c.__maxprice = 1000\n",
        "c.sell()\n",
        "\n",
        "# using setter function\n",
        "c.setMaxPrice(1000)\n",
        "c.sell()"
      ],
      "execution_count": 2,
      "outputs": [
        {
          "output_type": "stream",
          "text": [
            "Selling Price: 900\n",
            "Selling Price: 900\n",
            "Selling Price: 1000\n"
          ],
          "name": "stdout"
        }
      ]
    },
    {
      "cell_type": "markdown",
      "metadata": {
        "id": "bEDpimRlOksW"
      },
      "source": [
        "Usamos el método `__init__()` para almacenar el precio máximo de venta de Computer. Intentamos modificar el precio. Sin embargo, no podemos cambiarlo porque Python trata el `__maxprice` como atributos privados.\n",
        "\n",
        "Como se muestra, para cambiar el valor, tenemos que usar una función de establecimiento, es decir, `setMaxPrice()` que toma el precio como parámetro."
      ]
    },
    {
      "cell_type": "markdown",
      "metadata": {
        "id": "SsAlRstbOtbg"
      },
      "source": [
        "## Polimorfismo"
      ]
    },
    {
      "cell_type": "markdown",
      "metadata": {
        "id": "k0lZRGjDOwYy"
      },
      "source": [
        "El polimorfismo es una capacidad (en POO) de usar una interfaz común para múltiples formularios (tipos de datos).\n",
        "\n",
        "Supongamos que necesitamos colorear una forma, hay varias opciones de forma (rectángulo, cuadrado, círculo). Sin embargo, podríamos usar el mismo método para colorear cualquier forma. Este concepto se llama polimorfismo."
      ]
    },
    {
      "cell_type": "code",
      "metadata": {
        "id": "xM7OtYSWO0vN"
      },
      "source": [
        "class Parrot:\n",
        "\n",
        "    def fly(self):\n",
        "        print(\"Parrot can fly\")\n",
        "    \n",
        "    def swim(self):\n",
        "        print(\"Parrot can't swim\")\n",
        "\n",
        "class Penguin:\n",
        "\n",
        "    def fly(self):\n",
        "        print(\"Penguin can't fly\")\n",
        "    \n",
        "    def swim(self):\n",
        "        print(\"Penguin can swim\")"
      ],
      "execution_count": null,
      "outputs": []
    },
    {
      "cell_type": "markdown",
      "metadata": {
        "id": "g6WHhjJeO3yT"
      },
      "source": [
        "Ahora definimos una interface común"
      ]
    },
    {
      "cell_type": "code",
      "metadata": {
        "id": "d6ER5cQLO6Gz"
      },
      "source": [
        "# common interface\n",
        "def flying_test(bird):\n",
        "    bird.fly()"
      ],
      "execution_count": null,
      "outputs": []
    },
    {
      "cell_type": "markdown",
      "metadata": {
        "id": "W67zEhDcO84k"
      },
      "source": [
        "Y como resultado:"
      ]
    },
    {
      "cell_type": "code",
      "metadata": {
        "id": "mjNl_SvoO_hn"
      },
      "source": [
        "#instantiate objects\n",
        "blu = Parrot()\n",
        "peggy = Penguin()\n",
        "\n",
        "# passing the object\n",
        "flying_test(blu)\n",
        "flying_test(peggy)"
      ],
      "execution_count": null,
      "outputs": []
    },
    {
      "cell_type": "markdown",
      "metadata": {
        "id": "bfRxjmmKPChJ"
      },
      "source": [
        "En el programa anterior, definimos dos clasesblu y éggy. Cada uno de ellos tiene un método fly() común . Sin embargo, sus funciones son diferentes.\n",
        "\n",
        "Para usar el polimorfismo, creamos una interfaz común, es decir, una función flying_test() que toma cualquier objeto y llama al método fly() del objeto. Así, cuando pasamos los objetos elblu y peggy en la función `flying_test()`, se ejecutó eficazmente."
      ]
    },
    {
      "cell_type": "markdown",
      "metadata": {
        "id": "hHd32LSePVeH"
      },
      "source": [
        "\n",
        "\n",
        ">Nota: Este tutorial es una adaptación de:  [Object-Oriented Programming (OOP) in Python 3](https://realpython.com/python3-object-oriented-programming/)\n",
        "\n"
      ]
    }
  ]
}