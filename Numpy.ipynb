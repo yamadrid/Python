{
  "nbformat": 4,
  "nbformat_minor": 0,
  "metadata": {
    "colab": {
      "name": "Numpy.ipynb",
      "provenance": [],
      "collapsed_sections": [
        "hSmnSnMMJvig",
        "5vrdsePRJvii",
        "m-CigCx5Jvik",
        "y1M7xOD5Jvio",
        "EI3qUIyvNn95",
        "8AlQZYgcU3kK",
        "D8qOwe5SbXUh",
        "FgOE2-rnbXUi"
      ],
      "authorship_tag": "ABX9TyOJX8RtnA9lJi3Rjg99s1+s",
      "include_colab_link": true
    },
    "kernelspec": {
      "name": "python3",
      "display_name": "Python 3"
    }
  },
  "cells": [
    {
      "cell_type": "markdown",
      "metadata": {
        "id": "view-in-github",
        "colab_type": "text"
      },
      "source": [
        "<a href=\"https://colab.research.google.com/github/yamadrid/Python/blob/main/Numpy.ipynb\" target=\"_parent\"><img src=\"https://colab.research.google.com/assets/colab-badge.svg\" alt=\"Open In Colab\"/></a>"
      ]
    },
    {
      "cell_type": "markdown",
      "metadata": {
        "id": "RpnKHod2JviO"
      },
      "source": [
        "*Este notebook hecho exclusivamente para educación, es una adaptación de  [Python Data Science Handbook](http://shop.oreilly.com/product/0636920034919.do) por Jake VanderPlas; contenido original disponible [on GitHub](https://github.com/jakevdp/PythonDataScienceHandbook).*"
      ]
    },
    {
      "cell_type": "markdown",
      "metadata": {
        "id": "Em9ZzAyyJcUR"
      },
      "source": [
        "# Numpy"
      ]
    },
    {
      "cell_type": "markdown",
      "metadata": {
        "id": "s14RuQGDJeie"
      },
      "source": [
        "NumPy es una biblioteca que da soporte para crear vectores y matrices grandes multidimensionales, junto con una gran colección de funciones matemáticas de alto nivel para operar con ellas"
      ]
    },
    {
      "cell_type": "markdown",
      "metadata": {
        "id": "hSmnSnMMJvig"
      },
      "source": [
        "## Arreglos de tipo fijo en Python"
      ]
    },
    {
      "cell_type": "markdown",
      "metadata": {
        "id": "eDp8UIRTNhAb"
      },
      "source": [
        "Numpy provee una forma eficiente de almacenamiento de datos basados en arreglos, además, de la gran variedad de operaciones también eficientes sumadas en esta librería"
      ]
    },
    {
      "cell_type": "code",
      "metadata": {
        "id": "sJDO_FQEJvih"
      },
      "source": [
        "import numpy as np"
      ],
      "execution_count": null,
      "outputs": []
    },
    {
      "cell_type": "markdown",
      "metadata": {
        "id": "5vrdsePRJvii"
      },
      "source": [
        "## Creando arreglos desde listas de Python"
      ]
    },
    {
      "cell_type": "markdown",
      "metadata": {
        "id": "lg8ABb20Nd-6"
      },
      "source": [
        "Primero, podemos usar `np.array` para crear arreglos a partir de listas de Python:"
      ]
    },
    {
      "cell_type": "code",
      "metadata": {
        "id": "fWbi2uXDJvii",
        "outputId": "b08f2e41-fe07-43ea-f1cd-5174151da7d8"
      },
      "source": [
        "# integer array:\n",
        "np.array([1, 4, 2, 5, 3])"
      ],
      "execution_count": null,
      "outputs": [
        {
          "output_type": "execute_result",
          "data": {
            "text/plain": [
              "array([1, 4, 2, 5, 3])"
            ]
          },
          "metadata": {
            "tags": []
          },
          "execution_count": 8
        }
      ]
    },
    {
      "cell_type": "markdown",
      "metadata": {
        "id": "nYq6-D5dJvii"
      },
      "source": [
        "Es preciso saber que, a diferencia de las listas de Python, NumPy está restringido a arreglos que contienen el mismo tipo.\n",
        "\n",
        "Si los tipos no coinciden, NumPy se convertirá en upcast si es posible (aquí, los enteros se convertirán en punto flotante):"
      ]
    },
    {
      "cell_type": "code",
      "metadata": {
        "id": "NMf_R3HtJvii"
      },
      "source": [
        "np.array([3.14, 4, 2, 3])"
      ],
      "execution_count": null,
      "outputs": []
    },
    {
      "cell_type": "markdown",
      "metadata": {
        "id": "91OxqB8zJvij"
      },
      "source": [
        "Si queremos establecer explícitamente el tipo de datos de la matriz resultante, podemos usar la palabra clave `dtype`:"
      ]
    },
    {
      "cell_type": "code",
      "metadata": {
        "id": "Vav0GdjOJvij",
        "outputId": "fe0b48f2-a0f3-4f48-9118-89874a7df223"
      },
      "source": [
        "np.array([1, 2, 3, 4], dtype='float32')"
      ],
      "execution_count": null,
      "outputs": [
        {
          "output_type": "execute_result",
          "data": {
            "text/plain": [
              "array([ 1.,  2.,  3.,  4.], dtype=float32)"
            ]
          },
          "metadata": {
            "tags": []
          },
          "execution_count": 10
        }
      ]
    },
    {
      "cell_type": "markdown",
      "metadata": {
        "id": "-tjJnh4RJvij"
      },
      "source": [
        "Finalmente, a diferencia de las listas de Python, las matrices NumPy pueden ser explícitamente multidimensionales; aquí hay una forma de inicializar una matriz multidimensional usando una lista de listas:"
      ]
    },
    {
      "cell_type": "code",
      "metadata": {
        "id": "4xnEI3vqJvij"
      },
      "source": [
        "# nested lists result in multi-dimensional arrays\n",
        "np.array([range(i, i + 3) for i in [2, 4, 6]])"
      ],
      "execution_count": null,
      "outputs": []
    },
    {
      "cell_type": "markdown",
      "metadata": {
        "id": "E1lmgJXDJvik"
      },
      "source": [
        "Las listas internas se tratan como filas de la matriz bidimensional resultante."
      ]
    },
    {
      "cell_type": "markdown",
      "metadata": {
        "id": "m-CigCx5Jvik"
      },
      "source": [
        "## Creando arreglos desde cero"
      ]
    },
    {
      "cell_type": "markdown",
      "metadata": {
        "id": "mi22nFqQNZN5"
      },
      "source": [
        "Especialmente para arreglos más grandes, es más eficiente crear arreglos desde cero usando rutinas integradas en NumPy. A continuación se muestran varios ejemplos:"
      ]
    },
    {
      "cell_type": "code",
      "metadata": {
        "id": "I0WoYfryJvik"
      },
      "source": [
        "# Create a length-10 integer array filled with zeros\n",
        "np.zeros(10, dtype=int)"
      ],
      "execution_count": null,
      "outputs": []
    },
    {
      "cell_type": "code",
      "metadata": {
        "id": "5JGxYHe4Jvil"
      },
      "source": [
        "# Create a 3x5 floating-point array filled with ones\n",
        "np.ones((3, 5), dtype=float)"
      ],
      "execution_count": null,
      "outputs": []
    },
    {
      "cell_type": "code",
      "metadata": {
        "id": "mYHDC_RDJvil"
      },
      "source": [
        "# Create a 3x5 array filled with 3.14\n",
        "np.full((3, 5), 3.14)"
      ],
      "execution_count": null,
      "outputs": []
    },
    {
      "cell_type": "code",
      "metadata": {
        "id": "4FJtXRsxJvil"
      },
      "source": [
        "# Create an array filled with a linear sequence\n",
        "# Starting at 0, ending at 20, stepping by 2\n",
        "# (this is similar to the built-in range() function)\n",
        "np.arange(0, 20, 2)"
      ],
      "execution_count": null,
      "outputs": []
    },
    {
      "cell_type": "code",
      "metadata": {
        "id": "nVGFf2ljJvim"
      },
      "source": [
        "# Create an array of five values evenly spaced between 0 and 1\n",
        "np.linspace(0, 1, 5)"
      ],
      "execution_count": null,
      "outputs": []
    },
    {
      "cell_type": "code",
      "metadata": {
        "id": "bEXkFwcDJvim"
      },
      "source": [
        "# Create a 3x3 array of uniformly distributed\n",
        "# random values between 0 and 1\n",
        "np.random.random((3, 3))"
      ],
      "execution_count": null,
      "outputs": []
    },
    {
      "cell_type": "code",
      "metadata": {
        "id": "Uf8qFZeiJvim"
      },
      "source": [
        "# Create a 3x3 array of normally distributed random values\n",
        "# with mean 0 and standard deviation 1\n",
        "np.random.normal(0, 1, (3, 3))"
      ],
      "execution_count": null,
      "outputs": []
    },
    {
      "cell_type": "code",
      "metadata": {
        "id": "BklnMzBYJvin"
      },
      "source": [
        "# Create a 3x3 array of random integers in the interval [0, 10)\n",
        "np.random.randint(0, 10, (3, 3))"
      ],
      "execution_count": null,
      "outputs": []
    },
    {
      "cell_type": "code",
      "metadata": {
        "id": "tLyBzm5fJvin"
      },
      "source": [
        "# Create a 3x3 identity matrix\n",
        "np.eye(3)"
      ],
      "execution_count": null,
      "outputs": []
    },
    {
      "cell_type": "code",
      "metadata": {
        "id": "Ei43HLYbJvin"
      },
      "source": [
        "# Create an uninitialized array of three integers\n",
        "# The values will be whatever happens to already exist at that memory location\n",
        "np.empty(3)"
      ],
      "execution_count": null,
      "outputs": []
    },
    {
      "cell_type": "markdown",
      "metadata": {
        "id": "y1M7xOD5Jvio"
      },
      "source": [
        "## Tipos de datos estandar de Numpy"
      ]
    },
    {
      "cell_type": "markdown",
      "metadata": {
        "id": "gDMAAXOlNSGL"
      },
      "source": [
        "Los arreglos NumPy contienen valores de un solo tipo, por lo que es importante tener un conocimiento detallado de esos tipos y sus limitaciones. Debido a que NumPy está construido en C, los tipos serán familiares para los usuarios de C, Fortran y otros lenguajes relacionados.\n",
        "\n",
        "Los tipos de datos estándar de NumPy se enumeran en la siguiente tabla. Tenga en cuenta que al construir una matriz, se pueden especificar mediante una cadena:\n",
        "\n",
        "`np.zeros(10, dtype='int16')`\n",
        "\n",
        "\n",
        "O usando el objeto NumPy asociado:\n",
        "\n",
        "`np.zeros(10, dtype=np.int16)`"
      ]
    },
    {
      "cell_type": "markdown",
      "metadata": {
        "id": "IYuh7rP8Jvio"
      },
      "source": [
        "| Data type\t    | Description |\n",
        "|---------------|-------------|\n",
        "| ``bool_``     | Boolean (True or False) stored as a byte |\n",
        "| ``int_``      | Default integer type (same as C ``long``; normally either ``int64`` or ``int32``)| \n",
        "| ``intc``      | Identical to C ``int`` (normally ``int32`` or ``int64``)| \n",
        "| ``intp``      | Integer used for indexing (same as C ``ssize_t``; normally either ``int32`` or ``int64``)| \n",
        "| ``int8``      | Byte (-128 to 127)| \n",
        "| ``int16``     | Integer (-32768 to 32767)|\n",
        "| ``int32``     | Integer (-2147483648 to 2147483647)|\n",
        "| ``int64``     | Integer (-9223372036854775808 to 9223372036854775807)| \n",
        "| ``uint8``     | Unsigned integer (0 to 255)| \n",
        "| ``uint16``    | Unsigned integer (0 to 65535)| \n",
        "| ``uint32``    | Unsigned integer (0 to 4294967295)| \n",
        "| ``uint64``    | Unsigned integer (0 to 18446744073709551615)| \n",
        "| ``float_``    | Shorthand for ``float64``.| \n",
        "| ``float16``   | Half precision float: sign bit, 5 bits exponent, 10 bits mantissa| \n",
        "| ``float32``   | Single precision float: sign bit, 8 bits exponent, 23 bits mantissa| \n",
        "| ``float64``   | Double precision float: sign bit, 11 bits exponent, 52 bits mantissa| \n",
        "| ``complex_``  | Shorthand for ``complex128``.| \n",
        "| ``complex64`` | Complex number, represented by two 32-bit floats| \n",
        "| ``complex128``| Complex number, represented by two 64-bit floats| "
      ]
    },
    {
      "cell_type": "markdown",
      "metadata": {
        "id": "EI3qUIyvNn95"
      },
      "source": [
        "## Fundamentos de los arreglos en Numpy"
      ]
    },
    {
      "cell_type": "markdown",
      "metadata": {
        "id": "YQwU9r2NNn96"
      },
      "source": [
        "La manipulación de datos en Python es casi sinónimo de la manipulación de arreglos NumPy se construyen alrededor del arreglo NumPy. Si bien los tipos de operaciones que se muestran aquí pueden parecer un poco abstractos, comprenden los componentes básicos de muchos otros ejemplos utilizados a lo largo del libro."
      ]
    },
    {
      "cell_type": "markdown",
      "metadata": {
        "id": "t2a0ggzYNn97"
      },
      "source": [
        "### Atributos del arreglo Numpy"
      ]
    },
    {
      "cell_type": "markdown",
      "metadata": {
        "id": "sRdsOYXJNn97"
      },
      "source": [
        "Primero, analicemos algunos atributos útiles del arreglo. Usaremos el generador de números aleatorios de NumPy, que sembraremos con un valor establecido para asegurarnos de que se generen los mismos arreglos aleatorios cada vez que se ejecute este código:"
      ]
    },
    {
      "cell_type": "code",
      "metadata": {
        "id": "E4KlZkncNn98"
      },
      "source": [
        "import numpy as np\n",
        "np.random.seed(0)  # seed for reproducibility\n",
        "\n",
        "x1 = np.random.randint(10, size=6)  # One-dimensional array\n",
        "x2 = np.random.randint(10, size=(3, 4))  # Two-dimensional array\n",
        "x3 = np.random.randint(10, size=(3, 4, 5))  # Three-dimensional array"
      ],
      "execution_count": null,
      "outputs": []
    },
    {
      "cell_type": "markdown",
      "metadata": {
        "id": "YANwCrHwNn9-"
      },
      "source": [
        "Cada matriz tiene atributos `ndim`(el número de dimensiones), `shape`(el tamaño de cada dimensión) y `size`(el tamaño total de la matriz):"
      ]
    },
    {
      "cell_type": "code",
      "metadata": {
        "id": "2ThnES9gNn9-"
      },
      "source": [
        "print(\"x3 ndim: \", x3.ndim)\n",
        "print(\"x3 shape:\", x3.shape)\n",
        "print(\"x3 size: \", x3.size)"
      ],
      "execution_count": null,
      "outputs": []
    },
    {
      "cell_type": "markdown",
      "metadata": {
        "id": "qAVN2mC_Nn-A"
      },
      "source": [
        "Otro atributo útil es el tipo `dtype` del arreglo"
      ]
    },
    {
      "cell_type": "code",
      "metadata": {
        "id": "pXDR7abVNn-A"
      },
      "source": [
        "print(\"dtype:\", x3.dtype)"
      ],
      "execution_count": null,
      "outputs": []
    },
    {
      "cell_type": "markdown",
      "metadata": {
        "id": "NsZFSZtSNn-D"
      },
      "source": [
        "Otros atributos incluyen `itemsize`, que enumera el tamaño (en bytes) de cada elemento del arreglos y `nbytes`, que enumera el tamaño total (en bytes) del arreglo:"
      ]
    },
    {
      "cell_type": "code",
      "metadata": {
        "id": "I3KdWOTqNn-D"
      },
      "source": [
        "print(\"itemsize:\", x3.itemsize, \"bytes\")\n",
        "print(\"nbytes:\", x3.nbytes, \"bytes\")"
      ],
      "execution_count": null,
      "outputs": []
    },
    {
      "cell_type": "markdown",
      "metadata": {
        "id": "SO5sp2KDNn-D"
      },
      "source": [
        "En general, esperamos que `nbytes` sea ​​igual a `itemsize` veces `size`."
      ]
    },
    {
      "cell_type": "markdown",
      "metadata": {
        "id": "ERlLMGIBNn-E"
      },
      "source": [
        "### Indexación de arreglos: acceso a elementos individuales"
      ]
    },
    {
      "cell_type": "markdown",
      "metadata": {
        "id": "ZWb81G1HNn-E"
      },
      "source": [
        "En un arreglo unidimensional, el $1^{th}$ puede ser accedido (contando desde cero) especificando el índice deseado entre corchetes, al igual que con las listas de Python:"
      ]
    },
    {
      "cell_type": "code",
      "metadata": {
        "id": "PuXFVAOmNn-E"
      },
      "source": [
        "x1"
      ],
      "execution_count": null,
      "outputs": []
    },
    {
      "cell_type": "code",
      "metadata": {
        "id": "t7Df2Q_0Nn-F"
      },
      "source": [
        "x1[0]"
      ],
      "execution_count": null,
      "outputs": []
    },
    {
      "cell_type": "code",
      "metadata": {
        "id": "4MwWdAOvNn-F"
      },
      "source": [
        "x1[4]"
      ],
      "execution_count": null,
      "outputs": []
    },
    {
      "cell_type": "markdown",
      "metadata": {
        "id": "2gNohMtTNn-F"
      },
      "source": [
        "Para indexar desde el final del arreglo, podemos usar índices negativos:"
      ]
    },
    {
      "cell_type": "code",
      "metadata": {
        "id": "jGcV3azrNn-G"
      },
      "source": [
        "x1[-1]"
      ],
      "execution_count": null,
      "outputs": []
    },
    {
      "cell_type": "code",
      "metadata": {
        "id": "pGdgvPOBNn-G"
      },
      "source": [
        "x1[-2]"
      ],
      "execution_count": null,
      "outputs": []
    },
    {
      "cell_type": "markdown",
      "metadata": {
        "id": "dHd5aIQ5Nn-G"
      },
      "source": [
        "En un arreglo multidimensional, se puede acceder a los elementos mediante una tupla de índices separados por comas:"
      ]
    },
    {
      "cell_type": "code",
      "metadata": {
        "id": "Orue4fEDNn-H"
      },
      "source": [
        "x2"
      ],
      "execution_count": null,
      "outputs": []
    },
    {
      "cell_type": "code",
      "metadata": {
        "id": "1pzLVLGaNn-H"
      },
      "source": [
        "x2[0, 0]"
      ],
      "execution_count": null,
      "outputs": []
    },
    {
      "cell_type": "code",
      "metadata": {
        "id": "UYWhY9OpNn-H"
      },
      "source": [
        "x2[2, 0]"
      ],
      "execution_count": null,
      "outputs": []
    },
    {
      "cell_type": "code",
      "metadata": {
        "id": "f7WE8ge5Nn-I"
      },
      "source": [
        "x2[2, -1]"
      ],
      "execution_count": null,
      "outputs": []
    },
    {
      "cell_type": "markdown",
      "metadata": {
        "id": "BuQldnLpNn-I"
      },
      "source": [
        "Los valores también se pueden modificar utilizando cualquiera de las notación de índice anterior:"
      ]
    },
    {
      "cell_type": "code",
      "metadata": {
        "id": "Y4_51uIvNn-I"
      },
      "source": [
        "x2[0, 0] = 12\n",
        "x2"
      ],
      "execution_count": null,
      "outputs": []
    },
    {
      "cell_type": "markdown",
      "metadata": {
        "id": "o1Tio0QKNn-I"
      },
      "source": [
        "Tengamos en cuenta que, a diferencia de las listas de Python, las matrices NumPy tienen un tipo fijo. Esto significa, por ejemplo, que si intentamos insertar un valor de punto flotante en una matriz de enteros, el valor se truncará silenciosamente."
      ]
    },
    {
      "cell_type": "code",
      "metadata": {
        "id": "WNyVxFbpNn-J"
      },
      "source": [
        "x1[0] = 3.14159  # this will be truncated!\n",
        "x1"
      ],
      "execution_count": null,
      "outputs": []
    },
    {
      "cell_type": "markdown",
      "metadata": {
        "id": "gzyHqWNZNn-J"
      },
      "source": [
        "### División de arreglos: acceso a subarreglos"
      ]
    },
    {
      "cell_type": "markdown",
      "metadata": {
        "id": "CYdVtWZVNn-J"
      },
      "source": [
        "Del mismo modo que podemos utilizar corchetes para acceder a elementos de la matriz, también podemos usarlas para subconjuntos de acceso con la rebanada de notación, marcadas por los dos puntos ( :carácter). La sintaxis de corte de NumPy sigue la de la lista estándar de Python; para acceder a una porción de un arreglo x, se usa:\n",
        "\n",
        "`x[inicio:parada:paso]`\n",
        "\n",
        "Si cualquiera de estos son sin especificar, que por defecto a los valores `start=0`, `stop=size`, `step=1`. Veremos cómo acceder a submatrices en una dimensión y en múltiples dimensiones"
      ]
    },
    {
      "cell_type": "markdown",
      "metadata": {
        "id": "Bzl3208ZNn-K"
      },
      "source": [
        "#### Subarreglo unidimensionales"
      ]
    },
    {
      "cell_type": "code",
      "metadata": {
        "id": "Ue9JWOaGNn-K"
      },
      "source": [
        "x = np.arange(10)\n",
        "x"
      ],
      "execution_count": null,
      "outputs": []
    },
    {
      "cell_type": "code",
      "metadata": {
        "id": "C-aufHD2Nn-K"
      },
      "source": [
        "x[:5]  # first five elements"
      ],
      "execution_count": null,
      "outputs": []
    },
    {
      "cell_type": "code",
      "metadata": {
        "id": "n82bzoDMNn-L"
      },
      "source": [
        "x[5:]  # elements after index 5"
      ],
      "execution_count": null,
      "outputs": []
    },
    {
      "cell_type": "code",
      "metadata": {
        "id": "uatRZhZ-Nn-L"
      },
      "source": [
        "x[4:7]  # middle sub-array"
      ],
      "execution_count": null,
      "outputs": []
    },
    {
      "cell_type": "code",
      "metadata": {
        "id": "bT7JX-OuNn-L"
      },
      "source": [
        "x[::2]  # every other element"
      ],
      "execution_count": null,
      "outputs": []
    },
    {
      "cell_type": "code",
      "metadata": {
        "id": "6KMhywLiNn-M"
      },
      "source": [
        "x[1::2]  # every other element, starting at index 1"
      ],
      "execution_count": null,
      "outputs": []
    },
    {
      "cell_type": "markdown",
      "metadata": {
        "id": "Qe8bBVTnNn-M"
      },
      "source": [
        "Un caso potencialmente confuso es cuando el valor `step` es negativo. En este caso, los valores predeterminados de `start` y `stop` se intercambian. Esta se convierte en una forma conveniente de invertir un arreglo:"
      ]
    },
    {
      "cell_type": "code",
      "metadata": {
        "id": "LjKfz-u5Nn-M"
      },
      "source": [
        "x[::-1]  # all elements, reversed"
      ],
      "execution_count": null,
      "outputs": []
    },
    {
      "cell_type": "code",
      "metadata": {
        "id": "y_SuVHtlNn-M"
      },
      "source": [
        "x[5::-2]  # reversed every other from index 5"
      ],
      "execution_count": null,
      "outputs": []
    },
    {
      "cell_type": "markdown",
      "metadata": {
        "id": "iB4hviIYNn-N"
      },
      "source": [
        "### Subarreglos Multidimensionales"
      ]
    },
    {
      "cell_type": "markdown",
      "metadata": {
        "id": "hzKTUiC3Q78C"
      },
      "source": [
        "Los arreglos multidimensionales funcionan de la misma manera, con varios arreglos separados por comas. Por ejemplo:"
      ]
    },
    {
      "cell_type": "code",
      "metadata": {
        "id": "_acuUcE2Nn-N"
      },
      "source": [
        "x2"
      ],
      "execution_count": null,
      "outputs": []
    },
    {
      "cell_type": "code",
      "metadata": {
        "id": "b-CsUADANn-N"
      },
      "source": [
        "x2[:2, :3]  # two rows, three columns"
      ],
      "execution_count": null,
      "outputs": []
    },
    {
      "cell_type": "code",
      "metadata": {
        "id": "PGqYnauqNn-O"
      },
      "source": [
        "x2[:3, ::2]  # all rows, every other column"
      ],
      "execution_count": null,
      "outputs": []
    },
    {
      "cell_type": "markdown",
      "metadata": {
        "id": "-qFwdMDiNn-O"
      },
      "source": [
        "Finalmente, las dimensiones del subarreglo incluso se pueden invertir juntas:"
      ]
    },
    {
      "cell_type": "code",
      "metadata": {
        "id": "bh35mpi6Nn-O"
      },
      "source": [
        "x2[::-1, ::-1]"
      ],
      "execution_count": null,
      "outputs": []
    },
    {
      "cell_type": "markdown",
      "metadata": {
        "id": "ooaTlxddNn-P"
      },
      "source": [
        "#### Accediendo a filas y columnas de un arreglo"
      ]
    },
    {
      "cell_type": "markdown",
      "metadata": {
        "id": "m9qTQrHrRGCn"
      },
      "source": [
        "Una rutina comúnmente necesaria es acceder a filas o columnas individuales de una matriz. Esto se puede hacer combinando indexación y división, utilizando una división vacía marcada con dos puntos ( :):"
      ]
    },
    {
      "cell_type": "code",
      "metadata": {
        "id": "j5CHMZnxNn-P"
      },
      "source": [
        "print(x2[:, 0])  # first column of x2"
      ],
      "execution_count": null,
      "outputs": []
    },
    {
      "cell_type": "code",
      "metadata": {
        "id": "HybcYgGDNn-P"
      },
      "source": [
        "print(x2[0, :])  # first row of x2"
      ],
      "execution_count": null,
      "outputs": []
    },
    {
      "cell_type": "markdown",
      "metadata": {
        "id": "Lv7PyW_oNn-Q"
      },
      "source": [
        "En el caso del acceso a filas, el segmento vacío se puede omitir para obtener una sintaxis más compacta:"
      ]
    },
    {
      "cell_type": "code",
      "metadata": {
        "id": "fMm5245vNn-Q"
      },
      "source": [
        "print(x2[0])  # equivalent to x2[0, :]"
      ],
      "execution_count": null,
      "outputs": []
    },
    {
      "cell_type": "markdown",
      "metadata": {
        "id": "Alns-A1INn-Q"
      },
      "source": [
        "#### Subarreglos como vistas sin copia"
      ]
    },
    {
      "cell_type": "markdown",
      "metadata": {
        "id": "1t9tpSh0RUuY"
      },
      "source": [
        "Una cosa importante, y extremadamente útil, que debemos saber sobre los segmentos de arreglo es que devuelven vistas en lugar de copias de los datos de la matriz. Esta es un área en la que la división de matrices de NumPy difiere de la división de listas de Python: en las listas, las divisiones serán copias. Consideremos nuestra matriz bidimensional de antes:"
      ]
    },
    {
      "cell_type": "code",
      "metadata": {
        "id": "jPyl1-2bNn-R"
      },
      "source": [
        "print(x2)"
      ],
      "execution_count": null,
      "outputs": []
    },
    {
      "cell_type": "markdown",
      "metadata": {
        "id": "Y0Mu4mYsNn-R"
      },
      "source": [
        "Extraigamos un subarreglo $2 \\times 2$:"
      ]
    },
    {
      "cell_type": "code",
      "metadata": {
        "id": "FB1kh5MZNn-R"
      },
      "source": [
        "x2_sub = x2[:2, :2]\n",
        "print(x2_sub)"
      ],
      "execution_count": null,
      "outputs": []
    },
    {
      "cell_type": "markdown",
      "metadata": {
        "id": "c_xg2qmNNn-R"
      },
      "source": [
        "Ahora, si modificamos este subarreglo, veremos que se cambia el arreglo original:"
      ]
    },
    {
      "cell_type": "code",
      "metadata": {
        "id": "4rRZ3jtjNn-S"
      },
      "source": [
        "x2_sub[0, 0] = 99\n",
        "print(x2_sub)"
      ],
      "execution_count": null,
      "outputs": []
    },
    {
      "cell_type": "code",
      "metadata": {
        "id": "cQ0FLM_jNn-S"
      },
      "source": [
        "print(x2)"
      ],
      "execution_count": null,
      "outputs": []
    },
    {
      "cell_type": "markdown",
      "metadata": {
        "id": "b-3x42nvNn-S"
      },
      "source": [
        "Este comportamiento predeterminado es bastante útil: significa que cuando trabajamos con grandes conjuntos de datos, podemos acceder y procesar partes de estos conjuntos de datos sin la necesidad de copiar el búfer de datos subyacente."
      ]
    },
    {
      "cell_type": "markdown",
      "metadata": {
        "id": "k6rNjkZ5Nn-S"
      },
      "source": [
        "#### Creando copias de arreglos"
      ]
    },
    {
      "cell_type": "markdown",
      "metadata": {
        "id": "wfnuUf2IRw9J"
      },
      "source": [
        "A pesar de las buenas características de las vistas de matriz, a veces es útil copiar explícitamente los datos dentro de una matriz o submatriz. Esto se puede hacer más fácilmente con el método `copy()`:"
      ]
    },
    {
      "cell_type": "code",
      "metadata": {
        "id": "JgfS6uIFNn-T"
      },
      "source": [
        "x2_sub_copy = x2[:2, :2].copy()\n",
        "print(x2_sub_copy)"
      ],
      "execution_count": null,
      "outputs": []
    },
    {
      "cell_type": "markdown",
      "metadata": {
        "id": "O0YOWXx4Nn-T"
      },
      "source": [
        "Si ahora modificamos este subarreglo, el arreglo original no se toca:"
      ]
    },
    {
      "cell_type": "code",
      "metadata": {
        "id": "-lWYnsbdNn-T"
      },
      "source": [
        "x2_sub_copy[0, 0] = 42\n",
        "print(x2_sub_copy)"
      ],
      "execution_count": null,
      "outputs": []
    },
    {
      "cell_type": "code",
      "metadata": {
        "id": "MyMpUcfuNn-T"
      },
      "source": [
        "print(x2)"
      ],
      "execution_count": null,
      "outputs": []
    },
    {
      "cell_type": "markdown",
      "metadata": {
        "id": "Pnbq79z7Nn-U"
      },
      "source": [
        "### Remodelación de Arreglos"
      ]
    },
    {
      "cell_type": "markdown",
      "metadata": {
        "id": "qNVbESfjSC_U"
      },
      "source": [
        "Otro tipo útil de operación es la remodelación de matrices. La forma más flexible de hacer esto es con el método `reshape`. Por ejemplo, si deseamos poner los números del 1 al 9 en un grid $3 \\times 3$, se puede hacer lo siguiente:"
      ]
    },
    {
      "cell_type": "code",
      "metadata": {
        "id": "5ftGCJ95Nn-U"
      },
      "source": [
        "grid = np.arange(1, 10).reshape((3, 3))\n",
        "print(grid)"
      ],
      "execution_count": null,
      "outputs": []
    },
    {
      "cell_type": "markdown",
      "metadata": {
        "id": "MEJR2lw3Nn-U"
      },
      "source": [
        "Tengamos en cuenta que para que esto funcione, el tamaño del arreglo inicial debe coincidir con el tamaño del arreglo reformado. Cuando sea posible, el método `reshape` utilizará una vista sin copia del arreglo inicial.\n",
        "\n",
        "Otro patrón de remodelación común es la conversión de una matriz unidimensional en una matriz de fila o columna bidimensional. Esto se puede hacer con el método `reshape` o más fácilmente haciendo uso de la palabra clave `newaxis` dentro de una operación de corte:"
      ]
    },
    {
      "cell_type": "code",
      "metadata": {
        "id": "deslelAPNn-V"
      },
      "source": [
        "x = np.array([1, 2, 3])\n",
        "\n",
        "# row vector via reshape\n",
        "x.reshape((1, 3))"
      ],
      "execution_count": null,
      "outputs": []
    },
    {
      "cell_type": "code",
      "metadata": {
        "id": "WVylNUK0Nn-V"
      },
      "source": [
        "# row vector via newaxis\n",
        "x[np.newaxis, :]"
      ],
      "execution_count": null,
      "outputs": []
    },
    {
      "cell_type": "code",
      "metadata": {
        "id": "s3wGnjJ9Nn-V"
      },
      "source": [
        "# column vector via reshape\n",
        "x.reshape((3, 1))"
      ],
      "execution_count": null,
      "outputs": []
    },
    {
      "cell_type": "code",
      "metadata": {
        "id": "8_fObsYeNn-W"
      },
      "source": [
        "# column vector via newaxis\n",
        "x[:, np.newaxis]"
      ],
      "execution_count": null,
      "outputs": []
    },
    {
      "cell_type": "markdown",
      "metadata": {
        "id": "ErUwkjoLNn-W"
      },
      "source": [
        "### Concatenación y división de Arreglos"
      ]
    },
    {
      "cell_type": "markdown",
      "metadata": {
        "id": "odGkBIL9Swue"
      },
      "source": [
        "Todas las rutinas anteriores funcionaron en arreglos únicos. También es posible combinar varias arreglos en uno y, a la inversa, dividir un solo arreglo en varios arreglos."
      ]
    },
    {
      "cell_type": "markdown",
      "metadata": {
        "id": "-of8KDkyNn-W"
      },
      "source": [
        "#### Concatenación de arreglos"
      ]
    },
    {
      "cell_type": "markdown",
      "metadata": {
        "id": "SvtJNnMOTAHk"
      },
      "source": [
        "Concatenación, o unión de dos arreglos en NumPy, se logra principalmente utilizando las rutinas `np.concatenate`, `np.vstack` y `np.hstack`. n`p.concatenate` toma una tupla o lista de arreglos como primer argumento, como podemos ver aquí:"
      ]
    },
    {
      "cell_type": "code",
      "metadata": {
        "id": "kOAe2J-dNn-X"
      },
      "source": [
        "x = np.array([1, 2, 3])\n",
        "y = np.array([3, 2, 1])\n",
        "np.concatenate([x, y])"
      ],
      "execution_count": null,
      "outputs": []
    },
    {
      "cell_type": "markdown",
      "metadata": {
        "id": "Ok9cT-lxNn-Z"
      },
      "source": [
        "También podemos concatenar más de dos arreglos a la vez:"
      ]
    },
    {
      "cell_type": "code",
      "metadata": {
        "id": "BIjTBob_Nn-Z"
      },
      "source": [
        "z = [99, 99, 99]\n",
        "print(np.concatenate([x, y, z]))"
      ],
      "execution_count": null,
      "outputs": []
    },
    {
      "cell_type": "markdown",
      "metadata": {
        "id": "xUnWfJ6UNn-a"
      },
      "source": [
        "También lo podemos utilizar para arreglos bidimensionales:"
      ]
    },
    {
      "cell_type": "code",
      "metadata": {
        "id": "exaKPht3Nn-a"
      },
      "source": [
        "grid = np.array([[1, 2, 3],\n",
        "                 [4, 5, 6]])"
      ],
      "execution_count": null,
      "outputs": []
    },
    {
      "cell_type": "code",
      "metadata": {
        "id": "jt4DcTw9Nn-a"
      },
      "source": [
        "# concatenate along the first axis\n",
        "np.concatenate([grid, grid])"
      ],
      "execution_count": null,
      "outputs": []
    },
    {
      "cell_type": "code",
      "metadata": {
        "id": "2_GBmTMFNn-a"
      },
      "source": [
        "# concatenate along the second axis (zero-indexed)\n",
        "np.concatenate([grid, grid], axis=1)"
      ],
      "execution_count": null,
      "outputs": []
    },
    {
      "cell_type": "markdown",
      "metadata": {
        "id": "c5wL1MlyNn-b"
      },
      "source": [
        "Para trabajar con matrices de dimensiones mixtas, puede resultar más claro utilizar las funciones `np.vstack` (pila vertical) y `np.hstack`(pila horizontal):"
      ]
    },
    {
      "cell_type": "code",
      "metadata": {
        "id": "b_CFv89jNn-b"
      },
      "source": [
        "x = np.array([1, 2, 3])\n",
        "grid = np.array([[9, 8, 7],\n",
        "                 [6, 5, 4]])\n",
        "\n",
        "# vertically stack the arrays\n",
        "np.vstack([x, grid])"
      ],
      "execution_count": null,
      "outputs": []
    },
    {
      "cell_type": "code",
      "metadata": {
        "id": "de8eamRqNn-c"
      },
      "source": [
        "# horizontally stack the arrays\n",
        "y = np.array([[99],\n",
        "              [99]])\n",
        "np.hstack([grid, y])"
      ],
      "execution_count": null,
      "outputs": []
    },
    {
      "cell_type": "markdown",
      "metadata": {
        "id": "kgSfLoZONn-c"
      },
      "source": [
        "#### División de arreglos"
      ]
    },
    {
      "cell_type": "markdown",
      "metadata": {
        "id": "KD1wv4Z7Ttps"
      },
      "source": [
        "Lo contrario de concatenación es la división, que es implementado por las funciones `np.split`, `np.hsplit`, y `np.vsplit`. Para cada uno de estos, podemos pasar una lista de índices con los puntos de división:"
      ]
    },
    {
      "cell_type": "code",
      "metadata": {
        "id": "GdAc3tNoNn-d"
      },
      "source": [
        "x = [1, 2, 3, 99, 99, 3, 2, 1]\n",
        "x1, x2, x3 = np.split(x, [3, 5])\n",
        "print(x1, x2, x3)"
      ],
      "execution_count": null,
      "outputs": []
    },
    {
      "cell_type": "markdown",
      "metadata": {
        "id": "s9YajxbDNn-d"
      },
      "source": [
        "Observemos que *N* puntos de división conduce a *N + 1* subarreglos. Las funciones relacionadas `np.hsplit` y `np.vsplit` son similares:"
      ]
    },
    {
      "cell_type": "code",
      "metadata": {
        "id": "BWy2seZlNn-d"
      },
      "source": [
        "grid = np.arange(16).reshape((4, 4))\n",
        "grid"
      ],
      "execution_count": null,
      "outputs": []
    },
    {
      "cell_type": "code",
      "metadata": {
        "id": "oA_dLU3yNn-e"
      },
      "source": [
        "upper, lower = np.vsplit(grid, [2])\n",
        "print(upper)\n",
        "print(lower)"
      ],
      "execution_count": null,
      "outputs": []
    },
    {
      "cell_type": "code",
      "metadata": {
        "id": "KyeLPeFINn-e"
      },
      "source": [
        "left, right = np.hsplit(grid, [2])\n",
        "print(left)\n",
        "print(right)"
      ],
      "execution_count": null,
      "outputs": []
    },
    {
      "cell_type": "markdown",
      "metadata": {
        "id": "8AlQZYgcU3kK"
      },
      "source": [
        "## Cálculo en arreglos NumPy: funciones universales"
      ]
    },
    {
      "cell_type": "markdown",
      "metadata": {
        "id": "_n0u_MnwU3kK"
      },
      "source": [
        "El cálculo en arreglos NumPy puede ser muy rápido o muy lento. La clave para hacerlo rápido es usar operaciones vectorizadas, generalmente implementadas a través de las funciones universales de NumPy (ufuncs)."
      ]
    },
    {
      "cell_type": "markdown",
      "metadata": {
        "id": "ElpwDxpaU3kL"
      },
      "source": [
        "### La lentitud de los bucles\n",
        "\n",
        "La implementación predeterminada de Python (conocida como CPython) realiza algunas operaciones muy lentamente. Esto se debe en parte a la naturaleza dinámica e interpretada del lenguaje: el hecho de que los tipos son flexibles, de modo que las secuencias de operaciones no se pueden compilar en un código de máquina eficiente como en lenguajes como C y Fortran. \n",
        "\n",
        "La relativa lentitud de Python generalmente se manifiesta en situaciones en las que se repiten muchas operaciones pequeñas, por ejemplo, en bucle sobre matrices para operar en cada elemento. Por ejemplo, imagina que tenemos un arreglo de valores y nos gustaría calcular el recíproco de cada uno. Un enfoque sencillo podría verse así:"
      ]
    },
    {
      "cell_type": "code",
      "metadata": {
        "id": "AyJPn4-uU3kN"
      },
      "source": [
        "import numpy as np\n",
        "np.random.seed(0)\n",
        "\n",
        "def compute_reciprocals(values):\n",
        "    output = np.empty(len(values))\n",
        "    for i in range(len(values)):\n",
        "        output[i] = 1.0 / values[i]\n",
        "    return output\n",
        "        \n",
        "values = np.random.randint(1, 10, size=5)\n",
        "compute_reciprocals(values)"
      ],
      "execution_count": null,
      "outputs": []
    },
    {
      "cell_type": "markdown",
      "metadata": {
        "id": "syfWUB8BU3kQ"
      },
      "source": [
        "Si medimos el tiempo de ejecución de este código para una entrada grande, vemos que esta operación es muy lenta:"
      ]
    },
    {
      "cell_type": "code",
      "metadata": {
        "id": "xEUn4iEEU3kR"
      },
      "source": [
        "big_array = np.random.randint(1, 100, size=1000000)\n",
        "%timeit compute_reciprocals(big_array)"
      ],
      "execution_count": null,
      "outputs": []
    },
    {
      "cell_type": "markdown",
      "metadata": {
        "id": "rqH_HankU3kS"
      },
      "source": [
        "¡Se necesitan varios segundos para calcular estos millones de operaciones y almacenar el resultado! Cuando incluso los teléfonos móviles tienen velocidades de procesamiento medidas en Giga-FLOPS (es decir, miles de millones de operaciones numéricas por segundo), esto parece casi absurdamente lento. Resulta que el cuello de botella aquí no son las operaciones en sí mismas, sino la verificación de tipos y los despachos de funciones que CPython debe hacer en cada ciclo del ciclo. Cada vez que se calcula el recíproco, Python primero examina el tipo del objeto y realiza una búsqueda dinámica de la función correcta para usar para ese tipo. Si estuviéramos trabajando en código compilado, esta especificación de tipo se conocería antes de que se ejecute el código y el resultado podría calcularse de manera mucho más eficiente."
      ]
    },
    {
      "cell_type": "markdown",
      "metadata": {
        "id": "q6kW6LCfU3kT"
      },
      "source": [
        "### Introduciendo UFuncs"
      ]
    },
    {
      "cell_type": "markdown",
      "metadata": {
        "id": "bk6TAHT2Whuk"
      },
      "source": [
        "Para muchos tipos de operaciones, NumPy proporciona una interfaz conveniente en este tipo de rutina compilada de tipo estático. Esto se conoce como operación vectorizada. Esto se puede lograr simplemente realizando una operación en el arreglo, que luego se aplicará a cada elemento. Este enfoque vectorizado está diseñado para empujar el bucle a la capa compilada que subyace a NumPy, lo que lleva a una ejecución mucho más rápida.\n",
        "\n",
        "Compare los resultados de los dos siguientes:"
      ]
    },
    {
      "cell_type": "code",
      "metadata": {
        "id": "gl1x9FuTU3kT"
      },
      "source": [
        "print(compute_reciprocals(values))\n",
        "print(1.0 / values)"
      ],
      "execution_count": null,
      "outputs": []
    },
    {
      "cell_type": "markdown",
      "metadata": {
        "id": "TKcmsnB4U3kU"
      },
      "source": [
        "Al observar el tiempo de ejecución de nuestra gran matriz, vemos que completa órdenes de magnitud más rápido que el ciclo de Python:"
      ]
    },
    {
      "cell_type": "code",
      "metadata": {
        "id": "UHb7zgaVU3kU"
      },
      "source": [
        "%timeit (1.0 / big_array)"
      ],
      "execution_count": null,
      "outputs": []
    },
    {
      "cell_type": "markdown",
      "metadata": {
        "id": "Pl-lAL0gU3kV"
      },
      "source": [
        "Las operaciones vectorizadas en NumPy se implementan a través de ufuncs, cuyo objetivo principal es ejecutar rápidamente operaciones repetidas en valores en matrices NumPy. Los Ufuncs son extremadamente flexibles, antes de que viéramos una operación entre un escalar y un arreglo, pero también podemos operar entre dos arreglos:"
      ]
    },
    {
      "cell_type": "code",
      "metadata": {
        "id": "XaHezZ95U3kV"
      },
      "source": [
        "np.arange(5) / np.arange(1, 6)"
      ],
      "execution_count": null,
      "outputs": []
    },
    {
      "cell_type": "markdown",
      "metadata": {
        "id": "paTnFFxGU3kW"
      },
      "source": [
        "Y las operaciones de ufunc no se limitan a arreglos unidimensionales, también pueden actuar en arreglos multidimensionales:"
      ]
    },
    {
      "cell_type": "code",
      "metadata": {
        "id": "4OpK_s_sU3kW"
      },
      "source": [
        "x = np.arange(9).reshape((3, 3))\n",
        "2 ** x"
      ],
      "execution_count": null,
      "outputs": []
    },
    {
      "cell_type": "markdown",
      "metadata": {
        "id": "oi841q_pU3kW"
      },
      "source": [
        "Los cálculos que usan vectorización a través de ufuncs son casi siempre más eficientes que sus contrapartes implementadas usando bucles de Python, especialmente a medida que las matrices aumentan de tamaño."
      ]
    },
    {
      "cell_type": "markdown",
      "metadata": {
        "id": "wP0iCeadU3kX"
      },
      "source": [
        "### Explorando las UFuncs de NumPy"
      ]
    },
    {
      "cell_type": "markdown",
      "metadata": {
        "id": "O3m-kZImXIg2"
      },
      "source": [
        "Existen dos tipos de Ufuncs: ufuncs unarios, que operan en una sola entrada, y ufuncs binarios, que operan en dos entradas. Veremos ejemplos de ambos tipos de funciones aquí."
      ]
    },
    {
      "cell_type": "markdown",
      "metadata": {
        "id": "U7LxSc8KU3kX"
      },
      "source": [
        "#### Aritmetica de arreglo"
      ]
    },
    {
      "cell_type": "markdown",
      "metadata": {
        "id": "zd14ZIjsYOg8"
      },
      "source": [
        "Los ufuncs de NumPy se sienten muy naturales de usar porque hacen uso de los operadores aritméticos nativos de Python. La suma, resta, multiplicación y división estándar se pueden usar:"
      ]
    },
    {
      "cell_type": "code",
      "metadata": {
        "id": "dxHeaT1UU3kY"
      },
      "source": [
        "x = np.arange(4)\n",
        "print(\"x     =\", x)\n",
        "print(\"x + 5 =\", x + 5)\n",
        "print(\"x - 5 =\", x - 5)\n",
        "print(\"x * 2 =\", x * 2)\n",
        "print(\"x / 2 =\", x / 2)\n",
        "print(\"x // 2 =\", x // 2)  # floor division"
      ],
      "execution_count": null,
      "outputs": []
    },
    {
      "cell_type": "markdown",
      "metadata": {
        "id": "41cip0jVU3kY"
      },
      "source": [
        "También hay un ufunc unario para negación, un operador `**` para exponenciación y un operador `%` para módulo:"
      ]
    },
    {
      "cell_type": "code",
      "metadata": {
        "id": "RmKwj0ZFU3kZ"
      },
      "source": [
        "print(\"-x     = \", -x)\n",
        "print(\"x ** 2 = \", x ** 2)\n",
        "print(\"x % 2  = \", x % 2)"
      ],
      "execution_count": null,
      "outputs": []
    },
    {
      "cell_type": "markdown",
      "metadata": {
        "id": "Xp8L8XtWU3kZ"
      },
      "source": [
        "Además, estos se pueden unir como se desee y se respeta el orden estándar de operaciones:"
      ]
    },
    {
      "cell_type": "code",
      "metadata": {
        "id": "228AQn2VU3ka"
      },
      "source": [
        "-(0.5*x + 1) ** 2"
      ],
      "execution_count": null,
      "outputs": []
    },
    {
      "cell_type": "markdown",
      "metadata": {
        "id": "heV74YF7U3ka"
      },
      "source": [
        "Cada una de estas operaciones aritméticas son simplemente envoltorios convenientes alrededor de funciones específicas integradas en NumPy; por ejemplo, el operador `+` es un contenedor para la función `add`:"
      ]
    },
    {
      "cell_type": "code",
      "metadata": {
        "id": "FUczmq5xU3ka"
      },
      "source": [
        "np.add(x, 2)"
      ],
      "execution_count": null,
      "outputs": []
    },
    {
      "cell_type": "markdown",
      "metadata": {
        "id": "sMKwPRB0U3kb"
      },
      "source": [
        "La siguiente tabla enumera los operadores aritméticos implementados en NumPy:\n",
        "\n",
        "| Operator\t    | Equivalent ufunc    | Description                           |\n",
        "|---------------|---------------------|---------------------------------------|\n",
        "|``+``          |``np.add``           |Addition (e.g., ``1 + 1 = 2``)         |\n",
        "|``-``          |``np.subtract``      |Subtraction (e.g., ``3 - 2 = 1``)      |\n",
        "|``-``          |``np.negative``      |Unary negation (e.g., ``-2``)          |\n",
        "|``*``          |``np.multiply``      |Multiplication (e.g., ``2 * 3 = 6``)   |\n",
        "|``/``          |``np.divide``        |Division (e.g., ``3 / 2 = 1.5``)       |\n",
        "|``//``         |``np.floor_divide``  |Floor division (e.g., ``3 // 2 = 1``)  |\n",
        "|``**``         |``np.power``         |Exponentiation (e.g., ``2 ** 3 = 8``)  |\n",
        "|``%``          |``np.mod``           |Modulus/remainder (e.g., ``9 % 4 = 1``)|"
      ]
    },
    {
      "cell_type": "markdown",
      "metadata": {
        "id": "mfqU67LWU3kc"
      },
      "source": [
        "#### Valor absoluto"
      ]
    },
    {
      "cell_type": "markdown",
      "metadata": {
        "id": "a27JThg2Y50x"
      },
      "source": [
        "Así como NumPy entiende los operadores aritméticos incorporados de Python, también comprende la función de valor absoluto incorporada de Python:"
      ]
    },
    {
      "cell_type": "code",
      "metadata": {
        "id": "cL0KviSKU3kd"
      },
      "source": [
        "x = np.array([-2, -1, 0, 1, 2])\n",
        "abs(x)"
      ],
      "execution_count": null,
      "outputs": []
    },
    {
      "cell_type": "markdown",
      "metadata": {
        "id": "WFST6T20U3kg"
      },
      "source": [
        "El ufunc de NumPy correspondiente es `np.absolute`, que también está disponible bajo el alias `np.abs`:"
      ]
    },
    {
      "cell_type": "code",
      "metadata": {
        "id": "9WVv4ocRU3kg"
      },
      "source": [
        "np.absolute(x)"
      ],
      "execution_count": null,
      "outputs": []
    },
    {
      "cell_type": "code",
      "metadata": {
        "id": "NaSGFIJrU3kh"
      },
      "source": [
        "np.abs(x)"
      ],
      "execution_count": null,
      "outputs": []
    },
    {
      "cell_type": "markdown",
      "metadata": {
        "id": "cLxeGWB1U3kh"
      },
      "source": [
        "Este ufunc también puede manejar datos complejos, en los que el valor absoluto devuelve la magnitud:"
      ]
    },
    {
      "cell_type": "code",
      "metadata": {
        "id": "qHiMzqWPU3kh"
      },
      "source": [
        "x = np.array([3 - 4j, 4 - 3j, 2 + 0j, 0 + 1j])\n",
        "np.abs(x)"
      ],
      "execution_count": null,
      "outputs": []
    },
    {
      "cell_type": "markdown",
      "metadata": {
        "id": "NEnhIhNMU3ki"
      },
      "source": [
        "#### Funciones trigonométricas"
      ]
    },
    {
      "cell_type": "markdown",
      "metadata": {
        "id": "Mn9S_tv-ZI7A"
      },
      "source": [
        "NumPy proporciona una gran cantidad de ufuncs útiles, y algunas de las más útiles para el científico de datos son las funciones trigonométricas. Comenzaremos definiendo una matriz de ángulos:"
      ]
    },
    {
      "cell_type": "code",
      "metadata": {
        "id": "4P7Vp6YnU3ki"
      },
      "source": [
        "theta = np.linspace(0, np.pi, 3)"
      ],
      "execution_count": null,
      "outputs": []
    },
    {
      "cell_type": "markdown",
      "metadata": {
        "id": "qYOt0aXLU3kj"
      },
      "source": [
        "Ahora podemos calcular algunas funciones trigonométricas sobre estos valores:"
      ]
    },
    {
      "cell_type": "code",
      "metadata": {
        "id": "4R_wPC3NU3kj"
      },
      "source": [
        "print(\"theta      = \", theta)\n",
        "print(\"sin(theta) = \", np.sin(theta))\n",
        "print(\"cos(theta) = \", np.cos(theta))\n",
        "print(\"tan(theta) = \", np.tan(theta))"
      ],
      "execution_count": null,
      "outputs": []
    },
    {
      "cell_type": "markdown",
      "metadata": {
        "id": "spF3745xU3kj"
      },
      "source": [
        "Los valores se calculan dentro de la precisión de la máquina, por lo que los valores que deberían ser cero no siempre llegan exactamente a cero. Las funciones trigonométricas inversas también están disponibles:"
      ]
    },
    {
      "cell_type": "code",
      "metadata": {
        "id": "FIreRDCHU3kk"
      },
      "source": [
        "x = [-1, 0, 1]\n",
        "print(\"x         = \", x)\n",
        "print(\"arcsin(x) = \", np.arcsin(x))\n",
        "print(\"arccos(x) = \", np.arccos(x))\n",
        "print(\"arctan(x) = \", np.arctan(x))"
      ],
      "execution_count": null,
      "outputs": []
    },
    {
      "cell_type": "markdown",
      "metadata": {
        "id": "AcQBYvYAU3kl"
      },
      "source": [
        "#### Exponentes y logaritmos"
      ]
    },
    {
      "cell_type": "markdown",
      "metadata": {
        "id": "A6F9v3UKZa94"
      },
      "source": [
        "Otro tipo común de operación disponible en una ufunc de NumPy son las exponenciales:"
      ]
    },
    {
      "cell_type": "code",
      "metadata": {
        "id": "5GgbIHYZU3kl"
      },
      "source": [
        "x = [1, 2, 3]\n",
        "print(\"x     =\", x)\n",
        "print(\"e^x   =\", np.exp(x))\n",
        "print(\"2^x   =\", np.exp2(x))\n",
        "print(\"3^x   =\", np.power(3, x))"
      ],
      "execution_count": null,
      "outputs": []
    },
    {
      "cell_type": "markdown",
      "metadata": {
        "id": "rVM5wWi6U3km"
      },
      "source": [
        "La inversa de las exponenciales, los logaritmos, también están disponibles. El básico `np.log` da el logaritmo natural; Si prefiere calcular el logaritmo en base 2 o el logaritmo en base 10, también están disponibles:"
      ]
    },
    {
      "cell_type": "code",
      "metadata": {
        "id": "-THYIdClU3km"
      },
      "source": [
        "x = [1, 2, 4, 10]\n",
        "print(\"x        =\", x)\n",
        "print(\"ln(x)    =\", np.log(x))\n",
        "print(\"log2(x)  =\", np.log2(x))\n",
        "print(\"log10(x) =\", np.log10(x))"
      ],
      "execution_count": null,
      "outputs": []
    },
    {
      "cell_type": "markdown",
      "metadata": {
        "id": "1lfvA-SmU3kn"
      },
      "source": [
        "También hay algunas versiones especializadas que son útiles para mantener la precisión con una entrada muy pequeña:"
      ]
    },
    {
      "cell_type": "code",
      "metadata": {
        "id": "w7qWm0cOU3kn"
      },
      "source": [
        "x = [0, 0.001, 0.01, 0.1]\n",
        "print(\"exp(x) - 1 =\", np.expm1(x))\n",
        "print(\"log(1 + x) =\", np.log1p(x))"
      ],
      "execution_count": null,
      "outputs": []
    },
    {
      "cell_type": "markdown",
      "metadata": {
        "id": "y3brUFBkU3ko"
      },
      "source": [
        "Cuando `x` es muy pequeño, estas funciones dan valores más precisos que si se usara `np.log` o `np.exp`."
      ]
    },
    {
      "cell_type": "markdown",
      "metadata": {
        "id": "PyLilK6lU3ko"
      },
      "source": [
        "### Ufuncs especializadas"
      ]
    },
    {
      "cell_type": "markdown",
      "metadata": {
        "id": "rK21BXFQZyMi"
      },
      "source": [
        "NumPy tiene muchas más funciones ufuncs disponibles, incluidas funciones trigonométricas hiperbólicas, aritmética bit a bit, operadores de comparación, conversiones de radianes a grados, redondeo y residuos, y mucho más. Un vistazo a la documentación de NumPy revela muchas funciones interesantes.\n",
        "\n",
        "Otra fuente excelente de ufuncs más especializados y poco conocidos es el submódulo `scipy.special`. Si deseamos calcular alguna función matemática oscura en sus datos, es probable que esté implementada en `scipy.special`. Hay demasiadas funciones para enumerarlas todas, pero el siguiente fragmento muestra algunas que pueden aparecer en un contexto de estadísticas:"
      ]
    },
    {
      "cell_type": "code",
      "metadata": {
        "id": "70Q56USYU3kp"
      },
      "source": [
        "from scipy import special"
      ],
      "execution_count": null,
      "outputs": []
    },
    {
      "cell_type": "code",
      "metadata": {
        "id": "emffdrOoU3kp"
      },
      "source": [
        "# Gamma functions (generalized factorials) and related functions\n",
        "x = [1, 5, 10]\n",
        "print(\"gamma(x)     =\", special.gamma(x))\n",
        "print(\"ln|gamma(x)| =\", special.gammaln(x))\n",
        "print(\"beta(x, 2)   =\", special.beta(x, 2))"
      ],
      "execution_count": null,
      "outputs": []
    },
    {
      "cell_type": "code",
      "metadata": {
        "id": "D180rgKlU3kp"
      },
      "source": [
        "# Error function (integral of Gaussian)\n",
        "# its complement, and its inverse\n",
        "x = np.array([0, 0.3, 0.7, 1.0])\n",
        "print(\"erf(x)  =\", special.erf(x))\n",
        "print(\"erfc(x) =\", special.erfc(x))\n",
        "print(\"erfinv(x) =\", special.erfinv(x))"
      ],
      "execution_count": null,
      "outputs": []
    },
    {
      "cell_type": "markdown",
      "metadata": {
        "id": "Qil604eQU3kq"
      },
      "source": [
        "Hay muchos, muchos más ufuncs disponibles tanto en NumPy como en `scipy.special`. Debido a que la documentación de estos paquetes está disponible en línea, una búsqueda web en la línea de \"función gamma python\" generalmente encontrará la información relevante."
      ]
    },
    {
      "cell_type": "markdown",
      "metadata": {
        "id": "KWubWMjfU3kq"
      },
      "source": [
        "### Funciones avanzadas de Ufunc"
      ]
    },
    {
      "cell_type": "markdown",
      "metadata": {
        "id": "0xBDH9edaHyc"
      },
      "source": [
        "Muchos usuarios de NumPy hacen uso de ufuncs sin tener que aprender su conjunto completo de funciones. Aquí describiremos algunas características especializadas de ufuncs."
      ]
    },
    {
      "cell_type": "markdown",
      "metadata": {
        "id": "mWLoNiRdU3kr"
      },
      "source": [
        "#### Especificando la salida"
      ]
    },
    {
      "cell_type": "markdown",
      "metadata": {
        "id": "o3TZwHvzaNfM"
      },
      "source": [
        "Para cálculos grandes, a veces es útil poder especificar el arrego donde se almacenará el resultado del cálculo. En lugar de crear un arreglo temporal, esto se puede usar para escribir los resultados del cálculo directamente en la ubicación de la memoria donde le gustaría que estuvieran. Para todas las ufuncs, esto se puede hacer usando el outargumento de la función:"
      ]
    },
    {
      "cell_type": "code",
      "metadata": {
        "id": "n_kxgMEYU3kr"
      },
      "source": [
        "x = np.arange(5)\n",
        "y = np.empty(5)\n",
        "np.multiply(x, 10, out=y)\n",
        "print(y)"
      ],
      "execution_count": null,
      "outputs": []
    },
    {
      "cell_type": "markdown",
      "metadata": {
        "id": "nixhUdO0U3kr"
      },
      "source": [
        "Esto incluso se puede usar con vistas de arreglos. Por ejemplo, podemos escribir los resultados de un cálculo en todos los demás elementos de un arreglo específico:"
      ]
    },
    {
      "cell_type": "code",
      "metadata": {
        "id": "FReHAmjnU3ks"
      },
      "source": [
        "y = np.zeros(10)\n",
        "np.power(2, x, out=y[::2])\n",
        "print(y)"
      ],
      "execution_count": null,
      "outputs": []
    },
    {
      "cell_type": "markdown",
      "metadata": {
        "id": "mppMVxELU3ks"
      },
      "source": [
        "Si en cambio hubiéramos escrito `y[::2] = 2 ** x`, esto habría resultado en la creación de una matriz temporal para contener los resultados `2 ** x`, seguida de una segunda operación copiando esos valores en el arreglo `y`. Esto no hace mucha diferencia para un cálculo tan pequeño, pero para arreglos muy grandes, el ahorro de memoria por el uso cuidadoso del argumento `out` puede ser significativo."
      ]
    },
    {
      "cell_type": "markdown",
      "metadata": {
        "id": "LiOmONs1U3kt"
      },
      "source": [
        "#### Aggregates"
      ]
    },
    {
      "cell_type": "markdown",
      "metadata": {
        "id": "MZsbey1zap6n"
      },
      "source": [
        "Para ufuncs binarios, hay algunos agregados interesantes que se pueden calcular directamente desde el objeto. Por ejemplo, si queremos reducir una matriz con una operación en particular, podemos usar el método `reduce` de cualquier ufunc. Reducir aplica repetidamente una operación determinada a los elementos de una matriz hasta que solo queda un resultado.\n",
        "\n",
        "Por ejemplo, llamar `reduce` al ufunc `add` devuelve la suma de todos los elementos de la matriz:"
      ]
    },
    {
      "cell_type": "code",
      "metadata": {
        "id": "1B7uE5KyU3kt",
        "outputId": "d70d5211-e550-47a1-f7cc-f9ca29821195"
      },
      "source": [
        "x = np.arange(1, 6)\n",
        "np.add.reduce(x)"
      ],
      "execution_count": null,
      "outputs": [
        {
          "output_type": "execute_result",
          "data": {
            "text/plain": [
              "15"
            ]
          },
          "metadata": {
            "tags": []
          },
          "execution_count": 26
        }
      ]
    },
    {
      "cell_type": "markdown",
      "metadata": {
        "id": "vKvnKRbAU3ku"
      },
      "source": [
        "De manera similar, llamar `reduce` a la ufunc `multiply` da como resultado el producto de todos los elementos de la matriz:"
      ]
    },
    {
      "cell_type": "code",
      "metadata": {
        "id": "FMxrlcH_U3ku"
      },
      "source": [
        "np.multiply.reduce(x)"
      ],
      "execution_count": null,
      "outputs": []
    },
    {
      "cell_type": "markdown",
      "metadata": {
        "id": "KIKUZtxyU3ku"
      },
      "source": [
        "Si queremos almacenar todos los resultados intermedios del cálculo, podemos usar en su lugar `accumulate`:"
      ]
    },
    {
      "cell_type": "code",
      "metadata": {
        "id": "2jaZVMcoU3kv"
      },
      "source": [
        "np.add.accumulate(x)"
      ],
      "execution_count": null,
      "outputs": []
    },
    {
      "cell_type": "code",
      "metadata": {
        "id": "wxKZqV7gU3kv"
      },
      "source": [
        "np.multiply.accumulate(x)"
      ],
      "execution_count": null,
      "outputs": []
    },
    {
      "cell_type": "markdown",
      "metadata": {
        "id": "hxnHKNyFU3kv"
      },
      "source": [
        "#### Producto Externo"
      ]
    },
    {
      "cell_type": "markdown",
      "metadata": {
        "id": "qtTfVh_ObEK7"
      },
      "source": [
        "Finalmente, cualquier ufunc puede calcular la salida de todos los pares de dos entradas diferentes usando el método `outer`. Esto le permite, en una línea, hacer cosas como crear una tabla de multiplicar:"
      ]
    },
    {
      "cell_type": "code",
      "metadata": {
        "scrolled": true,
        "id": "VZJRjRZfU3kw"
      },
      "source": [
        "x = np.arange(1, 6)\n",
        "np.multiply.outer(x, x)"
      ],
      "execution_count": null,
      "outputs": []
    },
    {
      "cell_type": "markdown",
      "metadata": {
        "id": "D8qOwe5SbXUh"
      },
      "source": [
        "## Agregaciones: Min, Max y todo lo demás"
      ]
    },
    {
      "cell_type": "markdown",
      "metadata": {
        "id": "SYbLDnQGbXUh"
      },
      "source": [
        "A menudo, cuando se enfrenta a una gran cantidad de datos, un primer paso es calcular estadísticas resumidas para los datos en cuestión. Quizás las estadísticas de resumen más comunes son la media y la desviación estándar, que le permiten resumir los valores \"típicos\" en un conjunto de datos, pero otros agregados también son útiles (la suma, el producto, la mediana, el mínimo y el máximo, los cuantiles, etc. ).\n",
        "\n",
        "NumPy tiene funciones de agregación integradas rápidas para trabajar en arreglos."
      ]
    },
    {
      "cell_type": "markdown",
      "metadata": {
        "id": "FgOE2-rnbXUi"
      },
      "source": [
        "## Sumar los valores en un arreglo"
      ]
    },
    {
      "cell_type": "markdown",
      "metadata": {
        "id": "ZmWH-P6UcXm-"
      },
      "source": [
        "Como ejemplo rápido, considere calcular la suma de todos los valores en un arreglo. Python mismo puede hacer esto usando la función `sum` incorporada:"
      ]
    },
    {
      "cell_type": "code",
      "metadata": {
        "id": "BcYCjgyebXUi"
      },
      "source": [
        "import numpy as np"
      ],
      "execution_count": null,
      "outputs": []
    },
    {
      "cell_type": "code",
      "metadata": {
        "id": "6AouCX92bXUj"
      },
      "source": [
        "L = np.random.random(100)\n",
        "sum(L)"
      ],
      "execution_count": null,
      "outputs": []
    },
    {
      "cell_type": "markdown",
      "metadata": {
        "id": "pTL7JwezbXUl"
      },
      "source": [
        "La sintaxis es bastante similar a la de la función `sum` de NumPy, y el resultado es el mismo en el caso más simple:"
      ]
    },
    {
      "cell_type": "code",
      "metadata": {
        "id": "GE_RLwp5bXUm"
      },
      "source": [
        "np.sum(L)"
      ],
      "execution_count": null,
      "outputs": []
    },
    {
      "cell_type": "markdown",
      "metadata": {
        "id": "25pHjUfzbXUm"
      },
      "source": [
        "Sin embargo, debido a que ejecuta la operación en código compilado, la versión de la operación de NumPy se calcula mucho más rápidamente:"
      ]
    },
    {
      "cell_type": "code",
      "metadata": {
        "id": "cCgilYT-bXUn"
      },
      "source": [
        "big_array = np.random.rand(1000000)\n",
        "%timeit sum(big_array)\n",
        "%timeit np.sum(big_array)"
      ],
      "execution_count": null,
      "outputs": []
    },
    {
      "cell_type": "markdown",
      "metadata": {
        "id": "dnAWqIC8bXUn"
      },
      "source": [
        "Sin embargo, tenga cuidado: la función `sum` y la función `np.sum` no son idénticas, lo que a veces puede generar confusión. En particular, sus argumentos opcionales tienen diferentes significados y `np.sum` es consciente de múltiples dimensiones de arreglos."
      ]
    },
    {
      "cell_type": "markdown",
      "metadata": {
        "id": "ReS6upLZbXUo"
      },
      "source": [
        "### Mínimo y Máximo"
      ]
    },
    {
      "cell_type": "markdown",
      "metadata": {
        "id": "9gDjgreOc2cy"
      },
      "source": [
        "De manera similar, Python tiene funciones `min` y `max` incorporadas, que se utilizan para encontrar el valor mínimo y el valor máximo de cualquier matriz dada:"
      ]
    },
    {
      "cell_type": "code",
      "metadata": {
        "id": "c0CuyC3VbXUo"
      },
      "source": [
        "min(big_array), max(big_array)"
      ],
      "execution_count": null,
      "outputs": []
    },
    {
      "cell_type": "markdown",
      "metadata": {
        "id": "JpSR_AKibXUo"
      },
      "source": [
        "Las funciones correspondientes de NumPy tienen una sintaxis similar y, nuevamente, operan mucho más rápidamente:"
      ]
    },
    {
      "cell_type": "code",
      "metadata": {
        "id": "LoYFNfqVbXUp"
      },
      "source": [
        "np.min(big_array), np.max(big_array)"
      ],
      "execution_count": null,
      "outputs": []
    },
    {
      "cell_type": "code",
      "metadata": {
        "id": "nTr9o8vKbXUp"
      },
      "source": [
        "%timeit min(big_array)\n",
        "%timeit np.min(big_array)"
      ],
      "execution_count": null,
      "outputs": []
    },
    {
      "cell_type": "markdown",
      "metadata": {
        "id": "oFLus5vpbXUp"
      },
      "source": [
        "Para `min`, `max`, `sum`, y varios otros agregados NumPy, una sintaxis más corta es a métodos de uso de la propia objeto de matriz:"
      ]
    },
    {
      "cell_type": "code",
      "metadata": {
        "id": "ArjqzkvXbXUq"
      },
      "source": [
        "print(big_array.min(), big_array.max(), big_array.sum())"
      ],
      "execution_count": null,
      "outputs": []
    },
    {
      "cell_type": "markdown",
      "metadata": {
        "id": "8ehtAk-CbXUq"
      },
      "source": [
        "Siempre que sea posible, asegúrese de estar utilizando la versión NumPy de estos agregados cuando opere en matrices NumPy"
      ]
    },
    {
      "cell_type": "markdown",
      "metadata": {
        "id": "EVBO82U1bXUt"
      },
      "source": [
        "### Otras funciones de agregación\n",
        "\n",
        "NumPy proporciona muchas otras funciones de agregación, pero no las discutiremos en detalle aquí. Además, la mayoría de los agregados tienen una NaN contraparte segura que calcula el resultado ignorando los valores perdidos.\n",
        "\n",
        "La siguiente tabla proporciona una lista de funciones de agregación útiles disponibles en NumPy:\n",
        "\n",
        "|Function Name      |   NaN-safe Version  | Description                                   |\n",
        "|-------------------|---------------------|-----------------------------------------------|\n",
        "| ``np.sum``        | ``np.nansum``       | Compute sum of elements                       |\n",
        "| ``np.prod``       | ``np.nanprod``      | Compute product of elements                   |\n",
        "| ``np.mean``       | ``np.nanmean``      | Compute mean of elements                      |\n",
        "| ``np.std``        | ``np.nanstd``       | Compute standard deviation                    |\n",
        "| ``np.var``        | ``np.nanvar``       | Compute variance                              |\n",
        "| ``np.min``        | ``np.nanmin``       | Find minimum value                            |\n",
        "| ``np.max``        | ``np.nanmax``       | Find maximum value                            |\n",
        "| ``np.argmin``     | ``np.nanargmin``    | Find index of minimum value                   |\n",
        "| ``np.argmax``     | ``np.nanargmax``    | Find index of maximum value                   |\n",
        "| ``np.median``     | ``np.nanmedian``    | Compute median of elements                    |\n",
        "| ``np.percentile`` | ``np.nanpercentile``| Compute rank-based statistics of elements     |\n",
        "| ``np.any``        | N/A                 | Evaluate whether any elements are true        |\n",
        "| ``np.all``        | N/A                 | Evaluate whether all elements are true        |\n"
      ]
    },
    {
      "cell_type": "markdown",
      "metadata": {
        "id": "d-n5KvoAeB1v"
      },
      "source": [
        "## Indexación Elegante"
      ]
    },
    {
      "cell_type": "markdown",
      "metadata": {
        "id": "ggCUbgrNeB1w"
      },
      "source": [
        "En esta sección, veremos otro estilo de indexación de arreglos, conocido como indexación elegante . La indexación elegante es como la indexación simple que ya hemos visto, pero pasamos matrices de índices en lugar de escalares simples. Esto nos permite acceder y modificar muy rápidamente subconjuntos complicados de los valores de una matriz."
      ]
    },
    {
      "cell_type": "markdown",
      "metadata": {
        "id": "kLgJg4DCeB1w"
      },
      "source": [
        "### Explorando la indexación elegante\n",
        "\n",
        "La indexación elegante es conceptualmente simple: significa pasar un arreglo de índices para acceder a varios elementos de la matriz a la vez. Por ejemplo, consideremos la siguiente matriz:"
      ]
    },
    {
      "cell_type": "code",
      "metadata": {
        "id": "2vCTIRFJeB1x"
      },
      "source": [
        "import numpy as np\n",
        "rand = np.random.RandomState(42)\n",
        "\n",
        "x = rand.randint(100, size=10)\n",
        "print(x)"
      ],
      "execution_count": null,
      "outputs": []
    },
    {
      "cell_type": "markdown",
      "metadata": {
        "id": "TFJUKoS9eB1y"
      },
      "source": [
        "Supongamos que queremos acceder a tres elementos diferentes. Podríamos hacerlo así:"
      ]
    },
    {
      "cell_type": "code",
      "metadata": {
        "id": "dGdjceY9eB1z"
      },
      "source": [
        "[x[3], x[7], x[2]]"
      ],
      "execution_count": null,
      "outputs": []
    },
    {
      "cell_type": "markdown",
      "metadata": {
        "id": "b6J3ipakeB1z"
      },
      "source": [
        "Alternativamente, podemos pasar una sola lista o matriz de índices para obtener el mismo resultado:"
      ]
    },
    {
      "cell_type": "code",
      "metadata": {
        "id": "rOc_2alLeB10"
      },
      "source": [
        "ind = [3, 7, 4]\n",
        "x[ind]"
      ],
      "execution_count": null,
      "outputs": []
    },
    {
      "cell_type": "markdown",
      "metadata": {
        "id": "s4up_YZ9eB10"
      },
      "source": [
        "Cuando se usa una indexación elegante, la forma del resultado refleja la forma de las matrices de índice en lugar de la forma de la matriz que se indexa :"
      ]
    },
    {
      "cell_type": "code",
      "metadata": {
        "id": "zcKNKVxweB11"
      },
      "source": [
        "ind = np.array([[3, 7],\n",
        "                [4, 5]])\n",
        "x[ind]"
      ],
      "execution_count": null,
      "outputs": []
    },
    {
      "cell_type": "markdown",
      "metadata": {
        "id": "mugXiPP0eB11"
      },
      "source": [
        "La indexación elegante también funciona en múltiples dimensiones. Considere la siguiente matriz:"
      ]
    },
    {
      "cell_type": "code",
      "metadata": {
        "id": "oMCgpbV2eB11"
      },
      "source": [
        "X = np.arange(12).reshape((3, 4))\n",
        "X"
      ],
      "execution_count": null,
      "outputs": []
    },
    {
      "cell_type": "markdown",
      "metadata": {
        "id": "-wjIkIAOeB12"
      },
      "source": [
        "Al igual que con la indexación estándar, el primer índice se refiere a la fila y el segundo a la columna:"
      ]
    },
    {
      "cell_type": "code",
      "metadata": {
        "id": "jsZzN9OVeB12"
      },
      "source": [
        "row = np.array([0, 1, 2])\n",
        "col = np.array([2, 1, 3])\n",
        "X[row, col]"
      ],
      "execution_count": null,
      "outputs": []
    },
    {
      "cell_type": "markdown",
      "metadata": {
        "id": "ZjxnzIJjeB12"
      },
      "source": [
        "Observe que el primer valor en el resultado es `X[0, 2]`, el segundo es `X[1, 1]` y el tercero es `X[2, 3]`. Entonces, por ejemplo, si combinamos un vector de columna y un vector de fila dentro de los índices, obtenemos un resultado bidimensional:"
      ]
    },
    {
      "cell_type": "code",
      "metadata": {
        "id": "oCtH1EEqeB13"
      },
      "source": [
        "X[row[:, np.newaxis], col]"
      ],
      "execution_count": null,
      "outputs": []
    },
    {
      "cell_type": "markdown",
      "metadata": {
        "id": "nov2V68teB13"
      },
      "source": [
        "Aquí, cada valor de fila se compara con cada vector de columna, exactamente como vimos en la transmisión de operaciones aritméticas. Por ejemplo:"
      ]
    },
    {
      "cell_type": "code",
      "metadata": {
        "id": "NGmTNx6TeB13",
        "outputId": "9e3b4011-252c-4e26-b462-a869685d0985"
      },
      "source": [
        "row[:, np.newaxis] * col"
      ],
      "execution_count": null,
      "outputs": [
        {
          "output_type": "execute_result",
          "data": {
            "text/plain": [
              "array([[0, 0, 0],\n",
              "       [2, 1, 3],\n",
              "       [4, 2, 6]])"
            ]
          },
          "metadata": {
            "tags": []
          },
          "execution_count": 8
        }
      ]
    },
    {
      "cell_type": "markdown",
      "metadata": {
        "id": "iQpFg86veB14"
      },
      "source": [
        "Siempre es importante recordar con una indexación elegante que el valor de retorno refleja la forma transmitida de los índices, en lugar de la forma del arreglo que se indexa."
      ]
    },
    {
      "cell_type": "markdown",
      "metadata": {
        "id": "MgwZAXEoeB14"
      },
      "source": [
        "### Indexación combinada"
      ]
    },
    {
      "cell_type": "markdown",
      "metadata": {
        "id": "CaXccOIjfUi5"
      },
      "source": [
        "Para operaciones aún más poderosas, la indexación sofisticada se puede combinar con los otros esquemas de indexación que hemos visto:"
      ]
    },
    {
      "cell_type": "code",
      "metadata": {
        "id": "HjjWuy-feB14"
      },
      "source": [
        "print(X)"
      ],
      "execution_count": null,
      "outputs": []
    },
    {
      "cell_type": "markdown",
      "metadata": {
        "id": "C0_bPzf9eB15"
      },
      "source": [
        "Podemos combinar índices elegantes y simples:"
      ]
    },
    {
      "cell_type": "code",
      "metadata": {
        "id": "AiFtQ6C2eB15"
      },
      "source": [
        "X[2, [2, 0, 1]]"
      ],
      "execution_count": null,
      "outputs": []
    },
    {
      "cell_type": "markdown",
      "metadata": {
        "id": "zNyW4hCQeB15"
      },
      "source": [
        "También podemos combinar la indexación elegante con la división:"
      ]
    },
    {
      "cell_type": "code",
      "metadata": {
        "id": "J_TyRCjieB15"
      },
      "source": [
        "X[1:, [2, 0, 1]]"
      ],
      "execution_count": null,
      "outputs": []
    },
    {
      "cell_type": "markdown",
      "metadata": {
        "id": "UGzb0jTZeB16"
      },
      "source": [
        "Y podemos combinar la indexación elegante con el enmascaramiento:"
      ]
    },
    {
      "cell_type": "code",
      "metadata": {
        "id": "_FIqfbKdeB16"
      },
      "source": [
        "mask = np.array([1, 0, 1, 0], dtype=bool)\n",
        "X[row[:, np.newaxis], mask]"
      ],
      "execution_count": null,
      "outputs": []
    },
    {
      "cell_type": "markdown",
      "metadata": {
        "id": "qu4Ui24aeB16"
      },
      "source": [
        "Todas estas opciones de indexación combinadas conducen a un conjunto muy flexible de operaciones para acceder y modificar los valores de la matriz."
      ]
    },
    {
      "cell_type": "markdown",
      "metadata": {
        "id": "HYFHfQdGfxz-"
      },
      "source": [
        "## Ordenar arreglos"
      ]
    },
    {
      "cell_type": "markdown",
      "metadata": {
        "id": "XaLr_jIGfxz-"
      },
      "source": [
        "uUna ordenación de selección simple encuentra repetidamente el valor mínimo de una lista y realiza intercambios hasta que se ordena la lista. Podemos codificar esto en solo unas pocas líneas de Python:"
      ]
    },
    {
      "cell_type": "code",
      "metadata": {
        "id": "_jORQSy5fxz-"
      },
      "source": [
        "import numpy as np\n",
        "\n",
        "def selection_sort(x):\n",
        "    for i in range(len(x)):\n",
        "        swap = i + np.argmin(x[i:])\n",
        "        (x[i], x[swap]) = (x[swap], x[i])\n",
        "    return x"
      ],
      "execution_count": null,
      "outputs": []
    },
    {
      "cell_type": "code",
      "metadata": {
        "id": "EWLS6p37fxz_"
      },
      "source": [
        "x = np.array([2, 1, 4, 3, 5])\n",
        "selection_sort(x)"
      ],
      "execution_count": null,
      "outputs": []
    },
    {
      "cell_type": "markdown",
      "metadata": {
        "id": "7A66gP03fx0B"
      },
      "source": [
        "El tipo de selección es útil por su simplicidad, pero es demasiado lento para ser útil para arreglos más grandes. Para obtener una lista de $N$ valores, requiere $N$ bucles, cada uno de los cuales hace $N$ comparaciones para encontrar el valor de intercambio. En términos de la notación \"Big-O\" que se usa a menudo para caracterizar estos algoritmos [Big-O Notation](#Aside:-Big-O-Notation), el orden de selección promedia $\\mathcal{O}[N^2]$: si duplica el número de elementos de la lista, el tiempo de ejecución aumentará aproximadamente en un factor de cuatro."
      ]
    },
    {
      "cell_type": "markdown",
      "metadata": {
        "id": "UvgAI3n_g50A"
      },
      "source": [
        "Afortunadamente, Python contiene algoritmos de ordenación integrados que son mucho más eficientes que cualquiera de los algoritmos simplistas que se conocen."
      ]
    },
    {
      "cell_type": "markdown",
      "metadata": {
        "id": "DpJRnJuEfx0C"
      },
      "source": [
        "### Ordenamiento rápido en NumPy: `np.sort` y `np.argsort`"
      ]
    },
    {
      "cell_type": "markdown",
      "metadata": {
        "id": "8tvG26cMhGGq"
      },
      "source": [
        "La función `np.sort` resulta ser mucho más eficiente y útil para nuestros propósitos. Por defecto `np.sort` utiliza un $\\mathcal{O}[N\\log N]$, algoritmo *quicksort*, aunque también están disponibles *mergesort* y *heapsort*. Para la mayoría de las aplicaciones, la clasificación rápida predeterminada es más que suficiente.\n",
        "\n",
        "Para devolver una versión ordenada de la matriz sin modificar la entrada, puede usar `np.sort`:"
      ]
    },
    {
      "cell_type": "code",
      "metadata": {
        "id": "3fWdUk40fx0D"
      },
      "source": [
        "x = np.array([2, 1, 4, 3, 5])\n",
        "np.sort(x)"
      ],
      "execution_count": null,
      "outputs": []
    },
    {
      "cell_type": "markdown",
      "metadata": {
        "id": "mkSYwL0afx0D"
      },
      "source": [
        "Si prefierimos ordenar el arreglo en el lugar, podemos usar el método sort de arreglos:"
      ]
    },
    {
      "cell_type": "code",
      "metadata": {
        "id": "hORHjd6Ffx0E"
      },
      "source": [
        "x.sort()\n",
        "print(x)"
      ],
      "execution_count": null,
      "outputs": []
    },
    {
      "cell_type": "markdown",
      "metadata": {
        "id": "GQ_m1sCRfx0E"
      },
      "source": [
        "Una función relacionada es `argsort`, que en su lugar devuelve los índices de los elementos ordenados:"
      ]
    },
    {
      "cell_type": "code",
      "metadata": {
        "id": "zE4Gs7J2fx0E",
        "outputId": "b6c89a13-378c-4dda-b4ae-992242750efb"
      },
      "source": [
        "x = np.array([2, 1, 4, 3, 5])\n",
        "i = np.argsort(x)\n",
        "print(i)"
      ],
      "execution_count": null,
      "outputs": [
        {
          "output_type": "stream",
          "text": [
            "[1 0 3 2 4]\n"
          ],
          "name": "stdout"
        }
      ]
    },
    {
      "cell_type": "markdown",
      "metadata": {
        "id": "xwc4mMSRfx0F"
      },
      "source": [
        "El primer elemento de este resultado da el índice del elemento más pequeño, el segundo valor da el índice del segundo más pequeño, y así sucesivamente. Estos índices se pueden usar (a través de una indexación elegante) para construir el arreglo ordenada si se desea:"
      ]
    },
    {
      "cell_type": "code",
      "metadata": {
        "id": "qkzSFHWFfx0F"
      },
      "source": [
        "x[i]"
      ],
      "execution_count": null,
      "outputs": []
    },
    {
      "cell_type": "markdown",
      "metadata": {
        "id": "C1rNB8Ukfx0F"
      },
      "source": [
        "#### Ordenar por filas o columnas"
      ]
    },
    {
      "cell_type": "markdown",
      "metadata": {
        "id": "v2YGwrbHfx0G"
      },
      "source": [
        "Una característica útil de los algoritmos de ordenamiento de NumPy es la capacidad de ordenar filas o columnas específicas de una matriz multidimensional utilizando el argumento `axis`. Por ejemplo:"
      ]
    },
    {
      "cell_type": "code",
      "metadata": {
        "id": "6OQUXKGIfx0G"
      },
      "source": [
        "rand = np.random.RandomState(42)\n",
        "X = rand.randint(0, 10, (4, 6))\n",
        "print(X)"
      ],
      "execution_count": null,
      "outputs": []
    },
    {
      "cell_type": "code",
      "metadata": {
        "id": "aI3T7Jhxfx0H"
      },
      "source": [
        "# sort each column of X\n",
        "np.sort(X, axis=0)"
      ],
      "execution_count": null,
      "outputs": []
    },
    {
      "cell_type": "code",
      "metadata": {
        "id": "kUXeveu_fx0H"
      },
      "source": [
        "# sort each row of X\n",
        "np.sort(X, axis=1)"
      ],
      "execution_count": null,
      "outputs": []
    },
    {
      "cell_type": "markdown",
      "metadata": {
        "id": "tR6iSoR6fx0I"
      },
      "source": [
        "### Ordenamiento parcial: particionamiento"
      ]
    },
    {
      "cell_type": "markdown",
      "metadata": {
        "id": "uVO74wUtikAL"
      },
      "source": [
        "A veces no estamos interesados ​​en ordenar el arreglo completo, \n",
        "simplemente queremos encontrar los `k` valores más pequeños en el arreglo. NumPy proporciona esto en la función `np.partition`. `np.partition` toma una matriz y un número `K`; el resultado es un nuevo arreglo con los valores de `K` más pequeños a la izquierda de la partición y los valores restantes a la derecha, en orden arbitrario:"
      ]
    },
    {
      "cell_type": "code",
      "metadata": {
        "id": "SCNZH51Ufx0J"
      },
      "source": [
        "x = np.array([7, 2, 3, 1, 6, 5, 4])\n",
        "np.partition(x, 3)"
      ],
      "execution_count": null,
      "outputs": []
    },
    {
      "cell_type": "markdown",
      "metadata": {
        "id": "sbhKflEPfx0J"
      },
      "source": [
        "De manera similar a la ordenación, podemos dividir a lo largo de un eje arbitrario de una matriz multidimensional:"
      ]
    },
    {
      "cell_type": "code",
      "metadata": {
        "id": "JARhnPq1fx0K"
      },
      "source": [
        "np.partition(X, 2, axis=1)"
      ],
      "execution_count": null,
      "outputs": []
    },
    {
      "cell_type": "markdown",
      "metadata": {
        "id": "mdLhKcZJfx0K"
      },
      "source": [
        "El resultado es un arreglo en la que los dos primeros espacios de cada fila contienen los valores más pequeños de esa fila, y los valores restantes llenan los espacios restantes."
      ]
    }
  ]
}