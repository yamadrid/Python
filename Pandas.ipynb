{
  "nbformat": 4,
  "nbformat_minor": 0,
  "metadata": {
    "colab": {
      "name": "Pandas.ipynb",
      "provenance": [],
      "collapsed_sections": [],
      "authorship_tag": "ABX9TyM3r2n2sDcO3wG2umjYBNPw",
      "include_colab_link": true
    },
    "kernelspec": {
      "name": "python3",
      "display_name": "Python 3"
    }
  },
  "cells": [
    {
      "cell_type": "markdown",
      "metadata": {
        "id": "view-in-github",
        "colab_type": "text"
      },
      "source": [
        "<a href=\"https://colab.research.google.com/github/yamadrid/Python/blob/main/Pandas.ipynb\" target=\"_parent\"><img src=\"https://colab.research.google.com/assets/colab-badge.svg\" alt=\"Open In Colab\"/></a>"
      ]
    },
    {
      "cell_type": "markdown",
      "metadata": {
        "id": "RpnKHod2JviO"
      },
      "source": [
        "*Este notebook hecho exclusivamente para educación, es una adaptación de  [Python Data Science Handbook](http://shop.oreilly.com/product/0636920034919.do) por Jake VanderPlas; contenido original disponible [on GitHub](https://github.com/jakevdp/PythonDataScienceHandbook).*"
      ]
    },
    {
      "cell_type": "markdown",
      "metadata": {
        "id": "kSAmmod6pZv_"
      },
      "source": [
        "# Introducción a los objetos Pandas"
      ]
    },
    {
      "cell_type": "markdown",
      "metadata": {
        "id": "gqxazzAfpZv_"
      },
      "source": [
        "En un nivel muy básico, los objetos Pandas se pueden considerar como versiones mejoradas de matrices estructuradas NumPy en las que las filas y columnas se identifican con etiquetas en lugar de simples índices enteros. Pandas proporciona una serie de herramientas, métodos y funcionalidades útiles además de las estructuras de datos básicas, pero casi todo lo que sigue requerirá una comprensión de qué son estas estructuras. Por lo tanto, antes de seguir adelante, vamos a introducir estas tres estructuras de datos fundamentales pandas: el `Series`, `DataFrame`, y `Index`.\n",
        "\n",
        "Comenzaremos nuestras sesiones de código con las importaciones estándar de NumPy y Pandas:"
      ]
    },
    {
      "cell_type": "code",
      "metadata": {
        "collapsed": true,
        "id": "VZC0qAgxpZwA"
      },
      "source": [
        "import numpy as np\n",
        "import pandas as pd"
      ],
      "execution_count": null,
      "outputs": []
    },
    {
      "cell_type": "markdown",
      "metadata": {
        "id": "pyK4mvJMpZwB"
      },
      "source": [
        "## El objeto de la serie Pandas"
      ]
    },
    {
      "cell_type": "markdown",
      "metadata": {
        "id": "29yYkQUCqWlr"
      },
      "source": [
        "Un pandas Series es un arreglo unidimensional de datos indexados. Se puede crear a partir de una lista o arreglo de la siguiente manera:"
      ]
    },
    {
      "cell_type": "code",
      "metadata": {
        "id": "syqOdqxopZwB"
      },
      "source": [
        "data = pd.Series([0.25, 0.5, 0.75, 1.0])\n",
        "data"
      ],
      "execution_count": null,
      "outputs": []
    },
    {
      "cell_type": "markdown",
      "metadata": {
        "id": "F20B5lJPpZwE"
      },
      "source": [
        "Como vemos en la salida, `Series` envuelve tanto una secuencia de valores como una secuencia de índices, a los que podemos acceder con los atributos `values` y `index`. Los `values` son simplemente un arreglo familiarizado NumPy:"
      ]
    },
    {
      "cell_type": "code",
      "metadata": {
        "id": "PuAIXzjupZwE"
      },
      "source": [
        "data.values"
      ],
      "execution_count": null,
      "outputs": []
    },
    {
      "cell_type": "markdown",
      "metadata": {
        "id": "4srcKm7SpZwF"
      },
      "source": [
        "El `index` es un objeto de tipo similar a una matriz `pd.Index`"
      ]
    },
    {
      "cell_type": "code",
      "metadata": {
        "id": "w5rauRSfpZwF"
      },
      "source": [
        "data.index"
      ],
      "execution_count": null,
      "outputs": []
    },
    {
      "cell_type": "markdown",
      "metadata": {
        "id": "okWdj51DpZwG"
      },
      "source": [
        "Al igual que con un arreglo NumPy, se puede acceder a los datos mediante el índice asociado a través de la conocida notación de corchetes de Python:"
      ]
    },
    {
      "cell_type": "code",
      "metadata": {
        "id": "cQNIgKorpZwH"
      },
      "source": [
        "data[1]"
      ],
      "execution_count": null,
      "outputs": []
    },
    {
      "cell_type": "code",
      "metadata": {
        "id": "MebcRrjQpZwH"
      },
      "source": [
        "data[1:3]"
      ],
      "execution_count": null,
      "outputs": []
    },
    {
      "cell_type": "markdown",
      "metadata": {
        "id": "dTbgvkEbpZwI"
      },
      "source": [
        "Sin embargo, como veremos, Pandas Serieses mucho más general y flexible que la matriz NumPy unidimensional que emula."
      ]
    },
    {
      "cell_type": "markdown",
      "metadata": {
        "id": "RcVfyzehpZwI"
      },
      "source": [
        "### `Series` como arreglo NumPy generalizado"
      ]
    },
    {
      "cell_type": "markdown",
      "metadata": {
        "id": "6rFJplIxpZwJ"
      },
      "source": [
        "Por lo que hemos visto hasta ahora, puede parecer que el objeto `Series`  es básicamente intercambiable con un arreglo NumPy unidimensional. La diferencia esencial es la presencia del índice: mientras que Numpy `Array` tiene un índice entero definido implícitamente que se usa para acceder a los valores, Pandas `Series` tiene un índice definido explícitamente asociado con los valores.\n",
        "\n",
        "Esta definición de índice explícita le da al objeto `Series` capacidades adicionales. Por ejemplo, no es necesario que el índice sea un número entero, pero puede constar de valores de cualquier tipo deseado. Por ejemplo, si lo deseamos, podemos usar cadenas como índice:"
      ]
    },
    {
      "cell_type": "code",
      "metadata": {
        "id": "F-Wf6AZUpZwJ"
      },
      "source": [
        "data = pd.Series([0.25, 0.5, 0.75, 1.0],\n",
        "                 index=['a', 'b', 'c', 'd'])\n",
        "data"
      ],
      "execution_count": null,
      "outputs": []
    },
    {
      "cell_type": "markdown",
      "metadata": {
        "id": "V6nNQaQHpZwJ"
      },
      "source": [
        "Y el acceso al elemento funciona como se esperaba:"
      ]
    },
    {
      "cell_type": "code",
      "metadata": {
        "id": "YFkZbBKbpZwK"
      },
      "source": [
        "data['b']"
      ],
      "execution_count": null,
      "outputs": []
    },
    {
      "cell_type": "markdown",
      "metadata": {
        "id": "q3mQFD5MpZwK"
      },
      "source": [
        "Incluso podemos utilizar índices no contiguos o no secuenciales:"
      ]
    },
    {
      "cell_type": "code",
      "metadata": {
        "id": "RN-EAQjnpZwK"
      },
      "source": [
        "data = pd.Series([0.25, 0.5, 0.75, 1.0],\n",
        "                 index=[2, 5, 3, 7])\n",
        "data"
      ],
      "execution_count": null,
      "outputs": []
    },
    {
      "cell_type": "code",
      "metadata": {
        "id": "rK2vM0C9pZwL"
      },
      "source": [
        "data[5]"
      ],
      "execution_count": null,
      "outputs": []
    },
    {
      "cell_type": "markdown",
      "metadata": {
        "id": "8RsonwsvpZwL"
      },
      "source": [
        "### `Series` como diccionario especializado"
      ]
    },
    {
      "cell_type": "markdown",
      "metadata": {
        "id": "RuTFHfWIrgHG"
      },
      "source": [
        "De esta manera, podemos pensar en Pandas `Series` como una especialización de un diccionario de Python. Esta escritura es importante: así como el código compilado específico del tipo detrás de una matriz NumPy lo hace más eficiente que una lista de Python para ciertas operaciones, la información de tipo de un Pandas `Series` lo  hace mucho más eficiente que los diccionarios de Python para ciertas operaciones.\n",
        "\n",
        "La analogía *Series-diccionario* se puede aclarar aún más construyendo un objeto `Series` directamente desde un diccionario de Python:"
      ]
    },
    {
      "cell_type": "code",
      "metadata": {
        "id": "0x97GmqzpZwL"
      },
      "source": [
        "population_dict = {'California': 38332521,\n",
        "                   'Texas': 26448193,\n",
        "                   'New York': 19651127,\n",
        "                   'Florida': 19552860,\n",
        "                   'Illinois': 12882135}\n",
        "population = pd.Series(population_dict)\n",
        "population"
      ],
      "execution_count": null,
      "outputs": []
    },
    {
      "cell_type": "markdown",
      "metadata": {
        "id": "tS035hNepZwM"
      },
      "source": [
        "De forma predeterminada, `Series` se creará donde el índice se extrae de las claves ordenadas. Desde aquí, se puede realizar el acceso típico a elementos de estilo diccionario:"
      ]
    },
    {
      "cell_type": "code",
      "metadata": {
        "id": "ovpUpOkUpZwM"
      },
      "source": [
        "population['California']"
      ],
      "execution_count": null,
      "outputs": []
    },
    {
      "cell_type": "markdown",
      "metadata": {
        "id": "DOIW6KNPpZwM"
      },
      "source": [
        "Sin embargo, a diferencia de un diccionario, `Series` también admite operaciones de estilo de arreglo, como cortar:"
      ]
    },
    {
      "cell_type": "code",
      "metadata": {
        "id": "-uAg1UBVpZwM"
      },
      "source": [
        "population['California':'Illinois']"
      ],
      "execution_count": null,
      "outputs": []
    },
    {
      "cell_type": "markdown",
      "metadata": {
        "id": "WRezbbQwpZwN"
      },
      "source": [
        "### Construyendo objetos `Serie`"
      ]
    },
    {
      "cell_type": "markdown",
      "metadata": {
        "id": "1jsvc80LuQ2e"
      },
      "source": [
        "Ya hemos visto algunas formas de construir un Pandas Seriesdesde cero; todos ellos son alguna versión de lo siguiente:\n",
        "\n",
        "`pd.Series(data, index=index)`\n",
        "\n",
        "donde `index` es un argumento opcional y `data` puede ser una de muchas entidades.\n",
        "\n",
        "Por ejemplo, `data` puede ser una lista o un arreglo NumPy, en cuyo caso el valor `index` predeterminado es una secuencia entera:"
      ]
    },
    {
      "cell_type": "code",
      "metadata": {
        "id": "1WSrJ5E0pZwN"
      },
      "source": [
        "pd.Series([2, 4, 6])"
      ],
      "execution_count": null,
      "outputs": []
    },
    {
      "cell_type": "markdown",
      "metadata": {
        "id": "umVSifPwpZwN"
      },
      "source": [
        "`data` puede ser un escalar, que se repite para completar el índice especificado:"
      ]
    },
    {
      "cell_type": "code",
      "metadata": {
        "id": "0Ew3SFQgpZwO"
      },
      "source": [
        "pd.Series(5, index=[100, 200, 300])"
      ],
      "execution_count": null,
      "outputs": []
    },
    {
      "cell_type": "markdown",
      "metadata": {
        "id": "aMYoH5wgpZwO"
      },
      "source": [
        "`data` puede ser un diccionario"
      ]
    },
    {
      "cell_type": "code",
      "metadata": {
        "id": "vFxAr60gpZwO"
      },
      "source": [
        "pd.Series({2:'a', 1:'b', 3:'c'})"
      ],
      "execution_count": null,
      "outputs": []
    },
    {
      "cell_type": "markdown",
      "metadata": {
        "id": "Fw83i5nSpZwO"
      },
      "source": [
        "En cada caso, el índice se puede establecer explícitamente si se prefiere un resultado diferente:"
      ]
    },
    {
      "cell_type": "code",
      "metadata": {
        "id": "jybSKeaJpZwP"
      },
      "source": [
        "pd.Series({2:'a', 1:'b', 3:'c'}, index=[3, 2])"
      ],
      "execution_count": null,
      "outputs": []
    },
    {
      "cell_type": "markdown",
      "metadata": {
        "id": "VcANXamTpZwP"
      },
      "source": [
        "Tenga en cuenta que en este caso, el `Series` se completa solo con las claves identificadas explícitamente."
      ]
    },
    {
      "cell_type": "markdown",
      "metadata": {
        "id": "v1TYdMjKpZwP"
      },
      "source": [
        "## El objeto Pandas DataFrame"
      ]
    },
    {
      "cell_type": "markdown",
      "metadata": {
        "id": "xPfUFUbWvkcz"
      },
      "source": [
        "La siguiente estructura fundamental en Pandas es `DataFrame`. Al igual que el objeto `Series` discutido en la sección anterior, `DataFrame` se puede considerar como una generalización de un arreglo NumPy o como una especialización de un diccionario Python. "
      ]
    },
    {
      "cell_type": "markdown",
      "metadata": {
        "id": "-9fhrpEvpZwP"
      },
      "source": [
        "### DataFrame como una matriz NumPy generalizada"
      ]
    },
    {
      "cell_type": "markdown",
      "metadata": {
        "id": "nl79Vw2PvzcN"
      },
      "source": [
        "Si un `Series` es un análogo de una matriz unidimensional con índices flexibles, a `DataFrame` es un análogo de un arreglo bidimensional con índices de fila flexibles y nombres de columna flexibles. Así como podría pensar en un arreglo bidimensional como una secuencia ordenada de columnas unidimensionales alineadas, puede pensar en un `DataFrame` como una secuencia de objetos `Series` alineados . Aquí, por \"alineados\" queremos decir que comparten el mismo índice.\n",
        "\n",
        "Para demostrar esto, construyamos primero una nueva lista `Series` del área de cada uno de los cinco estados discutidos en la sección anterior:"
      ]
    },
    {
      "cell_type": "code",
      "metadata": {
        "id": "BSWOl3D-pZwQ"
      },
      "source": [
        "area_dict = {'California': 423967, 'Texas': 695662, 'New York': 141297,\n",
        "             'Florida': 170312, 'Illinois': 149995}\n",
        "area = pd.Series(area_dict)\n",
        "area"
      ],
      "execution_count": null,
      "outputs": []
    },
    {
      "cell_type": "markdown",
      "metadata": {
        "id": "PgRCY2aNpZwQ"
      },
      "source": [
        "Ahora que tenemos esto junto con la `Serie` `population` anterior, podemos usar un diccionario para construir un único objeto bidimensional que contenga esta información:"
      ]
    },
    {
      "cell_type": "code",
      "metadata": {
        "id": "BrfqUtR5pZwR"
      },
      "source": [
        "states = pd.DataFrame({'population': population,\n",
        "                       'area': area})\n",
        "states"
      ],
      "execution_count": null,
      "outputs": []
    },
    {
      "cell_type": "markdown",
      "metadata": {
        "id": "rgYtMbQ6pZwR"
      },
      "source": [
        "Al igual que el objeto `Series`, `DataFrame` tiene un atributo `index` que da acceso a las etiquetas de índice:"
      ]
    },
    {
      "cell_type": "code",
      "metadata": {
        "id": "5luBJIvQpZwR"
      },
      "source": [
        "states.index"
      ],
      "execution_count": null,
      "outputs": []
    },
    {
      "cell_type": "markdown",
      "metadata": {
        "id": "7SjcojdcpZwS"
      },
      "source": [
        "Además, `DataFrame` tiene un atributo `columns`, que es un objeto `Index`  que contiene las etiquetas de las columnas:\n",
        "\n"
      ]
    },
    {
      "cell_type": "code",
      "metadata": {
        "id": "gybzgXU3pZwS"
      },
      "source": [
        "states.columns"
      ],
      "execution_count": null,
      "outputs": []
    },
    {
      "cell_type": "markdown",
      "metadata": {
        "id": "joucpxJipZwT"
      },
      "source": [
        "Por lo tanto, `DataFrame` se puede considerar como una generalización de un arreglo NumPy bidimensional, donde tanto las filas como las columnas tienen un índice generalizado para acceder a los datos."
      ]
    },
    {
      "cell_type": "markdown",
      "metadata": {
        "id": "PLLhPWDcpZwT"
      },
      "source": [
        "### DataFrame como diccionario especializado"
      ]
    },
    {
      "cell_type": "markdown",
      "metadata": {
        "id": "z1UwKJyHw3u1"
      },
      "source": [
        "Del mismo modo, también podemos pensar en a `DataFrame` como una especialización de un diccionario. Cuando un diccionario asigna una clave a un valor, a `DataFrame` asigna un nombre de columna a una `Series` de datos de columna. Por ejemplo, preguntar por el atributo `area` devuelve el objeto `Series` que contiene las áreas que vimos anteriormente:"
      ]
    },
    {
      "cell_type": "code",
      "metadata": {
        "id": "nSEfP61SpZwT"
      },
      "source": [
        "states['area']"
      ],
      "execution_count": null,
      "outputs": []
    },
    {
      "cell_type": "markdown",
      "metadata": {
        "id": "96hJ2p8LpZwT"
      },
      "source": [
        "Observe el punto potencial de confusión aquí: en un arreglo NumPy bidimensional, `data[0]` devolverá la primera fila . Para un `DataFrame`, `data['col0']` devolverá la primera columna . Debido a esto, probablemente sea mejor pensar en los `DataFrames` como diccionarios generalizados en lugar de arreglos generalizadas, aunque ambas formas de ver la situación pueden ser útiles."
      ]
    },
    {
      "cell_type": "markdown",
      "metadata": {
        "id": "aqNB3dJCpZwU"
      },
      "source": [
        "### Construyendo objetos DataFrame"
      ]
    },
    {
      "cell_type": "markdown",
      "metadata": {
        "id": "HOTidTOZxmME"
      },
      "source": [
        "Un pandas `DataFrame` se puede construir de varias formas. Aquí daremos varios ejemplos."
      ]
    },
    {
      "cell_type": "markdown",
      "metadata": {
        "id": "m8nODl9gpZwU"
      },
      "source": [
        "#### Desde un único objeto Serie "
      ]
    },
    {
      "cell_type": "markdown",
      "metadata": {
        "id": "h3S_ppqvxv0M"
      },
      "source": [
        "Un `DataFrame` es una colección de objetos `Series` y una sola columna `DataFrame` se puede construir a partir de una sola `Series`:"
      ]
    },
    {
      "cell_type": "code",
      "metadata": {
        "id": "3mVcld15pZwU"
      },
      "source": [
        "pd.DataFrame(population, columns=['population'])"
      ],
      "execution_count": null,
      "outputs": []
    },
    {
      "cell_type": "markdown",
      "metadata": {
        "id": "FqXR1JNspZwV"
      },
      "source": [
        "#### Desde una lista de diccionarios"
      ]
    },
    {
      "cell_type": "markdown",
      "metadata": {
        "id": "FTnpQd1Qx9qN"
      },
      "source": [
        "Cualquier lista de diccionarios se puede convertir en un archivo `DataFrame`. Usaremos una comprensión de lista simple para crear algunos datos:"
      ]
    },
    {
      "cell_type": "code",
      "metadata": {
        "id": "2pULlf4KpZwV"
      },
      "source": [
        "data = [{'a': i, 'b': 2 * i}\n",
        "        for i in range(3)]\n",
        "pd.DataFrame(data)"
      ],
      "execution_count": null,
      "outputs": []
    },
    {
      "cell_type": "markdown",
      "metadata": {
        "id": "nOJcJ_SPpZwW"
      },
      "source": [
        "Incluso si faltan algunas claves en el diccionario, Pandas las completará con valores `NaN`:"
      ]
    },
    {
      "cell_type": "code",
      "metadata": {
        "id": "EDsX321lpZwW"
      },
      "source": [
        "pd.DataFrame([{'a': 1, 'b': 2}, {'b': 3, 'c': 4}])"
      ],
      "execution_count": null,
      "outputs": []
    },
    {
      "cell_type": "markdown",
      "metadata": {
        "id": "FzBSSh0ypZwX"
      },
      "source": [
        "#### Desde un diccionario de objetos Serie"
      ]
    },
    {
      "cell_type": "markdown",
      "metadata": {
        "id": "J4q5rmmbyM5z"
      },
      "source": [
        "Como vimos antes, también `DataFrame` se puede construir a partir de un diccionario de objetos `Series`:"
      ]
    },
    {
      "cell_type": "code",
      "metadata": {
        "id": "Obp33GUjpZwX"
      },
      "source": [
        "pd.DataFrame({'population': population,\n",
        "              'area': area})"
      ],
      "execution_count": null,
      "outputs": []
    },
    {
      "cell_type": "markdown",
      "metadata": {
        "id": "M7HoP3zIpZwY"
      },
      "source": [
        "#### Desde un arreglo NumPy bidimensional "
      ]
    },
    {
      "cell_type": "markdown",
      "metadata": {
        "id": "NTZF8bviyYMd"
      },
      "source": [
        "Dado un arreglo de datos bidimensional, podemos crear una `DataFrame` con cualquier columna e índice especificado. Si se omite, se utilizará un índice entero para cada uno:"
      ]
    },
    {
      "cell_type": "code",
      "metadata": {
        "id": "c4YvrQczpZwY"
      },
      "source": [
        "pd.DataFrame(np.random.rand(3, 2),\n",
        "             columns=['foo', 'bar'],\n",
        "             index=['a', 'b', 'c'])"
      ],
      "execution_count": null,
      "outputs": []
    },
    {
      "cell_type": "markdown",
      "metadata": {
        "id": "jCQty6tRpZwY"
      },
      "source": [
        "#### Desde un arreglo estructurado NumPy"
      ]
    },
    {
      "cell_type": "markdown",
      "metadata": {
        "id": "_ymwaevsyiX6"
      },
      "source": [
        "Un Pandas `DataFrame` funciona de manera muy similar a un arreglo estructurado y se puede crear directamente a partir de uno:"
      ]
    },
    {
      "cell_type": "code",
      "metadata": {
        "id": "YyzpfRlspZwY"
      },
      "source": [
        "A = np.zeros(3, dtype=[('A', 'i8'), ('B', 'f8')])\n",
        "A"
      ],
      "execution_count": null,
      "outputs": []
    },
    {
      "cell_type": "code",
      "metadata": {
        "id": "pWbl_u_-pZwZ"
      },
      "source": [
        "pd.DataFrame(A)"
      ],
      "execution_count": null,
      "outputs": []
    },
    {
      "cell_type": "markdown",
      "metadata": {
        "id": "Xtn7dnc9pZwZ"
      },
      "source": [
        "## El objeto Pandas Index"
      ]
    },
    {
      "cell_type": "markdown",
      "metadata": {
        "id": "-aqBpGG9yu4Y"
      },
      "source": [
        "El objeto `Index` es una estructura interesante en sí mismo, y se puede considerar como un arreglo inmutable o como un conjunto ordenado (técnicamente, un conjunto múltiple, ya que los objetos `Index` pueden contener valores repetidos). Esas vistas tienen algunas consecuencias interesantes en las operaciones disponibles en los objetos `Index`. Como ejemplo simple, construyamos un `Index` a partir de una lista de números enteros:"
      ]
    },
    {
      "cell_type": "code",
      "metadata": {
        "id": "WbCOrrsdpZwa"
      },
      "source": [
        "ind = pd.Index([2, 3, 5, 7, 11])\n",
        "ind"
      ],
      "execution_count": null,
      "outputs": []
    },
    {
      "cell_type": "markdown",
      "metadata": {
        "id": "PwEYXo8UpZwa"
      },
      "source": [
        "### Index como arreglo inmutable"
      ]
    },
    {
      "cell_type": "markdown",
      "metadata": {
        "id": "3KuoJsx4zG1f"
      },
      "source": [
        "`Index` en muchos sentidos, funciona como un arreglo. Por ejemplo, podemos usar la notación de indexación estándar de Python para recuperar valores o porciones:"
      ]
    },
    {
      "cell_type": "code",
      "metadata": {
        "id": "-3OCc0jipZwa"
      },
      "source": [
        "ind[1]"
      ],
      "execution_count": null,
      "outputs": []
    },
    {
      "cell_type": "code",
      "metadata": {
        "id": "EFZBkQq9pZwb"
      },
      "source": [
        "ind[::2]"
      ],
      "execution_count": null,
      "outputs": []
    },
    {
      "cell_type": "markdown",
      "metadata": {
        "id": "iAGResi0pZwb"
      },
      "source": [
        "Los objetos `Index` también tienen muchos de los atributos familiares de los arreglos NumPy:"
      ]
    },
    {
      "cell_type": "code",
      "metadata": {
        "id": "Np6L3cQCpZwb"
      },
      "source": [
        "print(ind.size, ind.shape, ind.ndim, ind.dtype)"
      ],
      "execution_count": null,
      "outputs": []
    },
    {
      "cell_type": "markdown",
      "metadata": {
        "id": "pw_OaG7BpZwc"
      },
      "source": [
        "Una diferencia entre los objetos `Index` y las matrices NumPy es que los índices son inmutables, es decir, no se pueden modificar a través de los medios normales:"
      ]
    },
    {
      "cell_type": "code",
      "metadata": {
        "id": "sytjolqXpZwc"
      },
      "source": [
        "ind[1] = 0"
      ],
      "execution_count": null,
      "outputs": []
    },
    {
      "cell_type": "markdown",
      "metadata": {
        "id": "DBzruTZrpZwc"
      },
      "source": [
        "Esta inmutabilidad hace que sea más seguro compartir `Index` entre múltiples `DataFrames` y arreglos, sin la posibilidad de efectos secundarios de la modificación involuntaria del `Index`."
      ]
    },
    {
      "cell_type": "markdown",
      "metadata": {
        "id": "1NqU8HDW0WBg"
      },
      "source": [
        "# Selección e indexación de datos"
      ]
    },
    {
      "cell_type": "markdown",
      "metadata": {
        "id": "NZyUup8J0WBg"
      },
      "source": [
        "Comenzaremos con el caso simple del objeto `Series` unidimensional y luego pasaremos al objeto bidimensional más complicado `DataFrame`."
      ]
    },
    {
      "cell_type": "markdown",
      "metadata": {
        "id": "mFhwkZF20WBh"
      },
      "source": [
        "## Selección de datos en serie "
      ]
    },
    {
      "cell_type": "markdown",
      "metadata": {
        "id": "XaY2M67c0zwm"
      },
      "source": [
        "Como vimos en la sección anterior, un objeto `Series` actúa de muchas formas como una matriz NumPy unidimensional, y en muchas formas como un diccionario estándar de Python. Si tenemos en cuenta estas dos analogías superpuestas, nos ayudará a comprender los patrones de indexación y selección de datos en estas matrices."
      ]
    },
    {
      "cell_type": "markdown",
      "metadata": {
        "id": "bYcK1n0x0WBh"
      },
      "source": [
        "### Series como diccionario "
      ]
    },
    {
      "cell_type": "markdown",
      "metadata": {
        "id": "IyIOx3BT1B7m"
      },
      "source": [
        "Como un diccionario, el objeto `Series` proporciona un mapeo de una colección de claves a una colección de valores:"
      ]
    },
    {
      "cell_type": "code",
      "metadata": {
        "id": "z7V-Ject0WBi"
      },
      "source": [
        "import pandas as pd\n",
        "data = pd.Series([0.25, 0.5, 0.75, 1.0],\n",
        "                 index=['a', 'b', 'c', 'd'])\n",
        "data"
      ],
      "execution_count": null,
      "outputs": []
    },
    {
      "cell_type": "code",
      "metadata": {
        "id": "it5e76Ea0WBk"
      },
      "source": [
        "data['b']"
      ],
      "execution_count": null,
      "outputs": []
    },
    {
      "cell_type": "markdown",
      "metadata": {
        "id": "muAdpxen0WBk"
      },
      "source": [
        "También podemos usar expresiones y métodos de Python similares a los de un diccionario para examinar las claves/índices y valores:"
      ]
    },
    {
      "cell_type": "code",
      "metadata": {
        "id": "gbWSDHpX0WBl"
      },
      "source": [
        "'a' in data"
      ],
      "execution_count": null,
      "outputs": []
    },
    {
      "cell_type": "code",
      "metadata": {
        "id": "Ux1i0Uxi0WBl"
      },
      "source": [
        "data.keys()"
      ],
      "execution_count": null,
      "outputs": []
    },
    {
      "cell_type": "code",
      "metadata": {
        "id": "MM8kr1I10WBl"
      },
      "source": [
        "list(data.items())"
      ],
      "execution_count": null,
      "outputs": []
    },
    {
      "cell_type": "markdown",
      "metadata": {
        "id": "s7T-VUW10WBm"
      },
      "source": [
        "Los objetos `Series` incluso se pueden modificar con una sintaxis similar a la de un diccionario. Así como puede extender un diccionario asignándole una nueva clave, puede extender un `Series` asignando un nuevo valor de índice:"
      ]
    },
    {
      "cell_type": "code",
      "metadata": {
        "id": "vBYM0TIg0WBm"
      },
      "source": [
        "data['e'] = 1.25\n",
        "data"
      ],
      "execution_count": null,
      "outputs": []
    },
    {
      "cell_type": "markdown",
      "metadata": {
        "id": "SS2FY3y40WBm"
      },
      "source": [
        "Esta fácil mutabilidad de los objetos es una característica conveniente: bajo el capó, Pandas está tomando decisiones sobre el diseño de la memoria y la copia de datos que podrían ser necesarias; el usuario generalmente no necesita preocuparse por estos problemas."
      ]
    },
    {
      "cell_type": "markdown",
      "metadata": {
        "id": "RkdcfZp-0WBn"
      },
      "source": [
        "### Series como arreglo unidimensional"
      ]
    },
    {
      "cell_type": "markdown",
      "metadata": {
        "id": "bx5b3irL0WBn"
      },
      "source": [
        "Un `Series` se basa en esta interfaz similar a un diccionario y proporciona selección de elementos de estilo de arreglo a través de los mismos mecanismos básicos que las matrices NumPy, es decir, porciones , enmascaramiento e indexación elegante . Ejemplos de estos son los siguientes:"
      ]
    },
    {
      "cell_type": "code",
      "metadata": {
        "id": "00f1_1C60WBn"
      },
      "source": [
        "# slicing by explicit index\n",
        "data['a':'c']"
      ],
      "execution_count": null,
      "outputs": []
    },
    {
      "cell_type": "code",
      "metadata": {
        "id": "tM7iuKw80WBo"
      },
      "source": [
        "# slicing by implicit integer index\n",
        "data[0:2]"
      ],
      "execution_count": null,
      "outputs": []
    },
    {
      "cell_type": "code",
      "metadata": {
        "id": "0_-ausbl0WBp"
      },
      "source": [
        "# masking\n",
        "data[(data > 0.3) & (data < 0.8)]"
      ],
      "execution_count": null,
      "outputs": []
    },
    {
      "cell_type": "code",
      "metadata": {
        "id": "eZU1yQkV0WBp"
      },
      "source": [
        "# fancy indexing\n",
        "data[['a', 'e']]"
      ],
      "execution_count": null,
      "outputs": []
    },
    {
      "cell_type": "markdown",
      "metadata": {
        "id": "iz8UvD4i0WBq"
      },
      "source": [
        "Entre estos, el corte en rodajas puede ser la fuente de mayor confusión. Observe que cuando se divide con un índice explícito (es decir, `data['a':'c']`), el índice final se incluye en el segmento, mientras que cuando se divide con un índice implícito (es decir, `data[0:2]`), el índice final se excluye del segmento."
      ]
    },
    {
      "cell_type": "markdown",
      "metadata": {
        "id": "DQf4pjRW0WBq"
      },
      "source": [
        "### Indexadores: loc, iloc y ix"
      ]
    },
    {
      "cell_type": "markdown",
      "metadata": {
        "id": "r2j7qt-N2F7C"
      },
      "source": [
        "Estas convenciones de segmentación e indexación pueden ser una fuente de confusión. Por ejemplo, si `Series` tiene un índice entero explícito, una operación de indexación como `data[1]` utilizará los índices explícitos, mientras que una operación de segmentación como `data[1:3]`utilizará el índice implícito de estilo Python."
      ]
    },
    {
      "cell_type": "code",
      "metadata": {
        "id": "EgWoekRr0WBq"
      },
      "source": [
        "data = pd.Series(['a', 'b', 'c'], index=[1, 3, 5])\n",
        "data"
      ],
      "execution_count": null,
      "outputs": []
    },
    {
      "cell_type": "code",
      "metadata": {
        "id": "YmHxq-fY0WBr"
      },
      "source": [
        "# explicit index when indexing\n",
        "data[1]"
      ],
      "execution_count": null,
      "outputs": []
    },
    {
      "cell_type": "code",
      "metadata": {
        "id": "sNUAB1h70WBr"
      },
      "source": [
        "# implicit index when slicing\n",
        "data[1:3]"
      ],
      "execution_count": null,
      "outputs": []
    },
    {
      "cell_type": "markdown",
      "metadata": {
        "id": "7r6KiNIo0WBs"
      },
      "source": [
        "Pandas proporciona algunos especiales indexador atributos que exponga explícitamente ciertos esquemas de indexación. Estos no son métodos funcionales, sino atributos que exponen una interfaz de corte particular a los datos en el `Series`.\n",
        "\n",
        "Primero, el atributo `loc` permite indexar y segmentar que siempre hace referencia al índice explícito:"
      ]
    },
    {
      "cell_type": "code",
      "metadata": {
        "id": "AtXP0F410WBs"
      },
      "source": [
        "data.loc[1]"
      ],
      "execution_count": null,
      "outputs": []
    },
    {
      "cell_type": "code",
      "metadata": {
        "id": "Odtzs_QV0WBs"
      },
      "source": [
        "data.loc[1:3]"
      ],
      "execution_count": null,
      "outputs": []
    },
    {
      "cell_type": "markdown",
      "metadata": {
        "id": "7ciFMxTc0WBt"
      },
      "source": [
        "El atributo `iloc` permite indexar y segmentar que siempre hace referencia al índice implícito de estilo Python:"
      ]
    },
    {
      "cell_type": "code",
      "metadata": {
        "id": "lqrRvDiA0WBt"
      },
      "source": [
        "data.iloc[1]"
      ],
      "execution_count": null,
      "outputs": []
    },
    {
      "cell_type": "code",
      "metadata": {
        "id": "WxIdr0PT0WBt"
      },
      "source": [
        "data.iloc[1:3]"
      ],
      "execution_count": null,
      "outputs": []
    },
    {
      "cell_type": "markdown",
      "metadata": {
        "id": "L8YCfaFr0WBu"
      },
      "source": [
        "Un tercer atributo de indexación, `ix` es un híbrido de los dos, y para los objetos `Series` es equivalente a la indexación `[]` basada en estándares. El propósito del indexador `ix` se hará más evidente en el contexto de los objetos DataFrame.\n",
        "\n",
        "La naturaleza explícita de `loc` y los `iloc` hace muy útiles para mantener un código limpio y legible; especialmente en el caso de índices enteros."
      ]
    },
    {
      "cell_type": "markdown",
      "metadata": {
        "id": "a21dljcy0WBu"
      },
      "source": [
        "## Selección de datos en DataFrame"
      ]
    },
    {
      "cell_type": "markdown",
      "metadata": {
        "id": "D8pCFwiL4WaF"
      },
      "source": [
        "Como sabemos un `DataFrame` actúa de muchas formas como un arreglo bidimensional o estructurada, y de otras formas como un diccionario de `Series` estructuras que comparten el mismo índice. Puede ser útil tener en cuenta estas analogías a medida que exploramos la selección de datos dentro de esta estructura."
      ]
    },
    {
      "cell_type": "markdown",
      "metadata": {
        "id": "GeZDYxC80WBu"
      },
      "source": [
        "### DataFrame como diccionario"
      ]
    },
    {
      "cell_type": "markdown",
      "metadata": {
        "id": "R6aIxTEF4jKa"
      },
      "source": [
        "La primera analogía que consideraremos es el `DataFrame` como diccionario de objetos `Series` relacionados."
      ]
    },
    {
      "cell_type": "code",
      "metadata": {
        "id": "hNR_7k4x0WBu"
      },
      "source": [
        "area = pd.Series({'California': 423967, 'Texas': 695662,\n",
        "                  'New York': 141297, 'Florida': 170312,\n",
        "                  'Illinois': 149995})\n",
        "pop = pd.Series({'California': 38332521, 'Texas': 26448193,\n",
        "                 'New York': 19651127, 'Florida': 19552860,\n",
        "                 'Illinois': 12882135})\n",
        "data = pd.DataFrame({'area':area, 'pop':pop})\n",
        "data"
      ],
      "execution_count": null,
      "outputs": []
    },
    {
      "cell_type": "markdown",
      "metadata": {
        "id": "5e4TVP570WBv"
      },
      "source": [
        "Se puede acceder a la `Series` individual que forma las columnas del `DataFrame` mediante la indexación al estilo de diccionario:"
      ]
    },
    {
      "cell_type": "code",
      "metadata": {
        "id": "JfE1uqDR0WBv"
      },
      "source": [
        "data['area']"
      ],
      "execution_count": null,
      "outputs": []
    },
    {
      "cell_type": "markdown",
      "metadata": {
        "id": "HaGOqJGS0WBv"
      },
      "source": [
        "De manera equivalente, podemos usar el acceso de estilo de atributo con nombres de columna que son cadenas:"
      ]
    },
    {
      "cell_type": "code",
      "metadata": {
        "id": "cj7SCezJ0WBv"
      },
      "source": [
        "data.area"
      ],
      "execution_count": null,
      "outputs": []
    },
    {
      "cell_type": "markdown",
      "metadata": {
        "id": "faomXmso0WBx"
      },
      "source": [
        "Este acceso de columna de estilo de atributo en realidad accede exactamente al mismo objeto que el acceso de estilo de diccionario:"
      ]
    },
    {
      "cell_type": "code",
      "metadata": {
        "id": "ogNMxgHQ0WBx"
      },
      "source": [
        "data.area is data['area']"
      ],
      "execution_count": null,
      "outputs": []
    },
    {
      "cell_type": "markdown",
      "metadata": {
        "id": "1YnLFe3N0WBy"
      },
      "source": [
        "Aunque esta es una abreviatura útil, tenga en cuenta que no funciona en todos los casos. Por ejemplo, si los nombres de las columnas no son cadenas, o si los nombres de las columnas entran en conflicto con los métodos de `DataFrame`, este acceso de estilo de atributo no es posible. Por ejemplo, `DataFrame` tiene un método `pop()`, por lo que `data.pop` apuntará a esto en lugar de a la columna \"pop\":"
      ]
    },
    {
      "cell_type": "code",
      "metadata": {
        "id": "RsfHsdgY0WBy"
      },
      "source": [
        "data.pop is data['pop']"
      ],
      "execution_count": null,
      "outputs": []
    },
    {
      "cell_type": "markdown",
      "metadata": {
        "id": "_y17PK590WBy"
      },
      "source": [
        "Esta sintaxis estilo diccionario también se puede usar para modificar el objeto, en este caso agregando una nueva columna:"
      ]
    },
    {
      "cell_type": "code",
      "metadata": {
        "id": "KfSBY7Ql0WBz"
      },
      "source": [
        "data['density'] = data['pop'] / data['area']\n",
        "data"
      ],
      "execution_count": null,
      "outputs": []
    },
    {
      "cell_type": "markdown",
      "metadata": {
        "id": "xNHXWt-n0WB0"
      },
      "source": [
        "Esto muestra una vista previa de la sintaxis sencilla de la aritmética elemento por elemento entre objetos `Series`"
      ]
    },
    {
      "cell_type": "markdown",
      "metadata": {
        "id": "9brdIPTa0WB0"
      },
      "source": [
        "### DataFrame como arreglo bidimensional "
      ]
    },
    {
      "cell_type": "markdown",
      "metadata": {
        "id": "aMid-s4k5idb"
      },
      "source": [
        "Como sabemos `DataFrame` se puede ver como un arreglo bidimensional mejorado. Podemos examinar el arreglo de datos subyacentes sin procesar utilizando el atributo `values`:"
      ]
    },
    {
      "cell_type": "code",
      "metadata": {
        "id": "lqY8vCsp0WB0"
      },
      "source": [
        "data.values"
      ],
      "execution_count": null,
      "outputs": []
    },
    {
      "cell_type": "markdown",
      "metadata": {
        "id": "leap9nmI0WB0"
      },
      "source": [
        "Con esta imagen en mente, muchas observaciones familiares similares a arreglos se pueden realizar en `DataFrame` por sí mismo. Por ejemplo, podemos transponer el completo `DataFrame` para intercambiar filas y columnas:"
      ]
    },
    {
      "cell_type": "code",
      "metadata": {
        "id": "0L7YyitR0WB1"
      },
      "source": [
        "data.T"
      ],
      "execution_count": null,
      "outputs": []
    },
    {
      "cell_type": "markdown",
      "metadata": {
        "id": "VaeTlmvV0WB1"
      },
      "source": [
        "Sin embargo, cuando se trata de indexar objetos `DataFrame`, está claro que la indexación de columnas al estilo de diccionario excluye nuestra capacidad para tratarlo simplemente como un arreglo NumPy. \n",
        "\n",
        "En particular, pasar un único índice a una matriz accede a una fila:"
      ]
    },
    {
      "cell_type": "code",
      "metadata": {
        "id": "QsBA-ZpD0WB1"
      },
      "source": [
        "data.values[0]"
      ],
      "execution_count": null,
      "outputs": []
    },
    {
      "cell_type": "markdown",
      "metadata": {
        "id": "w8GTB_2_0WB2"
      },
      "source": [
        "y pasar un solo \"índice\" en un `DataFrame` accede a una columna:"
      ]
    },
    {
      "cell_type": "code",
      "metadata": {
        "id": "bby2xdDY0WB2"
      },
      "source": [
        "data['area']"
      ],
      "execution_count": null,
      "outputs": []
    },
    {
      "cell_type": "markdown",
      "metadata": {
        "collapsed": true,
        "id": "nvnPM4pg0WB2"
      },
      "source": [
        "Por lo tanto, para la indexación de estilo de arreglo, necesitamos otra convención. Aquí pandas utiliza de nuevo los indexadores `loc`, `iloc` y `ix`. Usando el indexador `iloc`, podemos indexar el arreglo subyacente como si fuera un arreglo NumPy simple (usando el índice implícito de estilo Python), pero las etiquetas `DataFrame` de índice y columna se mantienen en el resultado:"
      ]
    },
    {
      "cell_type": "code",
      "metadata": {
        "id": "tyh6ROUC0WB3"
      },
      "source": [
        "data.iloc[:3, :2]"
      ],
      "execution_count": null,
      "outputs": []
    },
    {
      "cell_type": "markdown",
      "metadata": {
        "id": "I0SMuNLb0WB4"
      },
      "source": [
        "De manera similar, usando el indexador `loc` podemos indexar los datos subyacentes en un estilo similar a un arreglo pero usando el índice explícito y los nombres de columna:"
      ]
    },
    {
      "cell_type": "code",
      "metadata": {
        "id": "W_2XPWLU0WB4"
      },
      "source": [
        "data.loc[:'Illinois', :'pop']"
      ],
      "execution_count": null,
      "outputs": []
    },
    {
      "cell_type": "markdown",
      "metadata": {
        "collapsed": true,
        "id": "ABA33R6U0WB5"
      },
      "source": [
        "El indexador `ix` permite un híbrido de estos dos enfoques:"
      ]
    },
    {
      "cell_type": "code",
      "metadata": {
        "id": "qs-UW_XQ0WB5"
      },
      "source": [
        "data.ix[:3, :'pop']"
      ],
      "execution_count": null,
      "outputs": []
    },
    {
      "cell_type": "markdown",
      "metadata": {
        "id": "yidKAFMU0WB6"
      },
      "source": [
        "Tenga en cuenta que para los índices enteros, el indexador `ix` está sujeto a las mismas fuentes potenciales de confusión que se discutieron para los objetos `Series` indexados con enteros.\n",
        "\n",
        "Cualquiera de los patrones familiares de acceso a datos de estilo NumPy se puede utilizar dentro de estos indexadores. Por ejemplo, en el indexador `loc` podemos combinar enmascaramiento e indexación sofisticada como se muestra a continuación:"
      ]
    },
    {
      "cell_type": "code",
      "metadata": {
        "id": "m1TAJrRu0WB6"
      },
      "source": [
        "data.loc[data.density > 100, ['pop', 'density']]"
      ],
      "execution_count": null,
      "outputs": []
    },
    {
      "cell_type": "markdown",
      "metadata": {
        "id": "WpkAavQD0WB6"
      },
      "source": [
        "Cualquiera de estas convenciones de indexación también se puede utilizar para establecer o modificar valores; esto se hace de la manera estándar a la que podría estar acostumbrado al trabajar con NumPy:"
      ]
    },
    {
      "cell_type": "code",
      "metadata": {
        "id": "IzaTd1IH0WB7"
      },
      "source": [
        "data.iloc[0, 2] = 90\n",
        "data"
      ],
      "execution_count": null,
      "outputs": []
    },
    {
      "cell_type": "markdown",
      "metadata": {
        "id": "SZt0UNI20WB8"
      },
      "source": [
        "### Convenciones de indexación adicionales "
      ]
    },
    {
      "cell_type": "markdown",
      "metadata": {
        "id": "iqQ5Vu4Q7hHg"
      },
      "source": [
        "Hay un par de convenciones de indexación adicionales que pueden parecer contrarias a la discusión anterior, pero que, no obstante, pueden resultar muy útiles en la práctica. Primero, mientras que la indexación se refiere a columnas, la segmentación se refiere a filas:"
      ]
    },
    {
      "cell_type": "code",
      "metadata": {
        "id": "7poxmHX00WB8"
      },
      "source": [
        "data['Florida':'Illinois']"
      ],
      "execution_count": null,
      "outputs": []
    },
    {
      "cell_type": "markdown",
      "metadata": {
        "id": "zwSsCYRv0WB8"
      },
      "source": [
        "Dichos sectores también pueden referirse a filas por número en lugar de por índice:"
      ]
    },
    {
      "cell_type": "code",
      "metadata": {
        "id": "R9uIMkhx0WB8"
      },
      "source": [
        "data[1:3]"
      ],
      "execution_count": null,
      "outputs": []
    },
    {
      "cell_type": "markdown",
      "metadata": {
        "id": "cPd6fP800WB9"
      },
      "source": [
        "De manera similar, las operaciones de enmascaramiento directo también se interpretan por filas en lugar de por columnas:"
      ]
    },
    {
      "cell_type": "code",
      "metadata": {
        "id": "wbh0sKAa0WB9"
      },
      "source": [
        "data[data.density > 100]"
      ],
      "execution_count": null,
      "outputs": []
    },
    {
      "cell_type": "markdown",
      "metadata": {
        "id": "gqJnn_GO0WB9"
      },
      "source": [
        "Estas dos convenciones son sintácticamente similares a las de un arreglo NumPy, y aunque es posible que no se ajusten con precisión al molde de las convenciones de Pandas, son bastante útiles en la práctica."
      ]
    },
    {
      "cell_type": "markdown",
      "metadata": {
        "id": "UNhiYpWl7zGM"
      },
      "source": [
        "# Operar con datos en Pandas"
      ]
    },
    {
      "cell_type": "markdown",
      "metadata": {
        "id": "S39T0_gi7zGM"
      },
      "source": [
        "Pandas hereda gran parte de esta funcionalidad de NumPy. Sin embargo, Pandas incluye un par de giros útiles: para operaciones unarias como funciones de negación y trigonométricas, estas ufuncs conservarán las etiquetas de índice y columna en la salida, y para operaciones binarias como suma y multiplicación, Pandas alineará automáticamente los índices al pasar los objetos a el ufunc. Esto significa que mantener el contexto de los datos y combinar datos de diferentes fuentes, ambas tareas potencialmente propensas a errores con arreglos NumPy sin procesar, se vuelven esencialmente infalibles con Pandas."
      ]
    },
    {
      "cell_type": "markdown",
      "metadata": {
        "id": "rSa3N9347zGN"
      },
      "source": [
        "## Ufuncs: Conservación del Index"
      ]
    },
    {
      "cell_type": "markdown",
      "metadata": {
        "id": "SCRnWfPg9ooO"
      },
      "source": [
        "Debido a que Pandas está diseñado para funcionar con NumPy, cualquier ufunc de NumPy funcionará en objetos Pandas `Series` y `DataFrame`. Empecemos por definir un sencillo `Series` y `DataFrame` sobre el que demostrar esto:"
      ]
    },
    {
      "cell_type": "code",
      "metadata": {
        "collapsed": true,
        "id": "IDsIg1uu7zGO"
      },
      "source": [
        "import pandas as pd\n",
        "import numpy as np"
      ],
      "execution_count": null,
      "outputs": []
    },
    {
      "cell_type": "code",
      "metadata": {
        "id": "4c9Fvt8c7zGO"
      },
      "source": [
        "rng = np.random.RandomState(42)\n",
        "ser = pd.Series(rng.randint(0, 10, 4))\n",
        "ser"
      ],
      "execution_count": null,
      "outputs": []
    },
    {
      "cell_type": "code",
      "metadata": {
        "id": "3bfMygm47zGQ"
      },
      "source": [
        "df = pd.DataFrame(rng.randint(0, 10, (3, 4)),\n",
        "                  columns=['A', 'B', 'C', 'D'])\n",
        "df"
      ],
      "execution_count": null,
      "outputs": []
    },
    {
      "cell_type": "markdown",
      "metadata": {
        "id": "wg6xDSwm7zGR"
      },
      "source": [
        "Si aplicamos un ufunc NumPy en cualquiera de estos objetos, el resultado será otro objeto Pandas con los índices preservados:"
      ]
    },
    {
      "cell_type": "code",
      "metadata": {
        "id": "iyvC8pbG7zGR"
      },
      "source": [
        "np.exp(ser)"
      ],
      "execution_count": null,
      "outputs": []
    },
    {
      "cell_type": "markdown",
      "metadata": {
        "id": "X33QsosT7zGS"
      },
      "source": [
        "O, para un cálculo un poco más complejo:"
      ]
    },
    {
      "cell_type": "code",
      "metadata": {
        "id": "cJETTHob7zGS"
      },
      "source": [
        "np.sin(df * np.pi / 4)"
      ],
      "execution_count": null,
      "outputs": []
    },
    {
      "cell_type": "markdown",
      "metadata": {
        "id": "CyPZ-i9F7zGT"
      },
      "source": [
        "## UFuncs: Alineación de Index"
      ]
    },
    {
      "cell_type": "markdown",
      "metadata": {
        "id": "qz0AHr8x98Ds"
      },
      "source": [
        "Para operaciones binarias en dos objetos `Series` u `DataFrame`, Pandas alineará índices en el proceso de realizar la operación. Esto es muy conveniente cuando se trabaja con datos incompletos, como veremos en algunos de los ejemplos que siguen."
      ]
    },
    {
      "cell_type": "markdown",
      "metadata": {
        "id": "_kCeh0BQ7zGT"
      },
      "source": [
        "### Alineación de Index en Serie"
      ]
    },
    {
      "cell_type": "markdown",
      "metadata": {
        "id": "uwfvXkBP-Hc6"
      },
      "source": [
        "Como ejemplo, supongamos que estamos combinando dos fuentes de datos diferentes y encontramos solo los tres estados principales de EE.UU. Por área y los tres estados de EE.UU. Principales por población :"
      ]
    },
    {
      "cell_type": "code",
      "metadata": {
        "id": "deUzomyt7zGU"
      },
      "source": [
        "area = pd.Series({'Alaska': 1723337, 'Texas': 695662,\n",
        "                  'California': 423967}, name='area')\n",
        "population = pd.Series({'California': 38332521, 'Texas': 26448193,\n",
        "                        'New York': 19651127}, name='population')"
      ],
      "execution_count": null,
      "outputs": []
    },
    {
      "cell_type": "markdown",
      "metadata": {
        "id": "8wzu-oU67zGU"
      },
      "source": [
        "Veamos qué sucede cuando dividimos estos para calcular la densidad de población:"
      ]
    },
    {
      "cell_type": "code",
      "metadata": {
        "id": "SatupV2M7zGU"
      },
      "source": [
        "population / area"
      ],
      "execution_count": null,
      "outputs": []
    },
    {
      "cell_type": "markdown",
      "metadata": {
        "id": "ZXrZRNDo7zGU"
      },
      "source": [
        "El arreglo resultante contiene la unión de índices de las dos matrices de entrada, que podrían determinarse utilizando la aritmética de conjuntos estándar de Python en estos índices:"
      ]
    },
    {
      "cell_type": "code",
      "metadata": {
        "id": "bTOeM9c67zGV"
      },
      "source": [
        "area.index | population.index"
      ],
      "execution_count": null,
      "outputs": []
    },
    {
      "cell_type": "markdown",
      "metadata": {
        "id": "aTPvYhY97zGV"
      },
      "source": [
        "Cualquier elemento para el que uno u otro no tenga una entrada se marca con NaN, que es la forma en que Pandas marca los datos faltantes. Esta coincidencia de índices se implementa de esta manera para cualquiera de las expresiones aritméticas integradas de Python; los valores faltantes se rellenan con NaN de forma predeterminada:"
      ]
    },
    {
      "cell_type": "code",
      "metadata": {
        "id": "boIOqcAL7zGV"
      },
      "source": [
        "A = pd.Series([2, 4, 6], index=[0, 1, 2])\n",
        "B = pd.Series([1, 3, 5], index=[1, 2, 3])\n",
        "A + B"
      ],
      "execution_count": null,
      "outputs": []
    },
    {
      "cell_type": "markdown",
      "metadata": {
        "id": "L-hjNCv_7zGW"
      },
      "source": [
        "Si usar valores de NaN no es el comportamiento deseado, el valor de relleno se puede modificar usando los métodos de objeto apropiados en lugar de los operadores. Por ejemplo, llamar `A.add(B)` es equivalente a llamar `A + B`, pero permite una especificación explícita opcional del valor de relleno para cualquier elemento en A o B que pueda faltar:"
      ]
    },
    {
      "cell_type": "code",
      "metadata": {
        "id": "9hNH7CLN7zGW"
      },
      "source": [
        "A.add(B, fill_value=0)"
      ],
      "execution_count": null,
      "outputs": []
    },
    {
      "cell_type": "markdown",
      "metadata": {
        "id": "et5VrqS97zGW"
      },
      "source": [
        "### Alineación de índices en DataFrame"
      ]
    },
    {
      "cell_type": "markdown",
      "metadata": {
        "id": "5M79ncLI-oVC"
      },
      "source": [
        "Se produce un tipo similar de alineación tanto para las columnas como para los índices cuando se realizan operaciones en `DataFrames`:"
      ]
    },
    {
      "cell_type": "code",
      "metadata": {
        "id": "RESOuV407zGX"
      },
      "source": [
        "A = pd.DataFrame(rng.randint(0, 20, (2, 2)),\n",
        "                 columns=list('AB'))\n",
        "A"
      ],
      "execution_count": null,
      "outputs": []
    },
    {
      "cell_type": "code",
      "metadata": {
        "id": "Yv8VdTWn7zGX"
      },
      "source": [
        "B = pd.DataFrame(rng.randint(0, 10, (3, 3)),\n",
        "                 columns=list('BAC'))\n",
        "B"
      ],
      "execution_count": null,
      "outputs": []
    },
    {
      "cell_type": "code",
      "metadata": {
        "id": "mMohPNhB7zGX"
      },
      "source": [
        "A + B"
      ],
      "execution_count": null,
      "outputs": []
    },
    {
      "cell_type": "markdown",
      "metadata": {
        "id": "exJZ34Hd7zGY"
      },
      "source": [
        "Observe que los índices están alineados correctamente independientemente de su orden en los dos objetos, y los índices del resultado están ordenados. Como fue el caso con `Series`, podemos usar el método aritmético del objeto asociado y pasar lo que deseemos `fill_value` para usar en lugar de las entradas faltantes. Aquí llenaremos con la media de todos los valores en A(calculados apilando primero las filas de A):"
      ]
    },
    {
      "cell_type": "code",
      "metadata": {
        "id": "t-ge4Mb07zGY"
      },
      "source": [
        "fill = A.stack().mean()\n",
        "A.add(B, fill_value=fill)"
      ],
      "execution_count": null,
      "outputs": []
    },
    {
      "cell_type": "markdown",
      "metadata": {
        "id": "s3rOgEs47zGY"
      },
      "source": [
        "La siguiente tabla enumera los operadores de Python y sus métodos de objeto Pandas equivalentes:\n",
        "\n",
        "| Python Operator | Pandas Method(s)                      |\n",
        "|-----------------|---------------------------------------|\n",
        "| ``+``           | ``add()``                             |\n",
        "| ``-``           | ``sub()``, ``subtract()``             |\n",
        "| ``*``           | ``mul()``, ``multiply()``             |\n",
        "| ``/``           | ``truediv()``, ``div()``, ``divide()``|\n",
        "| ``//``          | ``floordiv()``                        |\n",
        "| ``%``           | ``mod()``                             |\n",
        "| ``**``          | ``pow()``                             |\n"
      ]
    },
    {
      "cell_type": "markdown",
      "metadata": {
        "id": "H0TtrIsH7zGZ"
      },
      "source": [
        "## Ufuncs: Operaciones entre DataFrame y Series"
      ]
    },
    {
      "cell_type": "markdown",
      "metadata": {
        "id": "HwpJqt0N_QtI"
      },
      "source": [
        "Al realizar operaciones entre `Series` y `DataFrame`, la alineación del índice y la columna se mantiene de manera similar. Las operaciones entre Series y DataFrame son similares a las operaciones entre una arreglos NumPy bidimensional y unidimensional. Considere una operación común, donde encontramos la diferencia de una matriz bidimensional y una de sus filas:\n"
      ]
    },
    {
      "cell_type": "code",
      "metadata": {
        "id": "0yPVYhKw7zGZ"
      },
      "source": [
        "A = rng.randint(10, size=(3, 4))\n",
        "A"
      ],
      "execution_count": null,
      "outputs": []
    },
    {
      "cell_type": "code",
      "metadata": {
        "id": "4a6lKTYl7zGZ"
      },
      "source": [
        "A - A[0]"
      ],
      "execution_count": null,
      "outputs": []
    },
    {
      "cell_type": "markdown",
      "metadata": {
        "id": "JKKXxx2I7zGa"
      },
      "source": [
        "De acuerdo con las reglas de transmisión de NumPy, la resta entre una matriz bidimensional y una de sus filas se aplica por filas.\n",
        "\n",
        "En Pandas, la convención opera de manera similar por filas de forma predeterminada:"
      ]
    },
    {
      "cell_type": "code",
      "metadata": {
        "id": "rsAtwS0C7zGa"
      },
      "source": [
        "df = pd.DataFrame(A, columns=list('QRST'))\n",
        "df - df.iloc[0]"
      ],
      "execution_count": null,
      "outputs": []
    },
    {
      "cell_type": "markdown",
      "metadata": {
        "id": "BgLMJQzJ7zGb"
      },
      "source": [
        "Si, en cambio, desea operar en columnas, puede usar los métodos de objeto mencionados anteriormente, mientras especifica la palabra clave `axis`:"
      ]
    },
    {
      "cell_type": "code",
      "metadata": {
        "id": "AwT4JOWi7zGb"
      },
      "source": [
        "df.subtract(df['R'], axis=0)"
      ],
      "execution_count": null,
      "outputs": []
    },
    {
      "cell_type": "markdown",
      "metadata": {
        "id": "jteVr8oF7zGc"
      },
      "source": [
        "Tenga en cuenta que estas operaciones `DataFrame`/`Series`, como las operaciones discutidas anteriormente, alinearán automáticamente los índices entre los dos elementos:"
      ]
    },
    {
      "cell_type": "code",
      "metadata": {
        "id": "3f9O5bvD7zGd"
      },
      "source": [
        "halfrow = df.iloc[0, ::2]\n",
        "halfrow"
      ],
      "execution_count": null,
      "outputs": []
    },
    {
      "cell_type": "code",
      "metadata": {
        "id": "vnthL5A_7zGe"
      },
      "source": [
        "df - halfrow"
      ],
      "execution_count": null,
      "outputs": []
    },
    {
      "cell_type": "markdown",
      "metadata": {
        "id": "GhnY_7f17zGe"
      },
      "source": [
        "Esta preservación y alineación de índices y columnas significa que las operaciones con datos en Pandas siempre mantendrán el contexto de los datos, lo que evita los tipos de errores tontos que pueden surgir al trabajar con datos heterogéneos y/o desalineados en arreglos NumPy sin procesar."
      ]
    },
    {
      "cell_type": "markdown",
      "metadata": {
        "id": "LcPAhaq7AP-Y"
      },
      "source": [
        "# Manejo de datos faltantes"
      ]
    },
    {
      "cell_type": "markdown",
      "metadata": {
        "id": "ni4ycItnAP-Y"
      },
      "source": [
        "La diferencia entre los datos que se encuentran en muchos tutoriales y los datos del mundo real es que los datos del mundo real rara vez son limpios y homogéneos. En particular, a muchos conjuntos de datos interesantes les faltará cierta cantidad de datos. Para complicar aún más las cosas, diferentes fuentes de datos pueden indicar datos faltantes de diferentes maneras."
      ]
    },
    {
      "cell_type": "markdown",
      "metadata": {
        "id": "9yUz0Q_hAP-b"
      },
      "source": [
        "### ``None``: Datos faltantes de Pythonic"
      ]
    },
    {
      "cell_type": "markdown",
      "metadata": {
        "id": "yyP1nFAZAzDz"
      },
      "source": [
        "El primer valor centinela utilizado por Pandas es `None` un objeto de Python que a menudo se usa para los datos faltantes en el código de Python. Debido a que es un objeto Python, `None` no se puede usar en ningú arreglo arbitrario de NumPy/Pandas, sino solo en arreglos con tipo de datos 'object'(es decir, arreglos de objetos Python):"
      ]
    },
    {
      "cell_type": "code",
      "metadata": {
        "collapsed": true,
        "id": "Yvir2y_oAP-c"
      },
      "source": [
        "import numpy as np\n",
        "import pandas as pd"
      ],
      "execution_count": null,
      "outputs": []
    },
    {
      "cell_type": "code",
      "metadata": {
        "id": "laRDrfPEAP-d",
        "outputId": "015e5771-3211-46cd-f7e7-9b6c463289e0"
      },
      "source": [
        "vals1 = np.array([1, None, 3, 4])\n",
        "vals1"
      ],
      "execution_count": null,
      "outputs": [
        {
          "output_type": "execute_result",
          "data": {
            "text/plain": [
              "array([1, None, 3, 4], dtype=object)"
            ]
          },
          "metadata": {
            "tags": []
          },
          "execution_count": 2
        }
      ]
    },
    {
      "cell_type": "markdown",
      "metadata": {
        "id": "NVI6qnU7AP-f"
      },
      "source": [
        "Esto `dtype=object` significa que la mejor representación de tipo común que NumPy podría inferir para el contenido de la matriz es que son objetos de Python. Si bien este tipo de matriz de objetos es útil para algunos propósitos, cualquier operación en los datos se realizará en el nivel de Python, con mucha más sobrecarga que las operaciones típicamente rápidas que se ven para los arreglos con tipos nativos:"
      ]
    },
    {
      "cell_type": "code",
      "metadata": {
        "id": "yRRycUX4AP-f"
      },
      "source": [
        "for dtype in ['object', 'int']:\n",
        "    print(\"dtype =\", dtype)\n",
        "    %timeit np.arange(1E6, dtype=dtype).sum()\n",
        "    print()"
      ],
      "execution_count": null,
      "outputs": []
    },
    {
      "cell_type": "markdown",
      "metadata": {
        "id": "fjml14lMAP-f"
      },
      "source": [
        "El uso de objetos Python en un arreglo también significa que si realiza agregaciones como `sum()` o `min()` en un arreglo con un valor `None`, generalmente obtendrá un error:"
      ]
    },
    {
      "cell_type": "code",
      "metadata": {
        "id": "4-2lP2kSAP-g"
      },
      "source": [
        "vals1.sum()"
      ],
      "execution_count": null,
      "outputs": []
    },
    {
      "cell_type": "markdown",
      "metadata": {
        "id": "nAkkRhbcAP-g"
      },
      "source": [
        "Esto refleja el hecho de que la suma entre un número entero y `None` no está definida."
      ]
    },
    {
      "cell_type": "markdown",
      "metadata": {
        "id": "tMGWIPZ6AP-g"
      },
      "source": [
        "### ``NaN``: Faltan datos numéricos"
      ]
    },
    {
      "cell_type": "markdown",
      "metadata": {
        "id": "Kjr8_v3OBuye"
      },
      "source": [
        "La otra representación de datos faltantes, NaN(acrónimo de Not a Number), es diferente; es un valor de punto flotante especial reconocido por todos los sistemas que utilizan la representación de punto flotante estándar IEEE:"
      ]
    },
    {
      "cell_type": "code",
      "metadata": {
        "id": "-SWnFN3ZAP-h"
      },
      "source": [
        "vals2 = np.array([1, np.nan, 3, 4]) \n",
        "vals2.dtype"
      ],
      "execution_count": null,
      "outputs": []
    },
    {
      "cell_type": "markdown",
      "metadata": {
        "id": "jZjxsDJCAP-h"
      },
      "source": [
        "Tenga en cuenta que NumPy eligió un tipo de punto flotante nativo para este arreglo: esto significa que, a diferencia del arreglo de objetos de antes, este arreglo admite operaciones rápidas introducidas en código compilado. Debe tener en cuenta que `NaN` se parece un poco a un virus de datos: infecta cualquier otro objeto que toque. Independientemente de la operación, el resultado de la aritmética con `NaN` será otro `NaN`:"
      ]
    },
    {
      "cell_type": "code",
      "metadata": {
        "id": "PEWefZQ8AP-h"
      },
      "source": [
        "1 + np.nan"
      ],
      "execution_count": null,
      "outputs": []
    },
    {
      "cell_type": "code",
      "metadata": {
        "id": "D1K6Q3MFAP-i"
      },
      "source": [
        "0 *  np.nan"
      ],
      "execution_count": null,
      "outputs": []
    },
    {
      "cell_type": "markdown",
      "metadata": {
        "id": "ytyJOl1YAP-i"
      },
      "source": [
        "Tenga en cuenta que esto significa que los agregados sobre los valores están bien definidos (es decir, no dan como resultado un error) pero no siempre son útiles:"
      ]
    },
    {
      "cell_type": "code",
      "metadata": {
        "id": "u7a6WW9eAP-i"
      },
      "source": [
        "vals2.sum(), vals2.min(), vals2.max()"
      ],
      "execution_count": null,
      "outputs": []
    },
    {
      "cell_type": "markdown",
      "metadata": {
        "id": "7YXVw0B8AP-j"
      },
      "source": [
        "NumPy proporciona algunas agregaciones especiales que ignorarán estos valores faltantes:"
      ]
    },
    {
      "cell_type": "code",
      "metadata": {
        "id": "o420F3PbAP-j"
      },
      "source": [
        "np.nansum(vals2), np.nanmin(vals2), np.nanmax(vals2)"
      ],
      "execution_count": null,
      "outputs": []
    },
    {
      "cell_type": "markdown",
      "metadata": {
        "id": "6q8_tSGGAP-j"
      },
      "source": [
        "Tenga en cuenta que `NaN` es específicamente un valor de punto flotante; no hay un valor `NaN` equivalente para enteros, cadenas u otros tipos."
      ]
    },
    {
      "cell_type": "markdown",
      "metadata": {
        "id": "YF8eI4UyAP-k"
      },
      "source": [
        "### NaN y None en Pandas"
      ]
    },
    {
      "cell_type": "markdown",
      "metadata": {
        "id": "wLw6sWbZCjvd"
      },
      "source": [
        "`NaN` y `None` ambos tienen su lugar, y Pandas está diseñado para manejarlos a los dos de manera casi intercambiable, convirtiéndose entre ellos cuando sea apropiado:"
      ]
    },
    {
      "cell_type": "code",
      "metadata": {
        "id": "z6LaWrNgAP-k"
      },
      "source": [
        "pd.Series([1, np.nan, 2, None])"
      ],
      "execution_count": null,
      "outputs": []
    },
    {
      "cell_type": "markdown",
      "metadata": {
        "id": "JK4X4R3IAP-k"
      },
      "source": [
        "Para los tipos que no tienen un valor centinela disponible, Pandas escribe automáticamente cuando los valores NA están presentes. Por ejemplo, si establecemos un valor en un arreglo de enteros en `np.nan`, se convertirá automáticamente en un tipo de punto flotante para acomodar el NA:"
      ]
    },
    {
      "cell_type": "code",
      "metadata": {
        "id": "hBtK4l8qAP-l"
      },
      "source": [
        "x = pd.Series(range(2), dtype=int)\n",
        "x"
      ],
      "execution_count": null,
      "outputs": []
    },
    {
      "cell_type": "code",
      "metadata": {
        "id": "oUdClanQAP-l"
      },
      "source": [
        "x[0] = None\n",
        "x"
      ],
      "execution_count": null,
      "outputs": []
    },
    {
      "cell_type": "markdown",
      "metadata": {
        "id": "QpDE-RZOAP-l"
      },
      "source": [
        "Tenga en cuenta que, además de convertir lel arreglo de enteros en punto flotante, Pandas convierte automáticamente el `None` en un valor `NaN`.\n",
        "\n",
        "La siguiente tabla enumera las convenciones de upcasting en Pandas cuando se introducen valores NA:\n",
        "\n",
        "|Typeclass     | Conversion When Storing NAs | NA Sentinel Value      |\n",
        "|--------------|-----------------------------|------------------------|\n",
        "| ``floating`` | No change                   | ``np.nan``             |\n",
        "| ``object``   | No change                   | ``None`` or ``np.nan`` |\n",
        "| ``integer``  | Cast to ``float64``         | ``np.nan``             |\n",
        "| ``boolean``  | Cast to ``object``          | ``None`` or ``np.nan`` |\n",
        "\n",
        "Tenga en cuenta que en Pandas, los datos de cadena siempre se almacenan con un tipo `object d`."
      ]
    },
    {
      "cell_type": "markdown",
      "metadata": {
        "id": "n1cd8rcgAP-m"
      },
      "source": [
        "## Operando con valores nulos "
      ]
    },
    {
      "cell_type": "markdown",
      "metadata": {
        "id": "gXFHb_9MDoNk"
      },
      "source": [
        "Como hemos visto, Pandas trata `None` y `NaN` como esencialmente intercambiable para indicar valores faltantes o nulos. Para facilitar esta convención, existen varios métodos útiles para detectar, eliminar y reemplazar valores nulos en las estructuras de datos de Pandas. Son:\n",
        "\n",
        "*   isnull(): Genera una máscara booleana que indica los valores faltantes\n",
        "*   notnull(): Opuesto de isnull()\n",
        "*   dropna(): Devuelve una versión filtrada de los datos\n",
        "*   fillna(): Devuelve una copia de los datos con los valores faltantes rellenos o imputados"
      ]
    },
    {
      "cell_type": "markdown",
      "metadata": {
        "id": "NvPNPHcJAP-m"
      },
      "source": [
        "### Detectando valores nulos"
      ]
    },
    {
      "cell_type": "markdown",
      "metadata": {
        "id": "LlzIk-aPEFBO"
      },
      "source": [
        "Las estructuras de datos de Pandas tienen dos métodos útiles para detectar datos nulos: `isnull()` y `notnull()`. Cualquiera de los dos devolverá una máscara booleana sobre los datos. Por ejemplo:"
      ]
    },
    {
      "cell_type": "code",
      "metadata": {
        "collapsed": true,
        "id": "BUqJrw1ZAP-n"
      },
      "source": [
        "data = pd.Series([1, np.nan, 'hello', None])"
      ],
      "execution_count": null,
      "outputs": []
    },
    {
      "cell_type": "code",
      "metadata": {
        "id": "R3Fs2Wz2AP-n"
      },
      "source": [
        "data.isnull()"
      ],
      "execution_count": null,
      "outputs": []
    },
    {
      "cell_type": "code",
      "metadata": {
        "id": "yrwc1ZPyAP-n"
      },
      "source": [
        "data[data.notnull()]"
      ],
      "execution_count": null,
      "outputs": []
    },
    {
      "cell_type": "markdown",
      "metadata": {
        "id": "_cVaEOFqAP-o"
      },
      "source": [
        "Los métodos `isnull()` y `notnull()` producen resultados booleanos similares para `DataFrames`."
      ]
    },
    {
      "cell_type": "markdown",
      "metadata": {
        "id": "B7LcchrZAP-o"
      },
      "source": [
        "### Eliminando valores nulos"
      ]
    },
    {
      "cell_type": "markdown",
      "metadata": {
        "id": "2MAisl7lEuYs"
      },
      "source": [
        "Además del enmascaramiento utilizado anteriormente, existen los métodos de conveniencia `dropna()` (que elimina los valores de NA) y `fillna()`(que completa los valores de NA). Para un `Series`, el resultado es sencillo:"
      ]
    },
    {
      "cell_type": "code",
      "metadata": {
        "id": "GPLIqfzHAP-o"
      },
      "source": [
        "data.dropna()"
      ],
      "execution_count": null,
      "outputs": []
    },
    {
      "cell_type": "markdown",
      "metadata": {
        "id": "TbKp3CNCAP-p"
      },
      "source": [
        "Para un `DataFrame`, hay más opciones. Considere el siguiente `DataFrame`:"
      ]
    },
    {
      "cell_type": "code",
      "metadata": {
        "id": "dKyinQS0AP-p"
      },
      "source": [
        "df = pd.DataFrame([[1,      np.nan, 2],\n",
        "                   [2,      3,      5],\n",
        "                   [np.nan, 4,      6]])\n",
        "df"
      ],
      "execution_count": null,
      "outputs": []
    },
    {
      "cell_type": "markdown",
      "metadata": {
        "id": "REonTbUSAP-p"
      },
      "source": [
        "No podemos eliminar valores individuales de un `DataFrame`; solo podemos eliminar filas o columnas completas. Dependiendo de la aplicación, es posible que desee una u otra, por lo que `dropna()` ofrece una serie de opciones para un DataFrame.\n",
        "\n",
        "De forma predeterminada, `dropna()` eliminará todas las filas en las que esté presente algún valor nulo:"
      ]
    },
    {
      "cell_type": "code",
      "metadata": {
        "id": "nfwet6-jAP-q",
        "outputId": "d6cb2a0f-8b23-49f4-a26e-f519e48b0beb"
      },
      "source": [
        "df.dropna()"
      ],
      "execution_count": null,
      "outputs": [
        {
          "output_type": "execute_result",
          "data": {
            "text/html": [
              "<div>\n",
              "<table border=\"1\" class=\"dataframe\">\n",
              "  <thead>\n",
              "    <tr style=\"text-align: right;\">\n",
              "      <th></th>\n",
              "      <th>0</th>\n",
              "      <th>1</th>\n",
              "      <th>2</th>\n",
              "    </tr>\n",
              "  </thead>\n",
              "  <tbody>\n",
              "    <tr>\n",
              "      <th>1</th>\n",
              "      <td>2.0</td>\n",
              "      <td>3.0</td>\n",
              "      <td>5</td>\n",
              "    </tr>\n",
              "  </tbody>\n",
              "</table>\n",
              "</div>"
            ],
            "text/plain": [
              "     0    1  2\n",
              "1  2.0  3.0  5"
            ]
          },
          "metadata": {
            "tags": []
          },
          "execution_count": 18
        }
      ]
    },
    {
      "cell_type": "markdown",
      "metadata": {
        "id": "X_jNypLhAP-q"
      },
      "source": [
        "Alternativamente, puede colocar valores NA a lo largo de un eje diferente;`axis=1` elimina todas las columnas que contienen un valor nulo:"
      ]
    },
    {
      "cell_type": "code",
      "metadata": {
        "id": "hNuKWqcyAP-q"
      },
      "source": [
        "df.dropna(axis='columns')"
      ],
      "execution_count": null,
      "outputs": []
    },
    {
      "cell_type": "markdown",
      "metadata": {
        "id": "Q8ENMwSjAP-s"
      },
      "source": [
        "Pero esto también arroja algunos buenos datos; quizás le interese eliminar filas o columnas con todos los valores NA, o la mayoría de los valores NA. Esto se puede especificar a través de los parámetros `how` o `thresh`, que permiten un control preciso del número de nulos a permitir.\n",
        "\n",
        "El valor predeterminado es `how='any'`, de modo que `axis` eliminará cualquier fila o columna (según la palabra clave) que contenga un valor nulo. También puede especificar `how='all'`, que solo eliminará filas/columnas que sean todos valores nulos:"
      ]
    },
    {
      "cell_type": "code",
      "metadata": {
        "id": "OR8NPxv8AP-s"
      },
      "source": [
        "df[3] = np.nan\n",
        "df"
      ],
      "execution_count": null,
      "outputs": []
    },
    {
      "cell_type": "code",
      "metadata": {
        "id": "JyVZclUSAP-t"
      },
      "source": [
        "df.dropna(axis='columns', how='all')"
      ],
      "execution_count": null,
      "outputs": []
    },
    {
      "cell_type": "markdown",
      "metadata": {
        "id": "e-Ui3GnKAP-t"
      },
      "source": [
        "Para un control más detallado, el threshparámetro le permite especificar un número mínimo de valores no nulos para que la fila/columna se mantenga:"
      ]
    },
    {
      "cell_type": "code",
      "metadata": {
        "id": "FQPrse9HAP-u"
      },
      "source": [
        "df.dropna(axis='rows', thresh=3)"
      ],
      "execution_count": null,
      "outputs": []
    },
    {
      "cell_type": "markdown",
      "metadata": {
        "id": "Fc6fnsh6AP-u"
      },
      "source": [
        "Aquí se han eliminado la primera y la última fila, porque contienen solo dos valores no nulos."
      ]
    },
    {
      "cell_type": "markdown",
      "metadata": {
        "id": "3jqVtH3cAP-v"
      },
      "source": [
        "### Llenado de valores nulos"
      ]
    },
    {
      "cell_type": "markdown",
      "metadata": {
        "id": "T9HzOrpPGoPz"
      },
      "source": [
        "A veces, en lugar de eliminar los valores NA, prefiere reemplazarlos con un valor válido. Este valor puede ser un solo número como cero, o puede ser algún tipo de imputación o interpolación de los buenos valores. Puede hacer esto en el lugar usando el método `isnull()` como una máscara, pero debido a que es una operación tan común, Pandas proporciona el método `fillna()`, que devuelve una copia de la matriz con los valores nulos reemplazados.\n",
        "\n",
        "Considere lo siguiente Series:"
      ]
    },
    {
      "cell_type": "code",
      "metadata": {
        "id": "wy6f1g31AP-v"
      },
      "source": [
        "data = pd.Series([1, np.nan, 2, None, 3], index=list('abcde'))\n",
        "data"
      ],
      "execution_count": null,
      "outputs": []
    },
    {
      "cell_type": "markdown",
      "metadata": {
        "id": "jsQRW7CYAP-v"
      },
      "source": [
        "Podemos completar las entradas de NA con un solo valor, como cero:"
      ]
    },
    {
      "cell_type": "code",
      "metadata": {
        "id": "Z3jPbA2aAP-w"
      },
      "source": [
        "data.fillna(0)"
      ],
      "execution_count": null,
      "outputs": []
    },
    {
      "cell_type": "markdown",
      "metadata": {
        "id": "X0gw6hyXAP-w"
      },
      "source": [
        "Podemos especificar un relleno hacia adelante para propagar el valor anterior hacia adelante:"
      ]
    },
    {
      "cell_type": "code",
      "metadata": {
        "id": "I8Gf29mEAP-w"
      },
      "source": [
        "# forward-fill\n",
        "data.fillna(method='ffill')"
      ],
      "execution_count": null,
      "outputs": []
    },
    {
      "cell_type": "markdown",
      "metadata": {
        "id": "NFcv5X8WAP-w"
      },
      "source": [
        "O podemos especificar un relleno para propagar los siguientes valores hacia atrás:"
      ]
    },
    {
      "cell_type": "code",
      "metadata": {
        "id": "DLXoejnHAP-x"
      },
      "source": [
        "# back-fill\n",
        "data.fillna(method='bfill')"
      ],
      "execution_count": null,
      "outputs": []
    },
    {
      "cell_type": "markdown",
      "metadata": {
        "collapsed": true,
        "id": "ceIgBG71AP-x"
      },
      "source": [
        "Para `DataFrames`, las opciones son similares, pero también podemos especificar un `axis` a lo largo de la cual se realizan los rellenos:"
      ]
    },
    {
      "cell_type": "code",
      "metadata": {
        "id": "V70jL3Y8AP-x"
      },
      "source": [
        "df"
      ],
      "execution_count": null,
      "outputs": []
    },
    {
      "cell_type": "code",
      "metadata": {
        "id": "ac58b-lMAP-x"
      },
      "source": [
        "df.fillna(method='ffill', axis=1)"
      ],
      "execution_count": null,
      "outputs": []
    },
    {
      "cell_type": "markdown",
      "metadata": {
        "id": "iCcwoXrMAP-y"
      },
      "source": [
        "Tenga en cuenta que si un valor anterior no está disponible durante un llenado hacia adelante, el valor NA permanece."
      ]
    },
    {
      "cell_type": "markdown",
      "metadata": {
        "id": "-jbwAIOGJeGX"
      },
      "source": [
        "# Indexación jerárquica"
      ]
    },
    {
      "cell_type": "markdown",
      "metadata": {
        "deletable": true,
        "editable": true,
        "id": "jlp8BSNBJeGY"
      },
      "source": [
        "Hasta este punto, nos hemos centrado principalmente en datos unidimensionales y bidimensionales, almacenados en objetos Pandas `Series` y `DataFrame`, respectivamente. A menudo, es útil ir más allá y almacenar datos de dimensiones superiores, es decir, datos indexados por más de una o dos claves. Mientras pandas proporciona objetos `Panel` y `Panel4D` que de forma nativa manejan datos tridimensionales y de cuatro dimensiones, un patrón mucho más común en la práctica es hacer uso de indexación jerárquico (también conocido como multi-indexación) para incorporar múltiples niveles de índice dentro de un único índice. De esta manera, los datos de mayor dimensión se pueden representar de forma compacta dentro del familiar unidimensionalSeriesy DataFrameobjetos bidimensionales .\n",
        "\n",
        "Comenzamos con las importaciones estándar:"
      ]
    },
    {
      "cell_type": "code",
      "metadata": {
        "collapsed": true,
        "deletable": true,
        "editable": true,
        "id": "6FOSd0fSJeGY"
      },
      "source": [
        "import pandas as pd\n",
        "import numpy as np"
      ],
      "execution_count": null,
      "outputs": []
    },
    {
      "cell_type": "markdown",
      "metadata": {
        "deletable": true,
        "editable": true,
        "id": "63HJoyHDJeGZ"
      },
      "source": [
        "## Una serie indexada multiplicada"
      ]
    },
    {
      "cell_type": "markdown",
      "metadata": {
        "id": "-f7aN4u5Kw60"
      },
      "source": [
        "Comencemos por considerar cómo podríamos representar datos bidimensionales dentro de uno `Series` unidimensional. Para mayor concreción, consideraremos una serie de datos donde cada punto tiene un carácter y una clave numérica."
      ]
    },
    {
      "cell_type": "markdown",
      "metadata": {
        "deletable": true,
        "editable": true,
        "id": "hO2Dq1jiJeGa"
      },
      "source": [
        "### El mal camino"
      ]
    },
    {
      "cell_type": "markdown",
      "metadata": {
        "id": "bCSRCAnfK66K"
      },
      "source": [
        "Suponga que le gustaría rastrear datos sobre estados de dos años diferentes. Usando las herramientas de Pandas que ya hemos cubierto, es posible que tenga la tentación de usar simplemente tuplas de Python como claves:"
      ]
    },
    {
      "cell_type": "code",
      "metadata": {
        "deletable": true,
        "editable": true,
        "id": "2nQgA27KJeGa"
      },
      "source": [
        "index = [('California', 2000), ('California', 2010),\n",
        "         ('New York', 2000), ('New York', 2010),\n",
        "         ('Texas', 2000), ('Texas', 2010)]\n",
        "populations = [33871648, 37253956,\n",
        "               18976457, 19378102,\n",
        "               20851820, 25145561]\n",
        "pop = pd.Series(populations, index=index)\n",
        "pop"
      ],
      "execution_count": null,
      "outputs": []
    },
    {
      "cell_type": "markdown",
      "metadata": {
        "deletable": true,
        "editable": true,
        "id": "3bRrbYYsJeGc"
      },
      "source": [
        "Con este esquema de indexación, puede indexar o dividir directamente la serie en función de este índice múltiple:"
      ]
    },
    {
      "cell_type": "code",
      "metadata": {
        "deletable": true,
        "editable": true,
        "id": "yBjKWpqrJeGc",
        "outputId": "f0d95690-8599-45bc-ab02-ab8ab62930a4"
      },
      "source": [
        "pop[('California', 2010):('Texas', 2000)]"
      ],
      "execution_count": null,
      "outputs": [
        {
          "output_type": "execute_result",
          "data": {
            "text/plain": [
              "(California, 2010)    37253956\n",
              "(New York, 2000)      18976457\n",
              "(New York, 2010)      19378102\n",
              "(Texas, 2000)         20851820\n",
              "dtype: int64"
            ]
          },
          "metadata": {
            "tags": []
          },
          "execution_count": 3
        }
      ]
    },
    {
      "cell_type": "markdown",
      "metadata": {
        "deletable": true,
        "editable": true,
        "id": "ZRNeYlkNJeGd"
      },
      "source": [
        "Pero la conveniencia termina ahí. Por ejemplo, si necesita seleccionar todos los valores de 2010, necesitará hacer algunas tareas desordenadas (y potencialmente lentas) para que esto suceda:"
      ]
    },
    {
      "cell_type": "code",
      "metadata": {
        "deletable": true,
        "editable": true,
        "id": "WsczOANIJeGd"
      },
      "source": [
        "pop[[i for i in pop.index if i[1] == 2010]]"
      ],
      "execution_count": null,
      "outputs": []
    },
    {
      "cell_type": "markdown",
      "metadata": {
        "deletable": true,
        "editable": true,
        "id": "3lsdhgMWJeGe"
      },
      "source": [
        "Esto produce el resultado deseado, pero no es tan limpio (o tan eficiente para grandes conjuntos de datos) como la sintaxis de segmentación que nos encanta en Pandas."
      ]
    },
    {
      "cell_type": "markdown",
      "metadata": {
        "deletable": true,
        "editable": true,
        "id": "4xRdL53qJeGe"
      },
      "source": [
        "### La mejor manera: Pandas MultiIndex "
      ]
    },
    {
      "cell_type": "markdown",
      "metadata": {
        "id": "LlgBzy8bLMIo"
      },
      "source": [
        "Afortunadamente, Pandas ofrece una mejor manera. Nuestra indexación basada en tuplas es esencialmente un índice múltiple rudimentario, y el tipo Pandas `MultiIndex` nos da el tipo de operaciones que deseamos tener. Podemos crear un índice múltiple a partir de las tuplas de la siguiente manera:"
      ]
    },
    {
      "cell_type": "code",
      "metadata": {
        "deletable": true,
        "editable": true,
        "id": "tLfrPuDZJeGe",
        "outputId": "7c5a5d83-15eb-4e5b-dfbb-08101250c493"
      },
      "source": [
        "index = pd.MultiIndex.from_tuples(index)\n",
        "index"
      ],
      "execution_count": null,
      "outputs": [
        {
          "output_type": "execute_result",
          "data": {
            "text/plain": [
              "MultiIndex(levels=[['California', 'New York', 'Texas'], [2000, 2010]],\n",
              "           labels=[[0, 0, 1, 1, 2, 2], [0, 1, 0, 1, 0, 1]])"
            ]
          },
          "metadata": {
            "tags": []
          },
          "execution_count": 5
        }
      ]
    },
    {
      "cell_type": "markdown",
      "metadata": {
        "deletable": true,
        "editable": true,
        "id": "DBLZsL-MJeGf"
      },
      "source": [
        "Observe que `MultiIndex` contiene varios niveles de indexación; en este caso, los nombres de los estados y los años, así como varias etiquetas para cada punto de datos que codifican estos niveles.\n",
        "\n",
        "Si volvemos a indexar nuestra serie con este `MultiIndex`, vemos la representación jerárquica de los datos:"
      ]
    },
    {
      "cell_type": "code",
      "metadata": {
        "deletable": true,
        "editable": true,
        "id": "q0VbjTA1JeGf"
      },
      "source": [
        "pop = pop.reindex(index)\n",
        "pop"
      ],
      "execution_count": null,
      "outputs": []
    },
    {
      "cell_type": "markdown",
      "metadata": {
        "deletable": true,
        "editable": true,
        "id": "U7aBnSUPJeGg"
      },
      "source": [
        "Aquí, las dos primeras columnas de la representación `Series` muestran los valores de índice múltiples, mientras que la tercera columna muestra los datos. Observe que faltan algunas entradas en la primera columna: en esta representación de índices múltiples, cualquier entrada en blanco indica el mismo valor que la línea de arriba."
      ]
    },
    {
      "cell_type": "markdown",
      "metadata": {
        "deletable": true,
        "editable": true,
        "id": "9VptjN14JeGg"
      },
      "source": [
        "Ahora, para acceder a todos los datos para los que el segundo índice es 2010, simplemente podemos usar la notación de corte de Pandas:"
      ]
    },
    {
      "cell_type": "code",
      "metadata": {
        "deletable": true,
        "editable": true,
        "id": "qtT3JzlTJeGg"
      },
      "source": [
        "pop[:, 2010]"
      ],
      "execution_count": null,
      "outputs": []
    },
    {
      "cell_type": "markdown",
      "metadata": {
        "deletable": true,
        "editable": true,
        "id": "tV6IDtxNJeGg"
      },
      "source": [
        "El resultado es una matriz indexada individualmente con solo las claves que nos interesan. Esta sintaxis es mucho más conveniente (¡y la operación es mucho más eficiente!) Que la solución de indexación múltiple basada en tuplas caseras con la que comenzamos. Ahora analizaremos más a fondo este tipo de operación de indexación en datos indexados jerárquicamente."
      ]
    },
    {
      "cell_type": "markdown",
      "metadata": {
        "deletable": true,
        "editable": true,
        "id": "VhvdfocCJeGh"
      },
      "source": [
        "### Dimensión adicional MultiIndex"
      ]
    },
    {
      "cell_type": "markdown",
      "metadata": {
        "id": "ruTMgxfyMQdq"
      },
      "source": [
        "Es posible que observe algo más aquí: podríamos haber almacenado fácilmente los mismos datos usando un `DataFrame` con índice simple y etiquetas de columna. De hecho, Pandas se construye con esta equivalencia en mente. El método `unstack()` convertirá rápidamente un indexado múltiple `Series` en un indexado convencionalmente `DataFrame`:"
      ]
    },
    {
      "cell_type": "code",
      "metadata": {
        "deletable": true,
        "editable": true,
        "id": "LPAThGnRJeGh"
      },
      "source": [
        "pop_df = pop.unstack()\n",
        "pop_df"
      ],
      "execution_count": null,
      "outputs": []
    },
    {
      "cell_type": "markdown",
      "metadata": {
        "deletable": true,
        "editable": true,
        "id": "-Xn79fqgJeGh"
      },
      "source": [
        "Naturalmente, el método `stack()` proporciona la operación opuesta:"
      ]
    },
    {
      "cell_type": "code",
      "metadata": {
        "deletable": true,
        "editable": true,
        "id": "NDyeznMvJeGi"
      },
      "source": [
        "pop_df.stack()"
      ],
      "execution_count": null,
      "outputs": []
    },
    {
      "cell_type": "markdown",
      "metadata": {
        "deletable": true,
        "editable": true,
        "id": "1pCn2jsSJeGi"
      },
      "source": [
        "Al ver esto, es posible que se pregunte por qué nos molestaríamos con la indexación jerárquica. La razón es simple: así como pudimos usar la indexación múltiple para representar datos bidimensionales dentro de una dimensión unidimensional `Series`, también podemos usarla para representar datos de tres o más dimensiones en una `Series` o `DataFrame`. Cada nivel adicional en un índice múltiple representa una dimensión adicional de datos; aprovechar esta propiedad nos da mucha más flexibilidad en los tipos de datos que podemos representar. Concretamente, podríamos querer agregar otra columna de datos demográficos para cada estado en cada año (digamos, población menor de 18 años); con `MultiIndex` esto es tan fácil como agregar otra columna al `DataFrame`:"
      ]
    },
    {
      "cell_type": "code",
      "metadata": {
        "deletable": true,
        "editable": true,
        "id": "yUGTxsxQJeGj"
      },
      "source": [
        "pop_df = pd.DataFrame({'total': pop,\n",
        "                       'under18': [9267089, 9284094,\n",
        "                                   4687374, 4318033,\n",
        "                                   5906301, 6879014]})\n",
        "pop_df"
      ],
      "execution_count": null,
      "outputs": []
    },
    {
      "cell_type": "markdown",
      "metadata": {
        "deletable": true,
        "editable": true,
        "id": "YaLQJeDTJeGk"
      },
      "source": [
        "Además, todos los ufuncs y otras funcionalidades discutidas en Operación con datos en Pandas también funcionan con índices jerárquicos. Aquí calculamos la fracción de personas menores de 18 años por año, dados los datos anteriores:"
      ]
    },
    {
      "cell_type": "code",
      "metadata": {
        "deletable": true,
        "editable": true,
        "id": "20EzbbaBJeGk"
      },
      "source": [
        "f_u18 = pop_df['under18'] / pop_df['total']\n",
        "f_u18.unstack()"
      ],
      "execution_count": null,
      "outputs": []
    },
    {
      "cell_type": "markdown",
      "metadata": {
        "deletable": true,
        "editable": true,
        "id": "qmXMGOi0JeGl"
      },
      "source": [
        "Esto nos permite manipular y explorar fácil y rápidamente incluso datos de alta dimensión."
      ]
    },
    {
      "cell_type": "markdown",
      "metadata": {
        "deletable": true,
        "editable": true,
        "id": "HgQi5_7EJeGl"
      },
      "source": [
        "## Métodos de creación de índices múltiples "
      ]
    },
    {
      "cell_type": "markdown",
      "metadata": {
        "id": "7JJkC3lcM-_H"
      },
      "source": [
        "La forma más sencilla de construir una multiplicación indexada de `Series` o `DataFrame` es simplemente pasar una lista de dos o más matrices de índice para el constructor. Por ejemplo:"
      ]
    },
    {
      "cell_type": "code",
      "metadata": {
        "deletable": true,
        "editable": true,
        "id": "2ykAC5guJeGl"
      },
      "source": [
        "df = pd.DataFrame(np.random.rand(4, 2),\n",
        "                  index=[['a', 'a', 'b', 'b'], [1, 2, 1, 2]],\n",
        "                  columns=['data1', 'data2'])\n",
        "df"
      ],
      "execution_count": null,
      "outputs": []
    },
    {
      "cell_type": "markdown",
      "metadata": {
        "deletable": true,
        "editable": true,
        "id": "3DFZ5IQmJeGl"
      },
      "source": [
        "El trabajo de creación `MultiIndex` se realiza en segundo plano.\n",
        "\n",
        "De manera similar, si pasa un diccionario con tuplas apropiadas como claves, Pandas lo reconocerá automáticamente y usará un `MultiIndex` de forma predeterminada:"
      ]
    },
    {
      "cell_type": "code",
      "metadata": {
        "deletable": true,
        "editable": true,
        "id": "It0uC1LyJeGm"
      },
      "source": [
        "data = {('California', 2000): 33871648,\n",
        "        ('California', 2010): 37253956,\n",
        "        ('Texas', 2000): 20851820,\n",
        "        ('Texas', 2010): 25145561,\n",
        "        ('New York', 2000): 18976457,\n",
        "        ('New York', 2010): 19378102}\n",
        "pd.Series(data)"
      ],
      "execution_count": null,
      "outputs": []
    },
    {
      "cell_type": "markdown",
      "metadata": {
        "deletable": true,
        "editable": true,
        "id": "1oYqhoeoJeGm"
      },
      "source": [
        "Sin embargo, a veces es útil crear explícitamente un `MultiIndex`; veremos un par de estos métodos aquí."
      ]
    },
    {
      "cell_type": "markdown",
      "metadata": {
        "deletable": true,
        "editable": true,
        "id": "S0O_2UiZJeGm"
      },
      "source": [
        "### Constructores explícitos de índices múltiples"
      ]
    },
    {
      "cell_type": "markdown",
      "metadata": {
        "id": "_Y15FSIyNa3F"
      },
      "source": [
        "Para obtener más flexibilidad en la forma en que se construye el índice, puede usar los constructores de métodos de clase disponibles en `pd.MultiIndex`. Por ejemplo, como hicimos antes, puede construir el `MultiIndex` partir de una lista simple de matrices que dan los valores de índice dentro de cada nivel:"
      ]
    },
    {
      "cell_type": "code",
      "metadata": {
        "deletable": true,
        "editable": true,
        "id": "Qi02VFU_JeGn"
      },
      "source": [
        "pd.MultiIndex.from_arrays([['a', 'a', 'b', 'b'], [1, 2, 1, 2]])"
      ],
      "execution_count": null,
      "outputs": []
    },
    {
      "cell_type": "markdown",
      "metadata": {
        "deletable": true,
        "editable": true,
        "id": "zNSBad2fJeGn"
      },
      "source": [
        "Puede construirlo a partir de una lista de tuplas que proporcionen los múltiples valores de índice de cada punto:"
      ]
    },
    {
      "cell_type": "code",
      "metadata": {
        "deletable": true,
        "editable": true,
        "id": "6IhRl8lLJeGn",
        "outputId": "33dd559d-bc4e-497c-9df9-05731b129a82"
      },
      "source": [
        "pd.MultiIndex.from_tuples([('a', 1), ('a', 2), ('b', 1), ('b', 2)])"
      ],
      "execution_count": null,
      "outputs": [
        {
          "output_type": "execute_result",
          "data": {
            "text/plain": [
              "MultiIndex(levels=[['a', 'b'], [1, 2]],\n",
              "           labels=[[0, 0, 1, 1], [0, 1, 0, 1]])"
            ]
          },
          "metadata": {
            "tags": []
          },
          "execution_count": 15
        }
      ]
    },
    {
      "cell_type": "markdown",
      "metadata": {
        "deletable": true,
        "editable": true,
        "id": "kk7v7hvBJeGn"
      },
      "source": [
        "Incluso puede construirlo a partir de un producto cartesiano de índices individuales:"
      ]
    },
    {
      "cell_type": "code",
      "metadata": {
        "deletable": true,
        "editable": true,
        "id": "yHclLJzhJeGo",
        "outputId": "1fec9c1c-5fb6-4ccf-dd26-b9fe601ad77c"
      },
      "source": [
        "pd.MultiIndex.from_product([['a', 'b'], [1, 2]])"
      ],
      "execution_count": null,
      "outputs": [
        {
          "output_type": "execute_result",
          "data": {
            "text/plain": [
              "MultiIndex(levels=[['a', 'b'], [1, 2]],\n",
              "           labels=[[0, 0, 1, 1], [0, 1, 0, 1]])"
            ]
          },
          "metadata": {
            "tags": []
          },
          "execution_count": 16
        }
      ]
    },
    {
      "cell_type": "markdown",
      "metadata": {
        "deletable": true,
        "editable": true,
        "id": "1n_xRMekJeGo"
      },
      "source": [
        "De manera similar, puede construir `MultiIndex` directamente usando su codificación interna pasando `levels`(una lista de listas que contienen valores de índice disponibles para cada nivel) y `labels`(una lista de listas que hacen referencia a estas etiquetas):"
      ]
    },
    {
      "cell_type": "code",
      "metadata": {
        "deletable": true,
        "editable": true,
        "id": "1ThJy9KXJeGo"
      },
      "source": [
        "pd.MultiIndex(levels=[['a', 'b'], [1, 2]],\n",
        "              labels=[[0, 0, 1, 1], [0, 1, 0, 1]])"
      ],
      "execution_count": null,
      "outputs": []
    },
    {
      "cell_type": "markdown",
      "metadata": {
        "deletable": true,
        "editable": true,
        "id": "JsERsPm3JeGo"
      },
      "source": [
        "Cualquiera de estos objetos se puede pasar como argumento `index` al crear un `Series` o un `Dataframe`, o se puede pasar al método `reindex` de un `Series` o un existente `DataFrame`."
      ]
    },
    {
      "cell_type": "markdown",
      "metadata": {
        "deletable": true,
        "editable": true,
        "id": "prqLhhtLJeGp"
      },
      "source": [
        "### Nombres de nivel de MultiIndex"
      ]
    },
    {
      "cell_type": "markdown",
      "metadata": {
        "id": "Ml8wni-jOA9Z"
      },
      "source": [
        "A veces es conveniente nombrar los niveles del `MultiIndex`. Esto se puede lograr pasando el argumento `names` a cualquiera de los constructores `MultiIndex` anteriores, o estableciendo el atributo `names` del índice después del hecho:"
      ]
    },
    {
      "cell_type": "code",
      "metadata": {
        "deletable": true,
        "editable": true,
        "id": "iXaCv5yvJeGq"
      },
      "source": [
        "pop.index.names = ['state', 'year']\n",
        "pop"
      ],
      "execution_count": null,
      "outputs": []
    },
    {
      "cell_type": "markdown",
      "metadata": {
        "deletable": true,
        "editable": true,
        "id": "1SCACVmVJeGq"
      },
      "source": [
        "Con conjuntos de datos más complicados, esta puede ser una forma útil de realizar un seguimiento del significado de varios valores de índice."
      ]
    },
    {
      "cell_type": "markdown",
      "metadata": {
        "deletable": true,
        "editable": true,
        "id": "ifmFySgnJeGq"
      },
      "source": [
        "### MultiIndex para columnas "
      ]
    },
    {
      "cell_type": "markdown",
      "metadata": {
        "id": "IAMkkjoKOQfe"
      },
      "source": [
        "En un DataFrame, las filas y columnas son completamente simétricas, y así como las filas pueden tener múltiples niveles de índices, las columnas también pueden tener múltiples niveles. Considere lo siguiente, que es una maqueta de algunos datos médicos (algo realistas):"
      ]
    },
    {
      "cell_type": "code",
      "metadata": {
        "deletable": true,
        "editable": true,
        "id": "7G7cYJbkJeGr"
      },
      "source": [
        "# hierarchical indices and columns\n",
        "index = pd.MultiIndex.from_product([[2013, 2014], [1, 2]],\n",
        "                                   names=['year', 'visit'])\n",
        "columns = pd.MultiIndex.from_product([['Bob', 'Guido', 'Sue'], ['HR', 'Temp']],\n",
        "                                     names=['subject', 'type'])\n",
        "\n",
        "# mock some data\n",
        "data = np.round(np.random.randn(4, 6), 1)\n",
        "data[:, ::2] *= 10\n",
        "data += 37\n",
        "\n",
        "# create the DataFrame\n",
        "health_data = pd.DataFrame(data, index=index, columns=columns)\n",
        "health_data"
      ],
      "execution_count": null,
      "outputs": []
    },
    {
      "cell_type": "markdown",
      "metadata": {
        "deletable": true,
        "editable": true,
        "id": "pSvS3U_-JeGr"
      },
      "source": [
        "Aquí vemos dónde la indexación múltiple para filas y columnas puede resultar muy útil. Se trata fundamentalmente de datos en cuatro dimensiones, donde las dimensiones son el tema, el tipo de medida, el año y el número de visita. Con esto en su lugar, podemos, por ejemplo, indexar la columna de nivel superior por el nombre de la persona y obtener un completo que `DataFrame` contenga solo la información de esa persona:"
      ]
    },
    {
      "cell_type": "code",
      "metadata": {
        "deletable": true,
        "editable": true,
        "id": "jlWRM0iNJeGs",
        "outputId": "8ceef54c-0c19-48c9-a50f-4450e5fcbafd"
      },
      "source": [
        "health_data['Guido']"
      ],
      "execution_count": null,
      "outputs": [
        {
          "output_type": "execute_result",
          "data": {
            "text/html": [
              "<div>\n",
              "<table border=\"1\" class=\"dataframe\">\n",
              "  <thead>\n",
              "    <tr style=\"text-align: right;\">\n",
              "      <th></th>\n",
              "      <th>type</th>\n",
              "      <th>HR</th>\n",
              "      <th>Temp</th>\n",
              "    </tr>\n",
              "    <tr>\n",
              "      <th>year</th>\n",
              "      <th>visit</th>\n",
              "      <th></th>\n",
              "      <th></th>\n",
              "    </tr>\n",
              "  </thead>\n",
              "  <tbody>\n",
              "    <tr>\n",
              "      <th rowspan=\"2\" valign=\"top\">2013</th>\n",
              "      <th>1</th>\n",
              "      <td>32.0</td>\n",
              "      <td>36.7</td>\n",
              "    </tr>\n",
              "    <tr>\n",
              "      <th>2</th>\n",
              "      <td>50.0</td>\n",
              "      <td>35.0</td>\n",
              "    </tr>\n",
              "    <tr>\n",
              "      <th rowspan=\"2\" valign=\"top\">2014</th>\n",
              "      <th>1</th>\n",
              "      <td>39.0</td>\n",
              "      <td>37.8</td>\n",
              "    </tr>\n",
              "    <tr>\n",
              "      <th>2</th>\n",
              "      <td>48.0</td>\n",
              "      <td>37.3</td>\n",
              "    </tr>\n",
              "  </tbody>\n",
              "</table>\n",
              "</div>"
            ],
            "text/plain": [
              "type          HR  Temp\n",
              "year visit            \n",
              "2013 1      32.0  36.7\n",
              "     2      50.0  35.0\n",
              "2014 1      39.0  37.8\n",
              "     2      48.0  37.3"
            ]
          },
          "metadata": {
            "tags": []
          },
          "execution_count": 20
        }
      ]
    },
    {
      "cell_type": "markdown",
      "metadata": {
        "deletable": true,
        "editable": true,
        "id": "TuOJuRa_JeGs"
      },
      "source": [
        "Para registros complicados que contienen múltiples mediciones etiquetadas en múltiples tiempos para muchos temas (personas, países, ciudades, etc.), el uso de filas y columnas jerárquicas puede ser extremadamente conveniente."
      ]
    },
    {
      "cell_type": "markdown",
      "metadata": {
        "deletable": true,
        "editable": true,
        "id": "bu6NkKBMJeGs"
      },
      "source": [
        "## Indexación y división de un índice múltiple"
      ]
    },
    {
      "cell_type": "markdown",
      "metadata": {
        "id": "foeWKdMKOlVT"
      },
      "source": [
        "Indexar y dividir en un `MultiIndex` está diseñado para ser intuitivo y ayuda si piensa en los índices como dimensiones adicionales. Primero veremos la indexación de multiplicación indexado en `Series` y luego multiplicación indexada en `DataFrame`."
      ]
    },
    {
      "cell_type": "markdown",
      "metadata": {
        "deletable": true,
        "editable": true,
        "id": "9chvDNoyJeGt"
      },
      "source": [
        "### Multiplicación indexada en Series"
      ]
    },
    {
      "cell_type": "markdown",
      "metadata": {
        "id": "ZZmjPoliUT8Y"
      },
      "source": [
        "Considere la multiplicación indexada en `Series` de las poblaciones estatales que vimos anteriormente:"
      ]
    },
    {
      "cell_type": "code",
      "metadata": {
        "deletable": true,
        "editable": true,
        "id": "o3U-QGFAJeGt"
      },
      "source": [
        "pop"
      ],
      "execution_count": null,
      "outputs": []
    },
    {
      "cell_type": "markdown",
      "metadata": {
        "deletable": true,
        "editable": true,
        "id": "qAkt1--NJeGt"
      },
      "source": [
        "Podemos acceder a elementos individuales indexando con varios términos:"
      ]
    },
    {
      "cell_type": "code",
      "metadata": {
        "deletable": true,
        "editable": true,
        "id": "th8OYXtHJeGt"
      },
      "source": [
        "pop['California', 2000]"
      ],
      "execution_count": null,
      "outputs": []
    },
    {
      "cell_type": "markdown",
      "metadata": {
        "deletable": true,
        "editable": true,
        "id": "11soM6KdJeGu"
      },
      "source": [
        "El `MultiIndex` también soporta indexación parcial, o indexación sólo uno de los niveles en el índice. El resultado es otro `Series`, manteniéndose los índices de nivel inferior:"
      ]
    },
    {
      "cell_type": "code",
      "metadata": {
        "deletable": true,
        "editable": true,
        "id": "fPmmsqSJJeGu"
      },
      "source": [
        "pop['California']"
      ],
      "execution_count": null,
      "outputs": []
    },
    {
      "cell_type": "markdown",
      "metadata": {
        "deletable": true,
        "editable": true,
        "id": "BxbP6h9OJeGu"
      },
      "source": [
        "El corte parcial también está disponible, siempre que `MultiIndex` esté ordenado "
      ]
    },
    {
      "cell_type": "code",
      "metadata": {
        "deletable": true,
        "editable": true,
        "id": "326oLTZtJeGu"
      },
      "source": [
        "pop.loc['California':'New York']"
      ],
      "execution_count": null,
      "outputs": []
    },
    {
      "cell_type": "markdown",
      "metadata": {
        "deletable": true,
        "editable": true,
        "id": "axoJbLvOJeGv"
      },
      "source": [
        "Con índices ordenados, la indexación parcial se puede realizar en niveles inferiores pasando un segmento vacío en el primer índice:"
      ]
    },
    {
      "cell_type": "code",
      "metadata": {
        "deletable": true,
        "editable": true,
        "id": "Sky41jvJJeGv"
      },
      "source": [
        "pop[:, 2000]"
      ],
      "execution_count": null,
      "outputs": []
    },
    {
      "cell_type": "markdown",
      "metadata": {
        "deletable": true,
        "editable": true,
        "id": "YAp0bPFwJeGv"
      },
      "source": [
        "Otros tipos de indexación y selección también funcionan; por ejemplo, selección basada en máscaras booleanas:"
      ]
    },
    {
      "cell_type": "code",
      "metadata": {
        "deletable": true,
        "editable": true,
        "id": "fEXt6bRqJeGv"
      },
      "source": [
        "pop[pop > 22000000]"
      ],
      "execution_count": null,
      "outputs": []
    },
    {
      "cell_type": "markdown",
      "metadata": {
        "deletable": true,
        "editable": true,
        "id": "GZiBWIgVJeGw"
      },
      "source": [
        "La selección basada en una indexación elegante también funciona:"
      ]
    },
    {
      "cell_type": "code",
      "metadata": {
        "deletable": true,
        "editable": true,
        "id": "IBFUT9gWJeGw"
      },
      "source": [
        "pop[['California', 'Texas']]"
      ],
      "execution_count": null,
      "outputs": []
    },
    {
      "cell_type": "markdown",
      "metadata": {
        "deletable": true,
        "editable": true,
        "id": "u5X1gub7JeGx"
      },
      "source": [
        "### Multiplicación indexada en DataFrames"
      ]
    },
    {
      "cell_type": "markdown",
      "metadata": {
        "id": "7ysdEiDCU_--"
      },
      "source": [
        "En `DataFrame` comporta de manera similar. Considere nuestro juguete médico `DataFrame` de antes:"
      ]
    },
    {
      "cell_type": "code",
      "metadata": {
        "deletable": true,
        "editable": true,
        "id": "y9FBvKcUJeGx"
      },
      "source": [
        "health_data"
      ],
      "execution_count": null,
      "outputs": []
    },
    {
      "cell_type": "markdown",
      "metadata": {
        "deletable": true,
        "editable": true,
        "id": "1CI9x7G5JeGx"
      },
      "source": [
        "Recuerde que las columnas son primarias en un `DataFrame`, y la sintaxis utilizada para multiplicación indexada en `Series` aplica a las columnas. Por ejemplo, podemos recuperar los datos de frecuencia cardíaca de Guido con una simple operación:"
      ]
    },
    {
      "cell_type": "code",
      "metadata": {
        "deletable": true,
        "editable": true,
        "id": "aqdYk4mnJeGx"
      },
      "source": [
        "health_data['Guido', 'HR']"
      ],
      "execution_count": null,
      "outputs": []
    },
    {
      "cell_type": "markdown",
      "metadata": {
        "deletable": true,
        "editable": true,
        "id": "9QnktvQcJeGy"
      },
      "source": [
        "También, como en el caso de un solo índice, podemos utilizar los indexadores `loc`, `iloc` y `ix` introducidas en la indexación de datos y selección. Por ejemplo:"
      ]
    },
    {
      "cell_type": "code",
      "metadata": {
        "deletable": true,
        "editable": true,
        "id": "jqz_o8vqJeGy"
      },
      "source": [
        "health_data.iloc[:2, :2]"
      ],
      "execution_count": null,
      "outputs": []
    },
    {
      "cell_type": "markdown",
      "metadata": {
        "deletable": true,
        "editable": true,
        "id": "jeNOkuovJeGy"
      },
      "source": [
        "Estos indexadores proporcionan una vista similar a una matriz de los datos bidimensionales subyacentes, pero cada índice individual en `loc` o `iloc` puede pasarse a una tupla de múltiples índices. Por ejemplo:"
      ]
    },
    {
      "cell_type": "code",
      "metadata": {
        "deletable": true,
        "editable": true,
        "id": "efgHlCtjJeGy"
      },
      "source": [
        "health_data.loc[:, ('Bob', 'HR')]"
      ],
      "execution_count": null,
      "outputs": []
    },
    {
      "cell_type": "markdown",
      "metadata": {
        "deletable": true,
        "editable": true,
        "id": "0zGM2ysfJeGy"
      },
      "source": [
        "Trabajar con sectores dentro de estas tuplas de índice no es especialmente conveniente; intentar crear un segmento dentro de una tupla dará lugar a un error de sintaxis:"
      ]
    },
    {
      "cell_type": "code",
      "metadata": {
        "deletable": true,
        "editable": true,
        "id": "S6Cl3gxaJeGz"
      },
      "source": [
        "health_data.loc[(:, 1), (:, 'HR')]"
      ],
      "execution_count": null,
      "outputs": []
    },
    {
      "cell_type": "markdown",
      "metadata": {
        "deletable": true,
        "editable": true,
        "id": "TsZjmTxtJeGz"
      },
      "source": [
        "Puede evitar esto construyendo el segmento deseado explícitamente usando la función incorporada de Python `slice()`, pero una mejor manera en este contexto es usar un objeto `IndexSlice`, que Pandas proporciona precisamente para esta situación. Por ejemplo:"
      ]
    },
    {
      "cell_type": "code",
      "metadata": {
        "deletable": true,
        "editable": true,
        "id": "1ys3YcleJeGz"
      },
      "source": [
        "idx = pd.IndexSlice\n",
        "health_data.loc[idx[:, 1], idx[:, 'HR']]"
      ],
      "execution_count": null,
      "outputs": []
    },
    {
      "cell_type": "markdown",
      "metadata": {
        "id": "8-_KyfLhV2Eh"
      },
      "source": [
        "# Combinando conjuntos de datos: Concat y Append"
      ]
    },
    {
      "cell_type": "markdown",
      "metadata": {
        "id": "zsjZYRliV2Eh"
      },
      "source": [
        "Algunos de los estudios de datos más interesantes provienen de la combinación de diferentes fuentes de datos. Estas operaciones pueden involucrar cualquier cosa, desde la concatenación muy sencilla de dos conjuntos de datos diferentes, hasta uniones y fusiones de estilo de base de datos más complicadas que manejan correctamente cualquier superposición entre los conjuntos de datos. `Series` y `DataFrames` se construyen con este tipo de operaciones en mente, y pandas incluye funciones y métodos que hacen este tipo de datos ordenado rápido y sencillo.\n",
        "\n",
        "Comenzamos con las importaciones estándar:"
      ]
    },
    {
      "cell_type": "code",
      "metadata": {
        "collapsed": true,
        "id": "TLRLdpIDV2Ei"
      },
      "source": [
        "import pandas as pd\n",
        "import numpy as np"
      ],
      "execution_count": null,
      "outputs": []
    },
    {
      "cell_type": "markdown",
      "metadata": {
        "id": "lyInNPaaV2Ej"
      },
      "source": [
        "Por conveniencia, definiremos esta función que crea una forma `DataFrame` particular que será útil a continuación:"
      ]
    },
    {
      "cell_type": "code",
      "metadata": {
        "id": "xDdkFtzwV2Ej"
      },
      "source": [
        "def make_df(cols, ind):\n",
        "    \"\"\"Quickly make a DataFrame\"\"\"\n",
        "    data = {c: [str(c) + str(i) for i in ind]\n",
        "            for c in cols}\n",
        "    return pd.DataFrame(data, ind)\n",
        "\n",
        "# example DataFrame\n",
        "make_df('ABC', range(3))"
      ],
      "execution_count": null,
      "outputs": []
    },
    {
      "cell_type": "markdown",
      "metadata": {
        "id": "qRlV5r3eV2El"
      },
      "source": [
        "Además, crearemos una clase rápida que nos permitirá mostrar varios `DataFrames` uno al lado del otro. El código hace uso del método especial `_repr_html_`, que Python usa para implementar su visualización de objetos enriquecidos:"
      ]
    },
    {
      "cell_type": "code",
      "metadata": {
        "collapsed": true,
        "id": "C0BQZJlsV2El"
      },
      "source": [
        "class display(object):\n",
        "    \"\"\"Display HTML representation of multiple objects\"\"\"\n",
        "    template = \"\"\"<div style=\"float: left; padding: 10px;\">\n",
        "    <p style='font-family:\"Courier New\", Courier, monospace'>{0}</p>{1}\n",
        "    </div>\"\"\"\n",
        "    def __init__(self, *args):\n",
        "        self.args = args\n",
        "        \n",
        "    def _repr_html_(self):\n",
        "        return '\\n'.join(self.template.format(a, eval(a)._repr_html_())\n",
        "                         for a in self.args)\n",
        "    \n",
        "    def __repr__(self):\n",
        "        return '\\n\\n'.join(a + '\\n' + repr(eval(a))\n",
        "                           for a in self.args)\n",
        "    "
      ],
      "execution_count": null,
      "outputs": []
    },
    {
      "cell_type": "markdown",
      "metadata": {
        "id": "8vk6qFyRV2En"
      },
      "source": [
        "## Recordar: Concatenación de matrices NumPy "
      ]
    },
    {
      "cell_type": "markdown",
      "metadata": {
        "id": "1ao1kuLIgxep"
      },
      "source": [
        "La concatenación de objetos `Series` y `DataFrame` es muy similar a la concatenación de matrices Numpy, que se puede hacer a través de la función `np.concatenate`"
      ]
    },
    {
      "cell_type": "code",
      "metadata": {
        "id": "39_4UgpEV2En"
      },
      "source": [
        "x = [1, 2, 3]\n",
        "y = [4, 5, 6]\n",
        "z = [7, 8, 9]\n",
        "np.concatenate([x, y, z])"
      ],
      "execution_count": null,
      "outputs": []
    },
    {
      "cell_type": "markdown",
      "metadata": {
        "id": "Ii0vM4CCV2En"
      },
      "source": [
        "El primer argumento es una lista o tupla de arreglos para concatenar. Además, se necesita una palabra clave `axis` que le permite especificar el eje a lo largo del cual se concatenará el resultado:"
      ]
    },
    {
      "cell_type": "code",
      "metadata": {
        "id": "rWtnfguxV2Eo"
      },
      "source": [
        "x = [[1, 2],\n",
        "     [3, 4]]\n",
        "np.concatenate([x, x], axis=1)"
      ],
      "execution_count": null,
      "outputs": []
    },
    {
      "cell_type": "markdown",
      "metadata": {
        "id": "0OldUKsAV2Eo"
      },
      "source": [
        "## Concatenación simple con ``pd.concat``"
      ]
    },
    {
      "cell_type": "markdown",
      "metadata": {
        "id": "-xtfJPdFV2Eo"
      },
      "source": [
        "Pandas tiene una función, `pd.concat()` que tiene una sintaxis similar a `np.concatenate` pero contiene una serie de opciones que analizaremos en un momento:\n",
        "\n",
        "```python\n",
        "# Signature in Pandas v0.18\n",
        "pd.concat(objs, axis=0, join='outer', join_axes=None, ignore_index=False,\n",
        "          keys=None, levels=None, names=None, verify_integrity=False,\n",
        "          copy=True)\n",
        "```\n",
        "\n",
        "`pd.concat()` se puede usar para una concatenación simple de objetos `Series` o `DataFrame`, al igual que `np.concatenate()` se puede usar para concatenaciones simples de matrices:"
      ]
    },
    {
      "cell_type": "code",
      "metadata": {
        "id": "IK2Nj3QjV2Ep"
      },
      "source": [
        "ser1 = pd.Series(['A', 'B', 'C'], index=[1, 2, 3])\n",
        "ser2 = pd.Series(['D', 'E', 'F'], index=[4, 5, 6])\n",
        "pd.concat([ser1, ser2])"
      ],
      "execution_count": null,
      "outputs": []
    },
    {
      "cell_type": "markdown",
      "metadata": {
        "id": "VZVpnLWsV2Ep"
      },
      "source": [
        "También funciona para concatenar objetos de dimensiones superiores, como ``DataFrame``:"
      ]
    },
    {
      "cell_type": "code",
      "metadata": {
        "id": "ZDtlfzgGV2Ep"
      },
      "source": [
        "df1 = make_df('AB', [1, 2])\n",
        "df2 = make_df('AB', [3, 4])\n",
        "display('df1', 'df2', 'pd.concat([df1, df2])')"
      ],
      "execution_count": null,
      "outputs": []
    },
    {
      "cell_type": "markdown",
      "metadata": {
        "id": "91_jY7J_V2Eq"
      },
      "source": [
        "De forma predeterminada, la concatenación se realiza por filas dentro de `DataFrame`(es decir, `axis=0`). Como `np.concatenate`, `pd.concat` permite especificar un eje a lo largo del cual se llevará a cabo la concatenación. Considere el siguiente ejemplo:"
      ]
    },
    {
      "cell_type": "code",
      "metadata": {
        "id": "GCeA9NusV2Eq"
      },
      "source": [
        "df3 = make_df('AB', [0, 1])\n",
        "df4 = make_df('CD', [0, 1])\n",
        "display('df3', 'df4', \"pd.concat([df3, df4], axis='col')\")"
      ],
      "execution_count": null,
      "outputs": []
    },
    {
      "cell_type": "markdown",
      "metadata": {
        "id": "bnvogrX4V2Er"
      },
      "source": [
        "Podríamos haber especificado de manera equivalente `axis=1`; aquí hemos utilizado el más intuitivo `axis='col'`."
      ]
    },
    {
      "cell_type": "markdown",
      "metadata": {
        "id": "gG4GRUYkV2Er"
      },
      "source": [
        "### Índices duplicados "
      ]
    },
    {
      "cell_type": "markdown",
      "metadata": {
        "id": "VZY6fM6ih1GF"
      },
      "source": [
        "Una diferencia importante entre `np.concatenate` y `pd.concat` es que la concatenación de Pandas conserva los índices, Considere este simple ejemplo:"
      ]
    },
    {
      "cell_type": "code",
      "metadata": {
        "id": "hqmIDJfFV2Er"
      },
      "source": [
        "x = make_df('AB', [0, 1])\n",
        "y = make_df('AB', [2, 3])\n",
        "y.index = x.index  # make duplicate indices!\n",
        "display('x', 'y', 'pd.concat([x, y])')"
      ],
      "execution_count": null,
      "outputs": []
    },
    {
      "cell_type": "markdown",
      "metadata": {
        "id": "BHobIaBnV2Er"
      },
      "source": [
        "Observe los índices repetidos en el resultado. Si bien esto es válido dentro de `DataFrames`, el resultado a menudo no es deseable.` pd.concat()` nos da algunas formas de manejarlo."
      ]
    },
    {
      "cell_type": "markdown",
      "metadata": {
        "id": "dRHqqYiVV2Es"
      },
      "source": [
        "#### Capturar las repeticiones como un error "
      ]
    },
    {
      "cell_type": "markdown",
      "metadata": {
        "id": "n_ghadN5iJO8"
      },
      "source": [
        "Si simplemente se desea verificar que los índices en el resultado de `pd.concat()`no se superponen. Aquí hay un ejemplo, donde para mayor claridad capturaremos e imprimiremos el mensaje de error:"
      ]
    },
    {
      "cell_type": "code",
      "metadata": {
        "id": "ePRGssg6V2Es"
      },
      "source": [
        "try:\n",
        "    pd.concat([x, y], verify_integrity=True)\n",
        "except ValueError as e:\n",
        "    print(\"ValueError:\", e)"
      ],
      "execution_count": null,
      "outputs": []
    },
    {
      "cell_type": "markdown",
      "metadata": {
        "id": "ridfUB4WV2Es"
      },
      "source": [
        "#### Ignorando el índice"
      ]
    },
    {
      "cell_type": "markdown",
      "metadata": {
        "id": "v-WqYtesiZV1"
      },
      "source": [
        "Esta opción se puede especificar mediante la bandera `ignore_index`. Con este valor establecido en verdadero, la concatenación creará un nuevo índice entero para el resultado Series:"
      ]
    },
    {
      "cell_type": "code",
      "metadata": {
        "id": "Rx5s68UnV2Et"
      },
      "source": [
        "display('x', 'y', 'pd.concat([x, y], ignore_index=True)')"
      ],
      "execution_count": null,
      "outputs": []
    },
    {
      "cell_type": "markdown",
      "metadata": {
        "id": "1HeCqRIxV2Et"
      },
      "source": [
        "#### Agregar claves MultiIndex"
      ]
    },
    {
      "cell_type": "markdown",
      "metadata": {
        "id": "jFEes_hQipOt"
      },
      "source": [
        "Otra opción es usar la opción `keys` para especificar una etiqueta para las fuentes de datos; el resultado será una serie indexada jerárquicamente que contiene los datos:"
      ]
    },
    {
      "cell_type": "code",
      "metadata": {
        "id": "D9PL7BczV2Et"
      },
      "source": [
        "display('x', 'y', \"pd.concat([x, y], keys=['x', 'y'])\")"
      ],
      "execution_count": null,
      "outputs": []
    },
    {
      "cell_type": "markdown",
      "metadata": {
        "id": "ZHRiMs7lV2Eu"
      },
      "source": [
        "### Concatenación con uniones"
      ]
    },
    {
      "cell_type": "markdown",
      "metadata": {
        "id": "jkEgcfz5i0FW"
      },
      "source": [
        "En los ejemplos simples que acabamos de ver, principalmente estábamos concatenando `DataFrames` con nombres de columna compartidos. En la práctica, los datos de diferentes fuentes pueden tener diferentes conjuntos de nombres de columna y `pd.concat` ofrece varias opciones en este caso. Considere la concatenación de los siguientes dos DataFrames, que tienen algunas (¡pero no todas!) Columnas en común:"
      ]
    },
    {
      "cell_type": "code",
      "metadata": {
        "id": "wbrv2fKLV2Eu"
      },
      "source": [
        "df5 = make_df('ABC', [1, 2])\n",
        "df6 = make_df('BCD', [3, 4])\n",
        "display('df5', 'df6', 'pd.concat([df5, df6])')"
      ],
      "execution_count": null,
      "outputs": []
    },
    {
      "cell_type": "markdown",
      "metadata": {
        "id": "d5jxEZ7ZV2Ev"
      },
      "source": [
        "De forma predeterminada, las entradas para las que no hay datos disponibles se rellenan con valores `NA`. Para cambiar esto, podemos especificar una de varias opciones para los parámetros `join` y `join_axes` de la función concatenar. Por defecto, la unión es una unión de las columnas de entrada ( `join='outer'`), pero podemos cambiar esto a una intersección de las columnas usando `join='inner'`:"
      ]
    },
    {
      "cell_type": "code",
      "metadata": {
        "id": "mUg6WTL3V2Ev"
      },
      "source": [
        "display('df5', 'df6',\n",
        "        \"pd.concat([df5, df6], join='inner')\")"
      ],
      "execution_count": null,
      "outputs": []
    },
    {
      "cell_type": "markdown",
      "metadata": {
        "id": "I_Z7H7ZrV2Ew"
      },
      "source": [
        "Otra opción es especificar directamente el índice de las columnas restantes usando el argumento `join_axes`, que toma una lista de objetos de índice. Aquí especificaremos que las columnas devueltas deben ser las mismas que las de la primera entrada:"
      ]
    },
    {
      "cell_type": "code",
      "metadata": {
        "id": "zJZwU1KhV2Ew"
      },
      "source": [
        "display('df5', 'df6',\n",
        "        \"pd.concat([df5, df6], join_axes=[df5.columns])\")"
      ],
      "execution_count": null,
      "outputs": []
    },
    {
      "cell_type": "markdown",
      "metadata": {
        "id": "kvz-TlGVV2Ew"
      },
      "source": [
        "La combinación de opciones de la función `pd.concat` permite una amplia gama de posibles comportamientos al unir dos conjuntos de datos."
      ]
    },
    {
      "cell_type": "markdown",
      "metadata": {
        "id": "qqqUJfMyV2Ew"
      },
      "source": [
        "### El método ``append()``"
      ]
    },
    {
      "cell_type": "markdown",
      "metadata": {
        "id": "VaV2LiUPjkwa"
      },
      "source": [
        "Porque la concatenación directa de arreglos es tan común en los objetos `Series` y `DataFrame` tienen un método `append` que puede lograr lo mismo con menos pulsaciones de teclas. Por ejemplo, en lugar de llamar` pd.concat([df1, df2])`, simplemente puede llamar `df1.append(df2)`:"
      ]
    },
    {
      "cell_type": "code",
      "metadata": {
        "id": "RJZKT8cSV2Ex"
      },
      "source": [
        "display('df1', 'df2', 'df1.append(df2)')"
      ],
      "execution_count": null,
      "outputs": []
    },
    {
      "cell_type": "markdown",
      "metadata": {
        "id": "CRaex4s8V2Ey"
      },
      "source": [
        "Tenga en cuenta que, a diferencia de los métodos `append()` y `extend()` de las listas de Python, el método `append()` en Pandas no modifica el objeto original, sino que crea un nuevo objeto con los datos combinados. Tampoco es un método muy eficiente, porque implica la creación de un nuevo índice y búfer de datos. Por lo tanto, si planea realizar varias operaciones `append`, generalmente es mejor crear una lista de `DataFrames` y pasarlas todas a la vez a la función `concat()`."
      ]
    },
    {
      "cell_type": "markdown",
      "metadata": {
        "id": "nnccGVHWV8Af"
      },
      "source": [
        "# Combinar conjuntos de datos: fusionar y unir"
      ]
    },
    {
      "cell_type": "markdown",
      "metadata": {
        "id": "PqdGztU0V8Af"
      },
      "source": [
        "Una característica esencial que ofrece Pandas son sus operaciones de `join` y `merge` en memoria de alto rendimiento. Si alguna vez ha trabajado con bases de datos, debe estar familiarizado con este tipo de interacción de datos. La interfaz principal para esto es la función `pd.merge`, y veremos algunos ejemplos de cómo esto puede funcionar en la práctica.\n",
        "\n",
        "Para mayor comodidad, comenzaremos redefiniendo la funcionalidad `display()` de la sección anterior:"
      ]
    },
    {
      "cell_type": "code",
      "metadata": {
        "collapsed": true,
        "id": "rQ1m9jNdV8Ag"
      },
      "source": [
        "import pandas as pd\n",
        "import numpy as np\n",
        "\n",
        "class display(object):\n",
        "    \"\"\"Display HTML representation of multiple objects\"\"\"\n",
        "    template = \"\"\"<div style=\"float: left; padding: 10px;\">\n",
        "    <p style='font-family:\"Courier New\", Courier, monospace'>{0}</p>{1}\n",
        "    </div>\"\"\"\n",
        "    def __init__(self, *args):\n",
        "        self.args = args\n",
        "        \n",
        "    def _repr_html_(self):\n",
        "        return '\\n'.join(self.template.format(a, eval(a)._repr_html_())\n",
        "                         for a in self.args)\n",
        "    \n",
        "    def __repr__(self):\n",
        "        return '\\n\\n'.join(a + '\\n' + repr(eval(a))\n",
        "                           for a in self.args)"
      ],
      "execution_count": null,
      "outputs": []
    },
    {
      "cell_type": "markdown",
      "metadata": {
        "id": "4mtJm0z4V8Ag"
      },
      "source": [
        "## Álgebra relacional "
      ]
    },
    {
      "cell_type": "markdown",
      "metadata": {
        "id": "1lFOFOOKk8Bi"
      },
      "source": [
        "El comportamiento implementado en `pd.merge()` es un subconjunto de lo que se conoce como álgebra relacional, que es un conjunto formal de reglas para manipular datos relacionales y forma la base conceptual de las operaciones disponibles en la mayoría de las bases de datos. La fuerza del enfoque de álgebra relacional es que propone varias operaciones primitivas, que se convierten en los componentes básicos de operaciones más complicadas en cualquier conjunto de datos. Con este léxico de operaciones fundamentales implementado de manera eficiente en una base de datos u otro programa, se puede realizar una amplia gama de operaciones compuestas bastante complicadas.\n",
        "\n",
        "Pandas implementa varios de estos bloques de construcción fundamentales en la función `pd.merge()` y el método `join()` relacionado de `Series` y `Dataframes`."
      ]
    },
    {
      "cell_type": "markdown",
      "metadata": {
        "id": "9rerf3l2V8Ah"
      },
      "source": [
        "## Categorías de combinaciones"
      ]
    },
    {
      "cell_type": "markdown",
      "metadata": {
        "id": "k5P9Fu1jlph9"
      },
      "source": [
        "La función `pd.merge()` implementa varios tipos de combinaciones: las uniones uno a uno, varios a uno y varios a varios. Se accede a los tres tipos de combinaciones mediante una llamada idéntica a la interfaz `pd.merge()`; el tipo de unión realizada depende de la forma de los datos de entrada. "
      ]
    },
    {
      "cell_type": "markdown",
      "metadata": {
        "id": "4nTdFGuGV8Ah"
      },
      "source": [
        "### Uniones uno a uno "
      ]
    },
    {
      "cell_type": "markdown",
      "metadata": {
        "id": "-6Nj_Cuul491"
      },
      "source": [
        "Quizás el tipo más simple de expresión de fusión es la unión uno a uno, que en muchos aspectos es muy similar a la concatenación de columnas. Como ejemplo concreto, considere los dos siguientes `DataFrames` que contienen información sobre varios empleados de una empresa:"
      ]
    },
    {
      "cell_type": "code",
      "metadata": {
        "id": "BE-TFoqhV8Ai"
      },
      "source": [
        "df1 = pd.DataFrame({'employee': ['Bob', 'Jake', 'Lisa', 'Sue'],\n",
        "                    'group': ['Accounting', 'Engineering', 'Engineering', 'HR']})\n",
        "df2 = pd.DataFrame({'employee': ['Lisa', 'Bob', 'Jake', 'Sue'],\n",
        "                    'hire_date': [2004, 2008, 2012, 2014]})\n",
        "display('df1', 'df2')"
      ],
      "execution_count": null,
      "outputs": []
    },
    {
      "cell_type": "markdown",
      "metadata": {
        "id": "0vZJfBGAV8Ak"
      },
      "source": [
        "Para combinar esta información en una sola `DataFrame`, podemos usar la función `pd.merge()`:"
      ]
    },
    {
      "cell_type": "code",
      "metadata": {
        "id": "VCXN9YhhV8Al"
      },
      "source": [
        "df3 = pd.merge(df1, df2)\n",
        "df3"
      ],
      "execution_count": null,
      "outputs": []
    },
    {
      "cell_type": "markdown",
      "metadata": {
        "id": "5roBBAM-V8Al"
      },
      "source": [
        "La función `pd.merge()` reconoce que cada `DataFrame` tiene una columna de \"empleado\" y se une automáticamente utilizando esta columna como clave. El resultado de la fusión es un nuevo `DataFrame` que combina la información de las dos entradas. "
      ]
    },
    {
      "cell_type": "markdown",
      "metadata": {
        "id": "O-S9dohyV8Al"
      },
      "source": [
        "### Uniones de varios a uno "
      ]
    },
    {
      "cell_type": "markdown",
      "metadata": {
        "id": "YG1aNqBXV8Am"
      },
      "source": [
        "Las combinaciones de varios a uno son combinaciones en las que una de las dos columnas clave contiene entradas duplicadas. Para el caso de muchos a uno, el resultado `DataFrame` conservará esas entradas duplicadas según corresponda. Considere el siguiente ejemplo de una combinación de varios a uno:"
      ]
    },
    {
      "cell_type": "code",
      "metadata": {
        "id": "3kTolFRnV8Am"
      },
      "source": [
        "df4 = pd.DataFrame({'group': ['Accounting', 'Engineering', 'HR'],\n",
        "                    'supervisor': ['Carly', 'Guido', 'Steve']})\n",
        "display('df3', 'df4', 'pd.merge(df3, df4)')"
      ],
      "execution_count": null,
      "outputs": []
    },
    {
      "cell_type": "markdown",
      "metadata": {
        "id": "vIBSYUgpV8Am"
      },
      "source": [
        "El `DataFrame` resultante tiene una columna adicional con la información del \"supervisor\", donde la información se repite en una o más ubicaciones según lo requieran las entradas."
      ]
    },
    {
      "cell_type": "markdown",
      "metadata": {
        "id": "8EGFHZhtV8An"
      },
      "source": [
        "### Uniones de varios a varios "
      ]
    },
    {
      "cell_type": "markdown",
      "metadata": {
        "id": "Y0En-vozV8An"
      },
      "source": [
        "Las uniones de varios a varios son un poco confusas conceptualmente, pero están bien definidas. Si la columna de la clave en la matriz izquierda y derecha contiene duplicados, el resultado es una combinación de muchos a muchos. Quizás esto quede más claro con un ejemplo concreto. Considere lo siguiente, donde tenemos un DataFrame muestra una o más habilidades asociadas con un grupo en particular. Al realizar una combinación de varios a varios, podemos recuperar las habilidades asociadas con cualquier persona individual:"
      ]
    },
    {
      "cell_type": "code",
      "metadata": {
        "id": "o2Ug7A5QV8An"
      },
      "source": [
        "df5 = pd.DataFrame({'group': ['Accounting', 'Accounting',\n",
        "                              'Engineering', 'Engineering', 'HR', 'HR'],\n",
        "                    'skills': ['math', 'spreadsheets', 'coding', 'linux',\n",
        "                               'spreadsheets', 'organization']})\n",
        "display('df1', 'df5', \"pd.merge(df1, df5)\")"
      ],
      "execution_count": null,
      "outputs": []
    },
    {
      "cell_type": "markdown",
      "metadata": {
        "id": "c6M3qwYEV8Ao"
      },
      "source": [
        "Estos tres tipos de combinaciones se pueden usar con otras herramientas de Pandas para implementar una amplia gama de funcionalidades. Pero en la práctica, los conjuntos de datos rara vez son tan limpios como con el que estamos trabajando aquí."
      ]
    },
    {
      "cell_type": "markdown",
      "metadata": {
        "id": "ukKqAPEbV8Ao"
      },
      "source": [
        "## Especificación de Merge Key"
      ]
    },
    {
      "cell_type": "markdown",
      "metadata": {
        "id": "z04YvrrhV8Ao"
      },
      "source": [
        "Ya hemos visto el comportamiento predeterminado de `pd.merge()`: busca uno o más nombres de columna coincidentes entre las dos entradas y lo usa como clave. Sin embargo, a menudo los nombres de las columnas no coincidirán tan bien y `pd.merge()` proporcionan una variedad de opciones para manejar esto."
      ]
    },
    {
      "cell_type": "markdown",
      "metadata": {
        "id": "VXVPhTx7V8Ao"
      },
      "source": [
        "### LA palabra clave ``on``"
      ]
    },
    {
      "cell_type": "markdown",
      "metadata": {
        "id": "6wWuXHAqpMb8"
      },
      "source": [
        "De manera más simple, puede especificar explícitamente el nombre de la columna de clave usando la palabra clave `on`, que toma un nombre de columna o una lista de nombres de columna:"
      ]
    },
    {
      "cell_type": "code",
      "metadata": {
        "id": "I86NDMvYV8Ap"
      },
      "source": [
        "display('df1', 'df2', \"pd.merge(df1, df2, on='employee')\")"
      ],
      "execution_count": null,
      "outputs": []
    },
    {
      "cell_type": "markdown",
      "metadata": {
        "id": "fCBVREA_V8Ap"
      },
      "source": [
        "Esta opción solo funciona si tanto la izquierda como la derecha del `DataFrame` tienen el nombre de columna especificado."
      ]
    },
    {
      "cell_type": "markdown",
      "metadata": {
        "id": "eMnNpnXrV8Aq"
      },
      "source": [
        "### Las palabras clave ``left_on`` y ``right_on``"
      ]
    },
    {
      "cell_type": "markdown",
      "metadata": {
        "id": "a6zapi0ZpuSi"
      },
      "source": [
        "En ocasiones, es posible que desee fusionar dos conjuntos de datos con diferentes nombres de columna; por ejemplo, podemos tener un conjunto de datos en el que el nombre del empleado está etiquetado como \"nombre\" en lugar de \"empleado\". En este caso, podemos usar las palabras clave `left_on` y `right_on` para especificar los dos nombres de columna:"
      ]
    },
    {
      "cell_type": "code",
      "metadata": {
        "id": "1mj5AB03V8Aq"
      },
      "source": [
        "df3 = pd.DataFrame({'name': ['Bob', 'Jake', 'Lisa', 'Sue'],\n",
        "                    'salary': [70000, 80000, 120000, 90000]})\n",
        "display('df1', 'df3', 'pd.merge(df1, df3, left_on=\"employee\", right_on=\"name\")')"
      ],
      "execution_count": null,
      "outputs": []
    },
    {
      "cell_type": "markdown",
      "metadata": {
        "id": "GKELHblFV8Ar"
      },
      "source": [
        "El resultado tiene una columna redundante que podemos eliminar si lo deseamos, por ejemplo, usando el método `drop()` de `DataFrames`:"
      ]
    },
    {
      "cell_type": "code",
      "metadata": {
        "id": "VYTvISvxV8Ar"
      },
      "source": [
        "pd.merge(df1, df3, left_on=\"employee\", right_on=\"name\").drop('name', axis=1)"
      ],
      "execution_count": null,
      "outputs": []
    },
    {
      "cell_type": "markdown",
      "metadata": {
        "id": "Yg599spCV8As"
      },
      "source": [
        "### Las palabras clave ``left_index`` y ``right_index``"
      ]
    },
    {
      "cell_type": "markdown",
      "metadata": {
        "id": "8eyFk81Gp_dd"
      },
      "source": [
        "A veces, en lugar de fusionar en una columna, le gustaría fusionar en un índice. Por ejemplo, sus datos podrían verse así:"
      ]
    },
    {
      "cell_type": "code",
      "metadata": {
        "id": "EDLAgSXaV8At"
      },
      "source": [
        "df1a = df1.set_index('employee')\n",
        "df2a = df2.set_index('employee')\n",
        "display('df1a', 'df2a')"
      ],
      "execution_count": null,
      "outputs": []
    },
    {
      "cell_type": "markdown",
      "metadata": {
        "id": "1nzvL8QFV8At"
      },
      "source": [
        "Puede usar el índice como clave para fusionar especificando los indicadores `left_index` y/o `right_index` en `pd.merge()`:"
      ]
    },
    {
      "cell_type": "code",
      "metadata": {
        "id": "uU8fb-swV8Au"
      },
      "source": [
        "display('df1a', 'df2a',\n",
        "        \"pd.merge(df1a, df2a, left_index=True, right_index=True)\")"
      ],
      "execution_count": null,
      "outputs": []
    },
    {
      "cell_type": "markdown",
      "metadata": {
        "id": "QGlX91qHV8Au"
      },
      "source": [
        "Para mayor comodidad, `DataFrame` implemente el método `join()`, que realiza una combinación que, por defecto, se une a los índices:"
      ]
    },
    {
      "cell_type": "code",
      "metadata": {
        "id": "BAsHB0IeV8Au"
      },
      "source": [
        "display('df1a', 'df2a', 'df1a.join(df2a)')"
      ],
      "execution_count": null,
      "outputs": []
    },
    {
      "cell_type": "markdown",
      "metadata": {
        "id": "r0JaITskV8Av"
      },
      "source": [
        "Si desea mezclar índices y columnas, puede combinar `left_index` con `right_on` o `left_on` con `right_index` para obtener el comportamiento deseado:"
      ]
    },
    {
      "cell_type": "code",
      "metadata": {
        "id": "yRlznPqvV8Av"
      },
      "source": [
        "display('df1a', 'df3', \"pd.merge(df1a, df3, left_index=True, right_on='name')\")"
      ],
      "execution_count": null,
      "outputs": []
    },
    {
      "cell_type": "markdown",
      "metadata": {
        "id": "BEJFA5VzV8Aw"
      },
      "source": [
        "## Especificación de la aritmética de conjuntos para combinaciones "
      ]
    },
    {
      "cell_type": "markdown",
      "metadata": {
        "id": "WhsHQu2BV8Aw"
      },
      "source": [
        "En todos los ejemplos anteriores hemos pasado por alto una consideración importante al realizar una combinación: el tipo de aritmética de conjuntos utilizada en la combinación. Aparece cuando aparece un valor en una columna clave pero no en la otra. Considere este ejemplo:"
      ]
    },
    {
      "cell_type": "code",
      "metadata": {
        "id": "nusZGvRCV8Ax"
      },
      "source": [
        "df6 = pd.DataFrame({'name': ['Peter', 'Paul', 'Mary'],\n",
        "                    'food': ['fish', 'beans', 'bread']},\n",
        "                   columns=['name', 'food'])\n",
        "df7 = pd.DataFrame({'name': ['Mary', 'Joseph'],\n",
        "                    'drink': ['wine', 'beer']},\n",
        "                   columns=['name', 'drink'])\n",
        "display('df6', 'df7', 'pd.merge(df6, df7)')"
      ],
      "execution_count": null,
      "outputs": []
    },
    {
      "cell_type": "markdown",
      "metadata": {
        "id": "zmtmMtnVV8Ax"
      },
      "source": [
        "Aquí hemos fusionado dos conjuntos de datos que tienen una sola entrada de \"nombre\" en común: Mary. De forma predeterminada, el resultado contiene la intersección de los dos conjuntos de entradas; esto es lo que se conoce como unión interna. Podemos especificar esto explícitamente usando la palabra clave `how`, que por defecto es `\"inner\"`:"
      ]
    },
    {
      "cell_type": "code",
      "metadata": {
        "id": "8GREv1FYV8Ax"
      },
      "source": [
        "pd.merge(df6, df7, how='inner')"
      ],
      "execution_count": null,
      "outputs": []
    },
    {
      "cell_type": "markdown",
      "metadata": {
        "id": "qjYRfib4V8Ay"
      },
      "source": [
        "Otras opciones para la palabra clave son `how`, `outer`, `left` y `right`. Una combinación externa devuelve una combinación sobre la unión de las columnas de entrada y completa todos los valores faltantes con NA:"
      ]
    },
    {
      "cell_type": "code",
      "metadata": {
        "id": "-nnV90P-V8Ay"
      },
      "source": [
        "display('df6', 'df7', \"pd.merge(df6, df7, how='outer')\")"
      ],
      "execution_count": null,
      "outputs": []
    },
    {
      "cell_type": "markdown",
      "metadata": {
        "id": "3Srxvmq7V8Ay"
      },
      "source": [
        "La combinación *left join* y *right join*  se unen a las entradas de la izquierda y de la derecha, respectivamente. Por ejemplo:"
      ]
    },
    {
      "cell_type": "code",
      "metadata": {
        "id": "9jAwm7e3V8Az"
      },
      "source": [
        "display('df6', 'df7', \"pd.merge(df6, df7, how='left')\")"
      ],
      "execution_count": null,
      "outputs": []
    },
    {
      "cell_type": "markdown",
      "metadata": {
        "id": "f6MLxq3tV8Az"
      },
      "source": [
        "Las filas de salida ahora corresponden a las entradas de la entrada de la izquierda. El uso `how='right'` funciona de manera similar.\n",
        "\n",
        "Todas estas opciones se pueden aplicar directamente a cualquiera de los tipos de combinación anteriores."
      ]
    },
    {
      "cell_type": "markdown",
      "metadata": {
        "id": "Z4otHbeWV8Az"
      },
      "source": [
        "## Nombres de columnas superpuestos: La palabra clabe ``suffixes``"
      ]
    },
    {
      "cell_type": "markdown",
      "metadata": {
        "id": "36gHIaViV8A0"
      },
      "source": [
        "Finalmente, puede terminar en un caso en el que sus dos entradas `DataFrame` tengan nombres de columna en conflicto. Considere este ejemplo:"
      ]
    },
    {
      "cell_type": "code",
      "metadata": {
        "id": "3l63t-qJV8A0"
      },
      "source": [
        "df8 = pd.DataFrame({'name': ['Bob', 'Jake', 'Lisa', 'Sue'],\n",
        "                    'rank': [1, 2, 3, 4]})\n",
        "df9 = pd.DataFrame({'name': ['Bob', 'Jake', 'Lisa', 'Sue'],\n",
        "                    'rank': [3, 1, 4, 2]})\n",
        "display('df8', 'df9', 'pd.merge(df8, df9, on=\"name\")')"
      ],
      "execution_count": null,
      "outputs": []
    },
    {
      "cell_type": "markdown",
      "metadata": {
        "id": "ixMqnJiyV8A0"
      },
      "source": [
        "Debido a que la salida tendría dos nombres de columna en conflicto, la función de combinación agrega automáticamente un sufijo `_x` o `_y` para que las columnas de salida sean únicas. Si estos valores predeterminados son inapropiados, es posible especificar un sufijo personalizado usando la suffixespalabra clave:"
      ]
    },
    {
      "cell_type": "code",
      "metadata": {
        "id": "AzX80OkrV8A1"
      },
      "source": [
        "display('df8', 'df9', 'pd.merge(df8, df9, on=\"name\", suffixes=[\"_L\", \"_R\"])')"
      ],
      "execution_count": null,
      "outputs": []
    },
    {
      "cell_type": "markdown",
      "metadata": {
        "id": "ykeAapX-V8A1"
      },
      "source": [
        "Estos sufijos funcionan en cualquiera de los posibles patrones de combinación y también funcionan si hay varias columnas superpuestas."
      ]
    },
    {
      "cell_type": "markdown",
      "metadata": {
        "id": "KVBnUextWEzO"
      },
      "source": [
        "# Agregación y agrupación"
      ]
    },
    {
      "cell_type": "markdown",
      "metadata": {
        "collapsed": true,
        "id": "R1pd9hHhWEzO"
      },
      "source": [
        "Una pieza esencial del análisis de datos de gran tamaño es sumarización eficiente: agregaciones de computación como `sum()`, `mean()`, `median()`, `min()` y `max()`, en los que un número da una idea de la naturaleza de un potencialmente gran conjunto de datos."
      ]
    },
    {
      "cell_type": "markdown",
      "metadata": {
        "id": "OkiCRUrzWEzP"
      },
      "source": [
        "Por conveniencia, usaremos la misma función mágica `display`"
      ]
    },
    {
      "cell_type": "code",
      "metadata": {
        "collapsed": true,
        "id": "Ue_9bA4lWEzP"
      },
      "source": [
        "import numpy as np\n",
        "import pandas as pd\n",
        "\n",
        "class display(object):\n",
        "    \"\"\"Display HTML representation of multiple objects\"\"\"\n",
        "    template = \"\"\"<div style=\"float: left; padding: 10px;\">\n",
        "    <p style='font-family:\"Courier New\", Courier, monospace'>{0}</p>{1}\n",
        "    </div>\"\"\"\n",
        "    def __init__(self, *args):\n",
        "        self.args = args\n",
        "        \n",
        "    def _repr_html_(self):\n",
        "        return '\\n'.join(self.template.format(a, eval(a)._repr_html_())\n",
        "                         for a in self.args)\n",
        "    \n",
        "    def __repr__(self):\n",
        "        return '\\n\\n'.join(a + '\\n' + repr(eval(a))\n",
        "                           for a in self.args)"
      ],
      "execution_count": null,
      "outputs": []
    },
    {
      "cell_type": "markdown",
      "metadata": {
        "id": "bN44lkaiWEzQ"
      },
      "source": [
        "## Datos de planetas"
      ]
    },
    {
      "cell_type": "markdown",
      "metadata": {
        "id": "z1FoRt2Gs5bk"
      },
      "source": [
        "Proporciona información sobre planetas que los astrónomos han descubierto alrededor de otras estrellas (conocidos como planetas extrasolares o exoplanetas para abreviar). Se puede descargar con un simple comando de Seaborn:"
      ]
    },
    {
      "cell_type": "code",
      "metadata": {
        "id": "G8AEX1ERWEzQ",
        "outputId": "7ce55d90-68ba-43f4-8123-34028ce658bf"
      },
      "source": [
        "import seaborn as sns\n",
        "planets = sns.load_dataset('planets')\n",
        "planets.shape"
      ],
      "execution_count": null,
      "outputs": [
        {
          "output_type": "execute_result",
          "data": {
            "text/plain": [
              "(1035, 6)"
            ]
          },
          "metadata": {
            "tags": []
          },
          "execution_count": 2
        }
      ]
    },
    {
      "cell_type": "code",
      "metadata": {
        "id": "LQnT-66AWEzS"
      },
      "source": [
        "planets.head()"
      ],
      "execution_count": null,
      "outputs": []
    },
    {
      "cell_type": "markdown",
      "metadata": {
        "id": "wEnpRV7fWEzS"
      },
      "source": [
        "Esto tiene algunos detalles sobre los más de 1000 planetas extrasolares descubiertos hasta 2014."
      ]
    },
    {
      "cell_type": "markdown",
      "metadata": {
        "id": "bAL3wDvoWEzT"
      },
      "source": [
        "## Agregación simple en Pandas"
      ]
    },
    {
      "cell_type": "markdown",
      "metadata": {
        "id": "r8aEOfNXWEzT"
      },
      "source": [
        "Al igual que con una matriz NumPy unidimensional, para Pandas `Series` los agregados devuelven un solo valor:"
      ]
    },
    {
      "cell_type": "code",
      "metadata": {
        "id": "_LTQBbbrWEzT"
      },
      "source": [
        "rng = np.random.RandomState(42)\n",
        "ser = pd.Series(rng.rand(5))\n",
        "ser"
      ],
      "execution_count": null,
      "outputs": []
    },
    {
      "cell_type": "code",
      "metadata": {
        "id": "ByTE3RteWEzU"
      },
      "source": [
        "ser.sum()"
      ],
      "execution_count": null,
      "outputs": []
    },
    {
      "cell_type": "code",
      "metadata": {
        "id": "ODLJAW6YWEzU"
      },
      "source": [
        "ser.mean()"
      ],
      "execution_count": null,
      "outputs": []
    },
    {
      "cell_type": "markdown",
      "metadata": {
        "id": "StcHVUttWEzV"
      },
      "source": [
        "Para un `DataFrame`, de forma predeterminada, los agregados devuelven resultados dentro de cada columna:"
      ]
    },
    {
      "cell_type": "code",
      "metadata": {
        "id": "y3OGxdi1WEzV"
      },
      "source": [
        "df = pd.DataFrame({'A': rng.rand(5),\n",
        "                   'B': rng.rand(5)})\n",
        "df"
      ],
      "execution_count": null,
      "outputs": []
    },
    {
      "cell_type": "code",
      "metadata": {
        "id": "ZUe-3P0bWEzV"
      },
      "source": [
        "df.mean()"
      ],
      "execution_count": null,
      "outputs": []
    },
    {
      "cell_type": "markdown",
      "metadata": {
        "id": "I34Hg7nSWEzW"
      },
      "source": [
        "Al especificar el argumento `axis`, puede agregar dentro de cada fila:"
      ]
    },
    {
      "cell_type": "code",
      "metadata": {
        "id": "L5rfuvucWEzW"
      },
      "source": [
        "df.mean(axis='columns')"
      ],
      "execution_count": null,
      "outputs": []
    },
    {
      "cell_type": "markdown",
      "metadata": {
        "id": "Ivl4wt4cWEzW"
      },
      "source": [
        "Existe un método de conveniencia `describe()` que calcula varios agregados comunes para cada columna y devuelve el resultado. Usemos esto en los datos de Planetas, por ahora descartando filas con valores faltantes:"
      ]
    },
    {
      "cell_type": "code",
      "metadata": {
        "id": "CpzQHvTBWEzX"
      },
      "source": [
        "planets.dropna().describe()"
      ],
      "execution_count": null,
      "outputs": []
    },
    {
      "cell_type": "markdown",
      "metadata": {
        "id": "l2CRsJEaWEzX"
      },
      "source": [
        "Esta puede ser una forma útil de comenzar a comprender las propiedades generales de un conjunto de datos. Por ejemplo, vemos en la columna `year` que, aunque los exoplanetas se descubrieron ya en 1989, la mitad de todos los expolanetas conocidos no se descubrieron hasta 2010 o después. Esto se debe en gran parte a la misión Kepler, que es un telescopio espacial diseñado específicamente para encontrar planetas eclipsantes alrededor de otras estrellas."
      ]
    },
    {
      "cell_type": "markdown",
      "metadata": {
        "id": "V0lAzj0_WEzY"
      },
      "source": [
        "La siguiente tabla resume algunas otras agregaciones integradas de Pandas:\n",
        "\n",
        "| Aggregation              | Description                     |\n",
        "|--------------------------|---------------------------------|\n",
        "| ``count()``              | Total number of items           |\n",
        "| ``first()``, ``last()``  | First and last item             |\n",
        "| ``mean()``, ``median()`` | Mean and median                 |\n",
        "| ``min()``, ``max()``     | Minimum and maximum             |\n",
        "| ``std()``, ``var()``     | Standard deviation and variance |\n",
        "| ``mad()``                | Mean absolute deviation         |\n",
        "| ``prod()``               | Product of all items            |\n",
        "| ``sum()``                | Sum of all items                |\n",
        "\n",
        "Todos estos son métodos de los objetos `DataFrame` y `Series`."
      ]
    },
    {
      "cell_type": "markdown",
      "metadata": {
        "id": "S9CK95xDWEzZ"
      },
      "source": [
        "## GroupBy: dividir, aplicar, combinar"
      ]
    },
    {
      "cell_type": "markdown",
      "metadata": {
        "id": "WdR7ErR5t__T"
      },
      "source": [
        "Las agregaciones simples pueden darle una idea de su conjunto de datos, pero a menudo preferimos agregar condicionalmente en alguna etiqueta o índice: esto se implementa en la llamada operación `groupby`. El nombre \"agrupar por\" proviene de un comando en el lenguaje de la base de datos SQL."
      ]
    },
    {
      "cell_type": "markdown",
      "metadata": {
        "id": "QD9na1EDWEzZ"
      },
      "source": [
        "### Dividir, aplicar, combinar "
      ]
    },
    {
      "cell_type": "markdown",
      "metadata": {
        "id": "ytXqLkHMuLop"
      },
      "source": [
        "En esta figura se ilustra un ejemplo canónico de esta operación dividir-aplicar-combinar, donde \"aplicar\" es una agregación de suma:"
      ]
    },
    {
      "cell_type": "markdown",
      "metadata": {
        "id": "oYNmyy4jWEzZ"
      },
      "source": [
        "![image.png](data:image/png;base64,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)"
      ]
    },
    {
      "cell_type": "markdown",
      "metadata": {
        "id": "MFo6ymQQWEza"
      },
      "source": [
        "Esto deja en claro lo que `groupby` logra:\n",
        "\n",
        "*  El paso de división implica dividir y agrupar un `DataFrame` según el valor de la clave especificada.\n",
        "*  El paso de aplicación implica el cálculo de alguna función, generalmente un agregado, transformación o filtrado, dentro de los grupos individuales.\n",
        "*  El paso de combinación fusiona los resultados de estas operaciones en una matriz de salida.\n",
        "\n",
        "Como ejemplo concreto, echemos un vistazo al uso de Pandas para el cálculo que se muestra en este diagrama. Comenzaremos creando la entrada DataFrame:"
      ]
    },
    {
      "cell_type": "code",
      "metadata": {
        "id": "44EG6Hw2WEzb"
      },
      "source": [
        "df = pd.DataFrame({'key': ['A', 'B', 'C', 'A', 'B', 'C'],\n",
        "                   'data': range(6)}, columns=['key', 'data'])\n",
        "df"
      ],
      "execution_count": null,
      "outputs": []
    },
    {
      "cell_type": "markdown",
      "metadata": {
        "id": "T4e16ZyiWEzc"
      },
      "source": [
        "La operación más básica de dividir-aplicar-combinar se puede calcular con el método `groupby()` de DataFrames, pasando el nombre de la columna de clave deseada:"
      ]
    },
    {
      "cell_type": "code",
      "metadata": {
        "id": "i1JHYn_0WEze"
      },
      "source": [
        "df.groupby('key')"
      ],
      "execution_count": null,
      "outputs": []
    },
    {
      "cell_type": "markdown",
      "metadata": {
        "id": "xXdvjKgWWEze"
      },
      "source": [
        "Observe que lo que se devuelve no es un conjunto de `DataFrames`, sino un objeto `DataFrameGroupBy`. Este objeto es donde está la magia: puede pensar en él como una vista especial de `DataFrame`, que está preparada para profundizar en los grupos, pero no realiza ningún cálculo real hasta que se aplica la agregación. Este enfoque de \"evaluación perezosa\" significa que los agregados comunes se pueden implementar de manera muy eficiente de una manera que es casi transparente para el usuario.\n",
        "\n",
        "Para producir un resultado, podemos aplicar un agregado a este objeto `DataFrameGroupBy`, que realizará los pasos apropiados de aplicación/combinación para producir el resultado deseado:"
      ]
    },
    {
      "cell_type": "code",
      "metadata": {
        "id": "gyjsIK4CWEzf"
      },
      "source": [
        "df.groupby('key').sum()"
      ],
      "execution_count": null,
      "outputs": []
    },
    {
      "cell_type": "markdown",
      "metadata": {
        "id": "rOK9pAeWWEzg"
      },
      "source": [
        "El método `sum()` es solo una posibilidad aquí; puede aplicar prácticamente cualquier función de agregación Pandas o NumPy común, así como prácticamente cualquier operación `DataFrame` válida."
      ]
    },
    {
      "cell_type": "markdown",
      "metadata": {
        "id": "rU_YECyQWEzg"
      },
      "source": [
        "### El objeto GroupBy "
      ]
    },
    {
      "cell_type": "markdown",
      "metadata": {
        "id": "AW7sWSFJvdie"
      },
      "source": [
        "El objeto `GroupBy` es una abstracción muy flexible. En muchos sentidos, simplemente puede tratarlo como si fuera una colección de mensajes `DataFrame` de correo electrónico, y hace las cosas difíciles bajo el capó. Veamos algunos ejemplos usando los datos de Planetas.\n",
        "\n",
        "Quizás las operaciones más importantes que pone a disposición un `GroupBy` son agregar, filtrar, transformar y aplicar."
      ]
    },
    {
      "cell_type": "markdown",
      "metadata": {
        "id": "fZClzF69WEzh"
      },
      "source": [
        "#### Indexación de columnas"
      ]
    },
    {
      "cell_type": "markdown",
      "metadata": {
        "id": "1sHXMiXnvyTY"
      },
      "source": [
        "El objeto `GroupBy` admite la indexación de columnas de la misma manera que `DataFrame`, y devuelve un objeto `GroupBy` modificado . Por ejemplo:"
      ]
    },
    {
      "cell_type": "code",
      "metadata": {
        "id": "Hcd4zuwDWEzh"
      },
      "source": [
        "planets.groupby('method')"
      ],
      "execution_count": null,
      "outputs": []
    },
    {
      "cell_type": "code",
      "metadata": {
        "id": "w2XHK-ekWEzi"
      },
      "source": [
        "planets.groupby('method')['orbital_period']"
      ],
      "execution_count": null,
      "outputs": []
    },
    {
      "cell_type": "markdown",
      "metadata": {
        "id": "SxUs-TipWEzi"
      },
      "source": [
        "Aquí hemos seleccionado un grupo `Series` en particular del grupo original `DataFrame` por referencia a su nombre de columna. Al igual que con el objeto `GroupBy`, no se realiza ningún cálculo hasta que llamamos a algún agregado en el objeto:"
      ]
    },
    {
      "cell_type": "code",
      "metadata": {
        "id": "a_HO9tUrWEzi"
      },
      "source": [
        "planets.groupby('method')['orbital_period'].median()"
      ],
      "execution_count": null,
      "outputs": []
    },
    {
      "cell_type": "markdown",
      "metadata": {
        "id": "pKseYrKNWEzj"
      },
      "source": [
        "Esto da una idea de la escala general de períodos orbitales (en días) a los que es sensible cada método."
      ]
    },
    {
      "cell_type": "markdown",
      "metadata": {
        "id": "g6Qe76HTWEzj"
      },
      "source": [
        "#### Iteración sobre grupos "
      ]
    },
    {
      "cell_type": "markdown",
      "metadata": {
        "id": "RAxjt4KGwKHC"
      },
      "source": [
        "El objeto GroupBy admite la iteración directa sobre los grupos, devolviendo cada grupo como un `Series` o `DataFrame`:"
      ]
    },
    {
      "cell_type": "code",
      "metadata": {
        "id": "ItkZvc3IWEzj"
      },
      "source": [
        "for (method, group) in planets.groupby('method'):\n",
        "    print(\"{0:30s} shape={1}\".format(method, group.shape))"
      ],
      "execution_count": null,
      "outputs": []
    },
    {
      "cell_type": "markdown",
      "metadata": {
        "id": "vI2U-Ug-WEzk"
      },
      "source": [
        "Esto puede ser útil para hacer ciertas cosas manualmente, aunque a menudo es mucho más rápido usar la funcionalidad `apply` incorporada."
      ]
    },
    {
      "cell_type": "markdown",
      "metadata": {
        "id": "j8swITbLWEzk"
      },
      "source": [
        "#### Métodos de envío"
      ]
    },
    {
      "cell_type": "markdown",
      "metadata": {
        "id": "qtytEiwfwaMJ"
      },
      "source": [
        "A través de un poco de magia de clase Python, cualquier método no implementado explícitamente por el objeto `GroupBy` pasará y se llamará a los grupos, ya sean objetos `DataFrame` u objetos `Series`. Por ejemplo, puede usar el método `describe()` de DataFrames para realizar un conjunto de agregaciones que describan cada grupo en los datos:"
      ]
    },
    {
      "cell_type": "code",
      "metadata": {
        "id": "UqSmpvJoWEzk"
      },
      "source": [
        "planets.groupby('method')['year'].describe().unstack()"
      ],
      "execution_count": null,
      "outputs": []
    },
    {
      "cell_type": "markdown",
      "metadata": {
        "id": "5OQnWmmUWEzk"
      },
      "source": [
        "Mirar esta tabla nos ayuda a comprender mejor los datos: por ejemplo, la gran mayoría de los planetas han sido descubiertos por los métodos de velocidad radial y tránsito, aunque este último solo se volvió común (debido a telescopios nuevos y más precisos) en la última década. Los métodos más nuevos parecen ser la variación del tiempo de tránsito y la modulación del brillo orbital, que no se utilizaron para descubrir un nuevo planeta hasta 2011.\n",
        "\n",
        "Este es solo un ejemplo de la utilidad de los métodos de envío. Observe que se aplican a cada grupo individual y, a continuación, los resultados se combinan devuelven `GroupBy`. Nuevamente, cualquier método válido `DataFrame` se puede usar en el objeto `GroupBy` correspondiente, lo que permite algunas operaciones muy flexibles y poderosas."
      ]
    },
    {
      "cell_type": "markdown",
      "metadata": {
        "id": "acWPYkvKWEzl"
      },
      "source": [
        "### Agregar, filtrar, transformar, aplicar "
      ]
    },
    {
      "cell_type": "markdown",
      "metadata": {
        "id": "OArMvBJNw6P3"
      },
      "source": [
        " En particular, los objetos `GroupBy` tienen métodos `aggregate()`, `filter()`, `transform()`, y `apply()` que implementan de manera eficiente una variedad de operaciones útiles antes de la combinación de los datos agrupados.\n",
        "\n",
        "Para el propósito de las siguientes subsecciones, usaremos esto DataFrame:"
      ]
    },
    {
      "cell_type": "code",
      "metadata": {
        "id": "4vRCFng0WEzl"
      },
      "source": [
        "rng = np.random.RandomState(0)\n",
        "df = pd.DataFrame({'key': ['A', 'B', 'C', 'A', 'B', 'C'],\n",
        "                   'data1': range(6),\n",
        "                   'data2': rng.randint(0, 10, 6)},\n",
        "                   columns = ['key', 'data1', 'data2'])\n",
        "df"
      ],
      "execution_count": null,
      "outputs": []
    },
    {
      "cell_type": "markdown",
      "metadata": {
        "id": "7MjJOMvKWEzm"
      },
      "source": [
        "#### Aggregation"
      ]
    },
    {
      "cell_type": "markdown",
      "metadata": {
        "id": "UtDO9SgkxGts"
      },
      "source": [
        "Ahora estamos familiarizados con las agregaciones `GroupBy` con `sum()`, `median()` y similares, pero el método `aggregate()` permite aún más flexibilidad. Puede tomar una cadena, una función o una lista de las mismas y calcular todos los agregados a la vez. Aquí hay un ejemplo rápido que combina todos estos:"
      ]
    },
    {
      "cell_type": "code",
      "metadata": {
        "id": "J_EPpCPRWEzm"
      },
      "source": [
        "df.groupby('key').aggregate(['min', np.median, max])"
      ],
      "execution_count": null,
      "outputs": []
    },
    {
      "cell_type": "markdown",
      "metadata": {
        "id": "9Pe_8nNsWEzm"
      },
      "source": [
        "Otro patrón útil es pasar un diccionario de nombres de columna de mapeo a operaciones que se aplicarán en esa columna:"
      ]
    },
    {
      "cell_type": "code",
      "metadata": {
        "id": "dOxhlZpYWEzn"
      },
      "source": [
        "df.groupby('key').aggregate({'data1': 'min',\n",
        "                             'data2': 'max'})"
      ],
      "execution_count": null,
      "outputs": []
    },
    {
      "cell_type": "markdown",
      "metadata": {
        "id": "Bm-MP_EmWEzn"
      },
      "source": [
        "#### Filtering"
      ]
    },
    {
      "cell_type": "markdown",
      "metadata": {
        "id": "zV9jTz5TxTCs"
      },
      "source": [
        "Una operación de filtrado le permite eliminar datos según las propiedades del grupo. Por ejemplo, podríamos querer mantener todos los grupos en los que la desviación estándar es mayor que algún valor crítico:"
      ]
    },
    {
      "cell_type": "code",
      "metadata": {
        "id": "u0_oEJiCWEzo"
      },
      "source": [
        "def filter_func(x):\n",
        "    return x['data2'].std() > 4\n",
        "\n",
        "display('df', \"df.groupby('key').std()\", \"df.groupby('key').filter(filter_func)\")"
      ],
      "execution_count": null,
      "outputs": []
    },
    {
      "cell_type": "markdown",
      "metadata": {
        "id": "EeglOPcsWEzo"
      },
      "source": [
        "La función de filtro debe devolver un valor booleano que especifique si el grupo pasa el filtrado. Aquí, debido a que el grupo A no tiene una desviación estándar mayor que 4, se elimina del resultado."
      ]
    },
    {
      "cell_type": "markdown",
      "metadata": {
        "id": "mDpIrRPWWEzo"
      },
      "source": [
        "#### Transformation"
      ]
    },
    {
      "cell_type": "markdown",
      "metadata": {
        "id": "rlwuI0BSxbIC"
      },
      "source": [
        "Si bien la agregación debe devolver una versión reducida de los datos, la transformación puede devolver alguna versión transformada de los datos completos para recombinarlos. Para tal transformación, la salida tiene la misma forma que la entrada. Un ejemplo común es centrar los datos restando la media del grupo:"
      ]
    },
    {
      "cell_type": "code",
      "metadata": {
        "id": "p1ebUT2UWEzp"
      },
      "source": [
        "df.groupby('key').transform(lambda x: x - x.mean())"
      ],
      "execution_count": null,
      "outputs": []
    },
    {
      "cell_type": "markdown",
      "metadata": {
        "id": "2-MQ3YYGWEzp"
      },
      "source": [
        "#### El método apply()"
      ]
    },
    {
      "cell_type": "markdown",
      "metadata": {
        "id": "xtALrtwxxiWg"
      },
      "source": [
        "El método `apply()` le permite aplicar una función arbitraria a los resultados del grupo. La función debe tomar una `DataFrame`, y volver ya sea un objeto pandas (por ejemplo, `DataFrame`, `Series`) o un escalar; la operación de combinación se adaptará al tipo de salida devuelta.\n",
        "\n",
        "Por ejemplo, aquí hay un `apply()` que normaliza la primera columna por la suma de la segunda:"
      ]
    },
    {
      "cell_type": "code",
      "metadata": {
        "id": "v5QPo9hgWEzp"
      },
      "source": [
        "def norm_by_data2(x):\n",
        "    # x is a DataFrame of group values\n",
        "    x['data1'] /= x['data2'].sum()\n",
        "    return x\n",
        "\n",
        "display('df', \"df.groupby('key').apply(norm_by_data2)\")"
      ],
      "execution_count": null,
      "outputs": []
    },
    {
      "cell_type": "markdown",
      "metadata": {
        "id": "cNslfCjiWEzq"
      },
      "source": [
        "`apply()` dentro de a `GroupBy` es bastante flexible: el único criterio es que la función tome a `DataFrame` y devuelva un objeto o escalar de Pandas."
      ]
    },
    {
      "cell_type": "markdown",
      "metadata": {
        "id": "KT_cNT7kWEzq"
      },
      "source": [
        "### Especificando la clave de división"
      ]
    },
    {
      "cell_type": "markdown",
      "metadata": {
        "id": "Dxi0NpSZWEzq"
      },
      "source": [
        "#### Una lista, matriz, serie o índice que proporciona las claves de agrupación"
      ]
    },
    {
      "cell_type": "markdown",
      "metadata": {
        "id": "oiZC1xUAx9k4"
      },
      "source": [
        "La clave puede ser cualquier serie o lista con una longitud que coincida con la del `DataFrame`. Por ejemplo:"
      ]
    },
    {
      "cell_type": "code",
      "metadata": {
        "id": "tRZZ2X66WEzr"
      },
      "source": [
        "L = [0, 1, 0, 1, 2, 0]\n",
        "display('df', 'df.groupby(L).sum()')"
      ],
      "execution_count": null,
      "outputs": []
    },
    {
      "cell_type": "markdown",
      "metadata": {
        "id": "-4w8GsOsWEzr"
      },
      "source": [
        "Por supuesto, esto significa que hay otra forma más detallada de lograr lo `df.groupby('key')` de antes:"
      ]
    },
    {
      "cell_type": "code",
      "metadata": {
        "id": "Y32QFp0OWEzs"
      },
      "source": [
        "display('df', \"df.groupby(df['key']).sum()\")"
      ],
      "execution_count": null,
      "outputs": []
    },
    {
      "cell_type": "markdown",
      "metadata": {
        "id": "TeCLXhkKWEzs"
      },
      "source": [
        "#### Un índice de mapeo de diccionario o serie al grupo"
      ]
    },
    {
      "cell_type": "markdown",
      "metadata": {
        "id": "aB1hZL54yIBG"
      },
      "source": [
        "Otro método es proporcionar un diccionario que asigne valores de índice a las claves de grupo:"
      ]
    },
    {
      "cell_type": "code",
      "metadata": {
        "id": "cJd0UiIqWEzs"
      },
      "source": [
        "df2 = df.set_index('key')\n",
        "mapping = {'A': 'vowel', 'B': 'consonant', 'C': 'consonant'}\n",
        "display('df2', 'df2.groupby(mapping).sum()')"
      ],
      "execution_count": null,
      "outputs": []
    },
    {
      "cell_type": "markdown",
      "metadata": {
        "id": "YTxjkZ0YWEzt"
      },
      "source": [
        "#### Cualquier función de Python"
      ]
    },
    {
      "cell_type": "markdown",
      "metadata": {
        "id": "-x4B7A9xyNzI"
      },
      "source": [
        "De manera similar a la asignación, puede pasar cualquier función de Python que ingrese el valor del índice y genere el grupo:"
      ]
    },
    {
      "cell_type": "code",
      "metadata": {
        "id": "fkh2EumwWEzt"
      },
      "source": [
        "display('df2', 'df2.groupby(str.lower).mean()')"
      ],
      "execution_count": null,
      "outputs": []
    },
    {
      "cell_type": "markdown",
      "metadata": {
        "id": "5kBG_OjWWEzu"
      },
      "source": [
        "#### Una lista de claves válidas"
      ]
    },
    {
      "cell_type": "markdown",
      "metadata": {
        "id": "g9NoNu8xySgG"
      },
      "source": [
        "Además, cualquiera de las opciones de clave anteriores se puede combinar para agrupar en un índice múltiple:"
      ]
    },
    {
      "cell_type": "code",
      "metadata": {
        "id": "yGFTBKIYWEzu"
      },
      "source": [
        "df2.groupby([str.lower, mapping]).mean()"
      ],
      "execution_count": null,
      "outputs": []
    },
    {
      "cell_type": "markdown",
      "metadata": {
        "id": "3ao7CMP7WEzu"
      },
      "source": [
        "### Ejemplo de agrupación "
      ]
    },
    {
      "cell_type": "markdown",
      "metadata": {
        "id": "5BAb_GpyyXDX"
      },
      "source": [
        "Como ejemplo de esto, en un par de líneas de código Python podemos juntar todo esto y contar los planetas descubiertos por método y por década:"
      ]
    },
    {
      "cell_type": "code",
      "metadata": {
        "id": "6oB6REISWEzu"
      },
      "source": [
        "decade = 10 * (planets['year'] // 10)\n",
        "decade = decade.astype(str) + 's'\n",
        "decade.name = 'decade'\n",
        "planets.groupby(['method', decade])['number'].sum().unstack().fillna(0)"
      ],
      "execution_count": null,
      "outputs": []
    },
    {
      "cell_type": "markdown",
      "metadata": {
        "id": "FKAwf-nLWEzv"
      },
      "source": [
        "Esto muestra el poder de combinar muchas de las operaciones que hemos discutido hasta este punto cuando miramos conjuntos de datos realistas. Inmediatamente obtenemos una comprensión aproximada de cuándo y cómo se han descubierto los planetas en las últimas décadas."
      ]
    }
  ]
}